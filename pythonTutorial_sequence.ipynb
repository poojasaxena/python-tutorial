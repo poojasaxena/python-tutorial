{
 "cells": [
  {
   "cell_type": "code",
   "execution_count": 1,
   "id": "written-journal",
   "metadata": {},
   "outputs": [
    {
     "data": {
      "application/javascript": [
       "IPython.notebook.set_autosave_interval(30000)"
      ]
     },
     "metadata": {},
     "output_type": "display_data"
    },
    {
     "name": "stdout",
     "output_type": "stream",
     "text": [
      "Autosaving every 30 seconds\n"
     ]
    }
   ],
   "source": [
    "%autosave 30"
   ]
  },
  {
   "cell_type": "markdown",
   "id": "known-wound",
   "metadata": {},
   "source": [
    "## List Data Type\n",
    "<div>\n",
    "<img src=\"images/python_data_type.png\" width=\"300\" height=\"200\" style=\"float:left\"/>\n",
    "</div>"
   ]
  },
  {
   "cell_type": "markdown",
   "id": "religious-migration",
   "metadata": {},
   "source": [
    "### Tutorial"
   ]
  },
  {
   "cell_type": "markdown",
   "id": "variable-warning",
   "metadata": {},
   "source": [
    "#### Slicing a list"
   ]
  },
  {
   "cell_type": "code",
   "execution_count": 189,
   "id": "joint-citizenship",
   "metadata": {},
   "outputs": [
    {
     "data": {
      "text/plain": [
       "['dog', 'rat', 'elephant']"
      ]
     },
     "execution_count": 189,
     "metadata": {},
     "output_type": "execute_result"
    }
   ],
   "source": [
    "spam=['cat','bat','dog','rat','elephant']\n",
    "spam[2:]"
   ]
  },
  {
   "cell_type": "code",
   "execution_count": 6,
   "id": "organized-retirement",
   "metadata": {},
   "outputs": [
    {
     "data": {
      "text/plain": [
       "'Hello bat'"
      ]
     },
     "execution_count": 6,
     "metadata": {},
     "output_type": "execute_result"
    }
   ],
   "source": [
    "'Hello '+spam[1]"
   ]
  },
  {
   "cell_type": "code",
   "execution_count": 17,
   "id": "former-supervisor",
   "metadata": {},
   "outputs": [
    {
     "data": {
      "text/plain": [
       "['cat', 'bat']"
      ]
     },
     "execution_count": 17,
     "metadata": {},
     "output_type": "execute_result"
    }
   ],
   "source": [
    "spam=[['cat','bat'], [10,20,304,450]]\n",
    "spam[0]"
   ]
  },
  {
   "cell_type": "code",
   "execution_count": 8,
   "id": "detailed-parallel",
   "metadata": {},
   "outputs": [
    {
     "data": {
      "text/plain": [
       "'bat'"
      ]
     },
     "execution_count": 8,
     "metadata": {},
     "output_type": "execute_result"
    }
   ],
   "source": [
    "spam[0][1]"
   ]
  },
  {
   "cell_type": "code",
   "execution_count": 10,
   "id": "impossible-roberts",
   "metadata": {},
   "outputs": [
    {
     "data": {
      "text/plain": [
       "10"
      ]
     },
     "execution_count": 10,
     "metadata": {},
     "output_type": "execute_result"
    }
   ],
   "source": [
    "spam[1][0]"
   ]
  },
  {
   "cell_type": "markdown",
   "id": "broke-finance",
   "metadata": {},
   "source": [
    "#### Reversing a list"
   ]
  },
  {
   "cell_type": "code",
   "execution_count": 1,
   "id": "atlantic-appearance",
   "metadata": {},
   "outputs": [
    {
     "data": {
      "text/plain": [
       "['elephant', 'rat', 'dog', 'bat', 'cat']"
      ]
     },
     "execution_count": 1,
     "metadata": {},
     "output_type": "execute_result"
    }
   ],
   "source": [
    "spam=['cat','bat','dog','rat','elephant']\n",
    "spam[::-1]"
   ]
  },
  {
   "cell_type": "code",
   "execution_count": 2,
   "id": "cellular-bouquet",
   "metadata": {},
   "outputs": [
    {
     "data": {
      "text/plain": [
       "'elephant'"
      ]
     },
     "execution_count": 2,
     "metadata": {},
     "output_type": "execute_result"
    }
   ],
   "source": [
    "spam[-1]"
   ]
  },
  {
   "cell_type": "code",
   "execution_count": 4,
   "id": "ee9d15d3",
   "metadata": {},
   "outputs": [
    {
     "data": {
      "text/plain": [
       "['cat', 'bat', 'dog', 'rat', 'elephant']"
      ]
     },
     "execution_count": 4,
     "metadata": {},
     "output_type": "execute_result"
    }
   ],
   "source": [
    "spam.reverse()\n",
    "spam"
   ]
  },
  {
   "cell_type": "markdown",
   "id": "ahead-secondary",
   "metadata": {},
   "source": [
    "#### Concatenation of lists"
   ]
  },
  {
   "cell_type": "code",
   "execution_count": 5,
   "id": "magnetic-roberts",
   "metadata": {},
   "outputs": [
    {
     "data": {
      "text/plain": [
       "[1, 2, 3, 4, 3, 4, 5, 6, 7]"
      ]
     },
     "execution_count": 5,
     "metadata": {},
     "output_type": "execute_result"
    }
   ],
   "source": [
    "[1,2,3,4]+[3,4,5,6,7]"
   ]
  },
  {
   "cell_type": "code",
   "execution_count": 20,
   "id": "executive-filling",
   "metadata": {},
   "outputs": [
    {
     "data": {
      "text/plain": [
       "[1, 2, 2, 3, 4, 1, 2, 2, 3, 4, 1, 2, 2, 3, 4]"
      ]
     },
     "execution_count": 20,
     "metadata": {},
     "output_type": "execute_result"
    }
   ],
   "source": [
    "[1,2,2,3,4]*3"
   ]
  },
  {
   "cell_type": "code",
   "execution_count": 6,
   "id": "3cbc403b",
   "metadata": {},
   "outputs": [
    {
     "data": {
      "text/plain": [
       "[1, 2, 3, 4, 5, 6]"
      ]
     },
     "execution_count": 6,
     "metadata": {},
     "output_type": "execute_result"
    }
   ],
   "source": [
    "aList = [1,2,3]\n",
    "bList = [4,5,6]\n",
    "aList += bList\n",
    "aList"
   ]
  },
  {
   "cell_type": "code",
   "execution_count": 7,
   "id": "889922b3",
   "metadata": {},
   "outputs": [
    {
     "data": {
      "text/plain": [
       "[1, 2, 3, 4, 5, 6, 4, 5, 6]"
      ]
     },
     "execution_count": 7,
     "metadata": {},
     "output_type": "execute_result"
    }
   ],
   "source": [
    "aList.extend(bList)\n",
    "aList"
   ]
  },
  {
   "cell_type": "code",
   "execution_count": 21,
   "id": "sacred-freight",
   "metadata": {},
   "outputs": [
    {
     "data": {
      "text/plain": [
       "[[10, 20, 304, 450]]"
      ]
     },
     "execution_count": 21,
     "metadata": {},
     "output_type": "execute_result"
    }
   ],
   "source": [
    "del spam[0]\n",
    "spam"
   ]
  },
  {
   "cell_type": "markdown",
   "id": "c6d8eb30",
   "metadata": {},
   "source": [
    "#### How to add common string to each element of list"
   ]
  },
  {
   "cell_type": "code",
   "execution_count": 1,
   "id": "90281865",
   "metadata": {},
   "outputs": [
    {
     "name": "stdout",
     "output_type": "stream",
     "text": [
      "['pooja_saxena', 'saxena_saxena', 'sumidhi_saxena']\n"
     ]
    }
   ],
   "source": [
    "aList= [\"pooja\", \"saxena\", 'sumidhi']\n",
    "common_string=\"_saxena\"\n",
    "nextList = [s+common_string for s in aList]\n",
    "print(nextList)"
   ]
  },
  {
   "cell_type": "markdown",
   "id": "stunning-chicago",
   "metadata": {},
   "source": [
    "#### Using for loops with Lists"
   ]
  },
  {
   "cell_type": "code",
   "execution_count": 7,
   "id": "committed-maple",
   "metadata": {},
   "outputs": [
    {
     "name": "stdout",
     "output_type": "stream",
     "text": [
      "0 pesn\n",
      "1 staplers\n",
      "2 binders\n",
      "3 flameworks\n",
      "4 papers\n"
     ]
    },
    {
     "data": {
      "text/plain": [
       "[None, None, None, None, None]"
      ]
     },
     "execution_count": 7,
     "metadata": {},
     "output_type": "execute_result"
    }
   ],
   "source": [
    "supplies = ['pesn','staplers','binders','flameworks','papers']\n",
    "[print(i, supplies[i]) for i in range(len(supplies))]"
   ]
  },
  {
   "cell_type": "markdown",
   "id": "b8e9aae4",
   "metadata": {},
   "source": [
    "#### multiple operations in loop comprehension [ ]\n",
    "** reference : http://coddingbuddy.com/article/50683307/multiple-actions-in-list-comprehension-python"
   ]
  },
  {
   "cell_type": "code",
   "execution_count": 15,
   "id": "c036a61b",
   "metadata": {},
   "outputs": [
    {
     "data": {
      "text/plain": [
       "[0, 1, 2, 10, 11, 12, 20, 21, 22, 30, 31, 32]"
      ]
     },
     "execution_count": 15,
     "metadata": {},
     "output_type": "execute_result"
    }
   ],
   "source": [
    "[10*x+y for x in range(4) for y in range(3)]"
   ]
  },
  {
   "cell_type": "code",
   "execution_count": 16,
   "id": "13179f1c",
   "metadata": {},
   "outputs": [
    {
     "ename": "TypeError",
     "evalue": "'int' object is not iterable",
     "output_type": "error",
     "traceback": [
      "\u001b[0;31m---------------------------------------------------------------------------\u001b[0m",
      "\u001b[0;31mTypeError\u001b[0m                                 Traceback (most recent call last)",
      "\u001b[0;32m/var/folders/6n/xskqb5954jsfxw29ddrrqp74tqq6_x/T/ipykernel_19098/2866196816.py\u001b[0m in \u001b[0;36m<module>\u001b[0;34m\u001b[0m\n\u001b[1;32m      1\u001b[0m \u001b[0mx\u001b[0m\u001b[0;34m=\u001b[0m\u001b[0;34m[\u001b[0m\u001b[0;36m1\u001b[0m\u001b[0;34m,\u001b[0m\u001b[0;36m2\u001b[0m\u001b[0;34m]\u001b[0m\u001b[0;34m\u001b[0m\u001b[0;34m\u001b[0m\u001b[0m\n\u001b[1;32m      2\u001b[0m \u001b[0ml\u001b[0m\u001b[0;34m=\u001b[0m\u001b[0;34m[\u001b[0m\u001b[0;36m3\u001b[0m\u001b[0;34m,\u001b[0m\u001b[0;36m4\u001b[0m\u001b[0;34m]\u001b[0m\u001b[0;34m\u001b[0m\u001b[0;34m\u001b[0m\u001b[0m\n\u001b[0;32m----> 3\u001b[0;31m \u001b[0;34m[\u001b[0m\u001b[0;34m[\u001b[0m\u001b[0mfloat\u001b[0m\u001b[0;34m(\u001b[0m\u001b[0my\u001b[0m\u001b[0;34m)\u001b[0m \u001b[0;32mfor\u001b[0m \u001b[0my\u001b[0m \u001b[0;32min\u001b[0m \u001b[0mx\u001b[0m\u001b[0;34m]\u001b[0m \u001b[0;32mfor\u001b[0m \u001b[0mx\u001b[0m \u001b[0;32min\u001b[0m \u001b[0ml\u001b[0m\u001b[0;34m]\u001b[0m\u001b[0;34m\u001b[0m\u001b[0;34m\u001b[0m\u001b[0m\n\u001b[0m",
      "\u001b[0;32m/var/folders/6n/xskqb5954jsfxw29ddrrqp74tqq6_x/T/ipykernel_19098/2866196816.py\u001b[0m in \u001b[0;36m<listcomp>\u001b[0;34m(.0)\u001b[0m\n\u001b[1;32m      1\u001b[0m \u001b[0mx\u001b[0m\u001b[0;34m=\u001b[0m\u001b[0;34m[\u001b[0m\u001b[0;36m1\u001b[0m\u001b[0;34m,\u001b[0m\u001b[0;36m2\u001b[0m\u001b[0;34m]\u001b[0m\u001b[0;34m\u001b[0m\u001b[0;34m\u001b[0m\u001b[0m\n\u001b[1;32m      2\u001b[0m \u001b[0ml\u001b[0m\u001b[0;34m=\u001b[0m\u001b[0;34m[\u001b[0m\u001b[0;36m3\u001b[0m\u001b[0;34m,\u001b[0m\u001b[0;36m4\u001b[0m\u001b[0;34m]\u001b[0m\u001b[0;34m\u001b[0m\u001b[0;34m\u001b[0m\u001b[0m\n\u001b[0;32m----> 3\u001b[0;31m \u001b[0;34m[\u001b[0m\u001b[0;34m[\u001b[0m\u001b[0mfloat\u001b[0m\u001b[0;34m(\u001b[0m\u001b[0my\u001b[0m\u001b[0;34m)\u001b[0m \u001b[0;32mfor\u001b[0m \u001b[0my\u001b[0m \u001b[0;32min\u001b[0m \u001b[0mx\u001b[0m\u001b[0;34m]\u001b[0m \u001b[0;32mfor\u001b[0m \u001b[0mx\u001b[0m \u001b[0;32min\u001b[0m \u001b[0ml\u001b[0m\u001b[0;34m]\u001b[0m\u001b[0;34m\u001b[0m\u001b[0;34m\u001b[0m\u001b[0m\n\u001b[0m",
      "\u001b[0;31mTypeError\u001b[0m: 'int' object is not iterable"
     ]
    }
   ],
   "source": [
    "x=[1,2]\n",
    "l=[3,4]\n",
    "[[float(y) for y in x] for x in l]"
   ]
  },
  {
   "cell_type": "code",
   "execution_count": 11,
   "id": "27b54a8d",
   "metadata": {},
   "outputs": [
    {
     "data": {
      "text/plain": [
       "[51, 51, 51, 51, 51, 13, 13]"
      ]
     },
     "execution_count": 11,
     "metadata": {},
     "output_type": "execute_result"
    }
   ],
   "source": [
    "from random import randrange\n",
    "[randrange(hi) for num, hi in ((5, 51), (2, 13)) for _ in range(num)]"
   ]
  },
  {
   "cell_type": "code",
   "execution_count": 13,
   "id": "c787535d",
   "metadata": {},
   "outputs": [
    {
     "data": {
      "text/plain": [
       "[31, 26, 0, 18, 7, 0, 6]"
      ]
     },
     "execution_count": 13,
     "metadata": {},
     "output_type": "execute_result"
    }
   ],
   "source": [
    "from random import randint\n",
    "[randint(0, 50) for _ in range(5)] + [randint(0, 12) for _ in range(2)]"
   ]
  },
  {
   "cell_type": "code",
   "execution_count": 14,
   "id": "b4812c6e",
   "metadata": {},
   "outputs": [
    {
     "name": "stdout",
     "output_type": "stream",
     "text": [
      "bla1\n",
      "bla2\n",
      "bla1\n",
      "bla2\n",
      "bla1\n",
      "bla2\n"
     ]
    },
    {
     "data": {
      "text/plain": [
       "[(None, None), (None, None), (None, None)]"
      ]
     },
     "execution_count": 14,
     "metadata": {},
     "output_type": "execute_result"
    }
   ],
   "source": [
    "aList=[1,2,3]\n",
    "[(print(\"bla1\"), print(\"bla2\")) for i in aList]"
   ]
  },
  {
   "cell_type": "markdown",
   "id": "coordinate-substitute",
   "metadata": {},
   "source": [
    "#### `in` and `no` operators"
   ]
  },
  {
   "cell_type": "code",
   "execution_count": 27,
   "id": "brazilian-italy",
   "metadata": {},
   "outputs": [
    {
     "data": {
      "text/plain": [
       "True"
      ]
     },
     "execution_count": 27,
     "metadata": {},
     "output_type": "execute_result"
    }
   ],
   "source": [
    "someWord = ['rail','tail','sail','howdy']\n",
    "'howdy' in someWord"
   ]
  },
  {
   "cell_type": "code",
   "execution_count": 29,
   "id": "green-trash",
   "metadata": {},
   "outputs": [
    {
     "data": {
      "text/plain": [
       "True"
      ]
     },
     "execution_count": 29,
     "metadata": {},
     "output_type": "execute_result"
    }
   ],
   "source": [
    "'sailing' not in someWord"
   ]
  },
  {
   "cell_type": "code",
   "execution_count": 31,
   "id": "conceptual-husband",
   "metadata": {},
   "outputs": [
    {
     "name": "stdout",
     "output_type": "stream",
     "text": [
      "enter my petname?\n",
      "loola\n",
      "I do not have pet name  loola\n"
     ]
    }
   ],
   "source": [
    "myPets = ['salie','yack','lilie','cosie']\n",
    "print('enter my petname?')\n",
    "name=input()\n",
    "if name not in myPets:\n",
    "    print(\"I do not have pet name \", name)\n",
    "else:\n",
    "    print(\"Yes, I do have pet name\", name)"
   ]
  },
  {
   "cell_type": "markdown",
   "id": "651d03ca",
   "metadata": {},
   "source": [
    "#### `any` or `all`"
   ]
  },
  {
   "cell_type": "code",
   "execution_count": 9,
   "id": "51130439",
   "metadata": {},
   "outputs": [
    {
     "data": {
      "text/plain": [
       "[2, 3, 4, 'spam', '', 'ham', []]"
      ]
     },
     "execution_count": 9,
     "metadata": {},
     "output_type": "execute_result"
    }
   ],
   "source": [
    "aList = [2,3,4,'spam','', 'ham',[]]\n",
    "aList"
   ]
  },
  {
   "cell_type": "code",
   "execution_count": 10,
   "id": "fad48c68",
   "metadata": {},
   "outputs": [
    {
     "data": {
      "text/plain": [
       "True"
      ]
     },
     "execution_count": 10,
     "metadata": {},
     "output_type": "execute_result"
    }
   ],
   "source": [
    "any(aList) ## any True"
   ]
  },
  {
   "cell_type": "code",
   "execution_count": 11,
   "id": "159385f4",
   "metadata": {},
   "outputs": [
    {
     "data": {
      "text/plain": [
       "False"
      ]
     },
     "execution_count": 11,
     "metadata": {},
     "output_type": "execute_result"
    }
   ],
   "source": [
    "all(aList) ## all True"
   ]
  },
  {
   "cell_type": "markdown",
   "id": "cfa38b40",
   "metadata": {},
   "source": [
    "#### How to extract single element as string from list"
   ]
  },
  {
   "cell_type": "code",
   "execution_count": 2,
   "id": "d8e14212",
   "metadata": {},
   "outputs": [
    {
     "data": {
      "text/plain": [
       "'ole_stegen'"
      ]
     },
     "execution_count": 2,
     "metadata": {},
     "output_type": "execute_result"
    }
   ],
   "source": [
    "aList= [\"madonna\", \"ben_affleck\", \"pooja_saxena\", \"ole_stegen\"]\n",
    "' '.join([str(fn) for fn in aList if \"ole\" in fn])"
   ]
  },
  {
   "cell_type": "markdown",
   "id": "beneficial-trader",
   "metadata": {},
   "source": [
    "#### multiple assignment Trick"
   ]
  },
  {
   "cell_type": "code",
   "execution_count": 32,
   "id": "strategic-nursing",
   "metadata": {},
   "outputs": [
    {
     "data": {
      "text/plain": [
       "'fat'"
      ]
     },
     "execution_count": 32,
     "metadata": {},
     "output_type": "execute_result"
    }
   ],
   "source": [
    "cat = ['fat','thick','loud','gurli']\n",
    "size, color, name, feature=cat\n",
    "size"
   ]
  },
  {
   "cell_type": "markdown",
   "id": "driven-compensation",
   "metadata": {},
   "source": [
    "#### Using Enumerate function with Lists"
   ]
  },
  {
   "cell_type": "code",
   "execution_count": 33,
   "id": "intermediate-cloud",
   "metadata": {},
   "outputs": [
    {
     "name": "stdout",
     "output_type": "stream",
     "text": [
      "0 pens\n",
      "1 staplers\n",
      "2 binders\n",
      "3 flameworks\n",
      "4 papers\n"
     ]
    }
   ],
   "source": [
    "supplies = ['pens','staplers','binders','flameworks','papers']\n",
    "for index, items in enumerate(supplies):\n",
    "    print(index, items)"
   ]
  },
  {
   "cell_type": "markdown",
   "id": "religious-howard",
   "metadata": {},
   "source": [
    "#### Using random.choice() and random.shuffle "
   ]
  },
  {
   "cell_type": "code",
   "execution_count": 36,
   "id": "chronic-success",
   "metadata": {},
   "outputs": [
    {
     "data": {
      "text/plain": [
       "'dogs'"
      ]
     },
     "execution_count": 36,
     "metadata": {},
     "output_type": "execute_result"
    }
   ],
   "source": [
    "import random\n",
    "pets=['dogs','cats','Moose']\n",
    "random.choice(pets)"
   ]
  },
  {
   "cell_type": "code",
   "execution_count": 37,
   "id": "cognitive-ceremony",
   "metadata": {},
   "outputs": [
    {
     "data": {
      "text/plain": [
       "['Alice', 'Carol', 'Bob', 'David']"
      ]
     },
     "execution_count": 37,
     "metadata": {},
     "output_type": "execute_result"
    }
   ],
   "source": [
    "import random\n",
    "people=['Alice','Bob','Carol','David']\n",
    "random.shuffle(people)\n",
    "people"
   ]
  },
  {
   "cell_type": "markdown",
   "id": "major-mentor",
   "metadata": {},
   "source": [
    "#### Augmented Assignment Operators"
   ]
  },
  {
   "cell_type": "code",
   "execution_count": 39,
   "id": "historical-banking",
   "metadata": {},
   "outputs": [
    {
     "data": {
      "text/plain": [
       "43"
      ]
     },
     "execution_count": 39,
     "metadata": {},
     "output_type": "execute_result"
    }
   ],
   "source": [
    "spam=42\n",
    "spam +=1\n",
    "spam"
   ]
  },
  {
   "cell_type": "code",
   "execution_count": 40,
   "id": "lasting-exploration",
   "metadata": {},
   "outputs": [
    {
     "data": {
      "text/plain": [
       "'HelloWorld'"
      ]
     },
     "execution_count": 40,
     "metadata": {},
     "output_type": "execute_result"
    }
   ],
   "source": [
    "spam= 'Hello'\n",
    "spam += 'World'\n",
    "spam"
   ]
  },
  {
   "cell_type": "markdown",
   "id": "honest-response",
   "metadata": {},
   "source": [
    "#### Finding Value using index() "
   ]
  },
  {
   "cell_type": "code",
   "execution_count": 53,
   "id": "wound-onion",
   "metadata": {},
   "outputs": [
    {
     "data": {
      "text/plain": [
       "0"
      ]
     },
     "execution_count": 53,
     "metadata": {},
     "output_type": "execute_result"
    }
   ],
   "source": [
    "spam = ['hello','hi','howdy','heyas','howdy']\n",
    "spam.index('hello')"
   ]
  },
  {
   "cell_type": "code",
   "execution_count": 54,
   "id": "affiliated-cheese",
   "metadata": {},
   "outputs": [
    {
     "data": {
      "text/plain": [
       "True"
      ]
     },
     "execution_count": 54,
     "metadata": {},
     "output_type": "execute_result"
    }
   ],
   "source": [
    "'hello' in spam"
   ]
  },
  {
   "cell_type": "code",
   "execution_count": 55,
   "id": "freelance-learning",
   "metadata": {},
   "outputs": [
    {
     "data": {
      "text/plain": [
       "['hello', 'hi', 'howdy', 'heyas', 'howdy', 'curli']"
      ]
     },
     "execution_count": 55,
     "metadata": {},
     "output_type": "execute_result"
    }
   ],
   "source": [
    "spam.append('curli')\n",
    "spam"
   ]
  },
  {
   "cell_type": "code",
   "execution_count": 56,
   "id": "veterinary-ridge",
   "metadata": {},
   "outputs": [
    {
     "data": {
      "text/plain": [
       "['hello', 'catie', 'hi', 'howdy', 'heyas', 'howdy', 'curli']"
      ]
     },
     "execution_count": 56,
     "metadata": {},
     "output_type": "execute_result"
    }
   ],
   "source": [
    "spam.insert(1, 'catie')\n",
    "spam"
   ]
  },
  {
   "cell_type": "code",
   "execution_count": 57,
   "id": "atlantic-confidentiality",
   "metadata": {},
   "outputs": [
    {
     "data": {
      "text/plain": [
       "['hello', 'catie', 'hi', 'heyas', 'howdy', 'curli']"
      ]
     },
     "execution_count": 57,
     "metadata": {},
     "output_type": "execute_result"
    }
   ],
   "source": [
    "spam.remove('howdy')\n",
    "spam"
   ]
  },
  {
   "cell_type": "code",
   "execution_count": 58,
   "id": "british-animal",
   "metadata": {},
   "outputs": [
    {
     "data": {
      "text/plain": [
       "['hello', 'howdy', 'catie', 'hi', 'heyas', 'howdy', 'curli']"
      ]
     },
     "execution_count": 58,
     "metadata": {},
     "output_type": "execute_result"
    }
   ],
   "source": [
    "spam.insert(1,'howdy')\n",
    "spam"
   ]
  },
  {
   "cell_type": "code",
   "execution_count": 59,
   "id": "monetary-oliver",
   "metadata": {},
   "outputs": [
    {
     "data": {
      "text/plain": [
       "['catie', 'curli', 'hello', 'heyas', 'hi', 'howdy', 'howdy']"
      ]
     },
     "execution_count": 59,
     "metadata": {},
     "output_type": "execute_result"
    }
   ],
   "source": [
    "spam.sort()\n",
    "spam"
   ]
  },
  {
   "cell_type": "code",
   "execution_count": 60,
   "id": "marine-spectrum",
   "metadata": {},
   "outputs": [
    {
     "data": {
      "text/plain": [
       "['catie', 'curli', 'hello', 'heyas', 'hi', 'howdy']"
      ]
     },
     "execution_count": 60,
     "metadata": {},
     "output_type": "execute_result"
    }
   ],
   "source": [
    "spam.remove('howdy')\n",
    "spam"
   ]
  },
  {
   "cell_type": "code",
   "execution_count": 61,
   "id": "healthy-crime",
   "metadata": {},
   "outputs": [
    {
     "name": "stdout",
     "output_type": "stream",
     "text": [
      "Four score and sevenyears ago\n"
     ]
    }
   ],
   "source": [
    "print('Four score and seven'+ \\\n",
    "     'years ago')"
   ]
  },
  {
   "cell_type": "markdown",
   "id": "modular-entrance",
   "metadata": {},
   "source": [
    "#### copy() and deepcopy() functions\n",
    "with deepcopy you receive an independent list, whose operations will be completely independet from the initial list"
   ]
  },
  {
   "cell_type": "markdown",
   "id": "amber-population",
   "metadata": {},
   "source": [
    "##### copy"
   ]
  },
  {
   "cell_type": "code",
   "execution_count": 102,
   "id": "developed-helping",
   "metadata": {},
   "outputs": [
    {
     "data": {
      "text/plain": [
       "140680089771584"
      ]
     },
     "execution_count": 102,
     "metadata": {},
     "output_type": "execute_result"
    }
   ],
   "source": [
    "import copy\n",
    "spam = ['A','B', 'C','D']\n",
    "id(spam)"
   ]
  },
  {
   "cell_type": "code",
   "execution_count": 84,
   "id": "southeast-riverside",
   "metadata": {},
   "outputs": [
    {
     "data": {
      "text/plain": [
       "140680095276160"
      ]
     },
     "execution_count": 84,
     "metadata": {},
     "output_type": "execute_result"
    }
   ],
   "source": [
    "cheese = copy.copy(spam)\n",
    "id(cheese)"
   ]
  },
  {
   "cell_type": "code",
   "execution_count": 85,
   "id": "previous-praise",
   "metadata": {},
   "outputs": [
    {
     "data": {
      "text/plain": [
       "['A', 'B', 'C', 'D']"
      ]
     },
     "execution_count": 85,
     "metadata": {},
     "output_type": "execute_result"
    }
   ],
   "source": [
    "cheese"
   ]
  },
  {
   "cell_type": "code",
   "execution_count": 86,
   "id": "headed-fiber",
   "metadata": {},
   "outputs": [
    {
     "data": {
      "text/plain": [
       "['A', 897, 'C', 'D']"
      ]
     },
     "execution_count": 86,
     "metadata": {},
     "output_type": "execute_result"
    }
   ],
   "source": [
    "cheese[1]=897\n",
    "cheese"
   ]
  },
  {
   "cell_type": "code",
   "execution_count": 87,
   "id": "textile-profit",
   "metadata": {},
   "outputs": [
    {
     "data": {
      "text/plain": [
       "['A', 'B', 'C', 'D']"
      ]
     },
     "execution_count": 87,
     "metadata": {},
     "output_type": "execute_result"
    }
   ],
   "source": [
    "spam"
   ]
  },
  {
   "cell_type": "markdown",
   "id": "serious-zoning",
   "metadata": {},
   "source": [
    "##### [deepcopy](https://www.programiz.com/python-programming/shallow-deep-copy)"
   ]
  },
  {
   "cell_type": "code",
   "execution_count": 113,
   "id": "running-angel",
   "metadata": {},
   "outputs": [
    {
     "data": {
      "text/plain": [
       "140680092858304"
      ]
     },
     "execution_count": 113,
     "metadata": {},
     "output_type": "execute_result"
    }
   ],
   "source": [
    "import copy\n",
    "spam = [['A','B', 'C','D'], [1,2,3], ['cat','dog']]\n",
    "id(spam)"
   ]
  },
  {
   "cell_type": "code",
   "execution_count": 114,
   "id": "expected-livestock",
   "metadata": {},
   "outputs": [
    {
     "data": {
      "text/plain": [
       "140680094264576"
      ]
     },
     "execution_count": 114,
     "metadata": {},
     "output_type": "execute_result"
    }
   ],
   "source": [
    "slakes = copy.deepcopy(spam)\n",
    "id(slakes)"
   ]
  },
  {
   "cell_type": "code",
   "execution_count": 115,
   "id": "assigned-sewing",
   "metadata": {},
   "outputs": [
    {
     "data": {
      "text/plain": [
       "[['A', 'B', 'C', 'D'], [1, 2, 3], ['cat', 'dog'], 6533]"
      ]
     },
     "execution_count": 115,
     "metadata": {},
     "output_type": "execute_result"
    }
   ],
   "source": [
    "slakes.append(6533)\n",
    "slakes"
   ]
  },
  {
   "cell_type": "code",
   "execution_count": 116,
   "id": "prospective-stanley",
   "metadata": {},
   "outputs": [
    {
     "data": {
      "text/plain": [
       "140680094264576"
      ]
     },
     "execution_count": 116,
     "metadata": {},
     "output_type": "execute_result"
    }
   ],
   "source": [
    "id(slakes)"
   ]
  },
  {
   "cell_type": "code",
   "execution_count": 118,
   "id": "organic-marble",
   "metadata": {},
   "outputs": [
    {
     "data": {
      "text/plain": [
       "[['A', 'B', 'C', 'D'], [1, 2, 3], ['cat', 'dog']]"
      ]
     },
     "execution_count": 118,
     "metadata": {},
     "output_type": "execute_result"
    }
   ],
   "source": [
    "normalCopy = copy.copy(spam)\n",
    "normalCopy"
   ]
  },
  {
   "cell_type": "markdown",
   "id": "shared-playlist",
   "metadata": {},
   "source": [
    "#### passing around reference"
   ]
  },
  {
   "cell_type": "code",
   "execution_count": 88,
   "id": "global-mauritius",
   "metadata": {},
   "outputs": [
    {
     "data": {
      "text/plain": [
       "['A', 'B', 'C', 'D']"
      ]
     },
     "execution_count": 88,
     "metadata": {},
     "output_type": "execute_result"
    }
   ],
   "source": [
    "cake=spam\n",
    "cake"
   ]
  },
  {
   "cell_type": "code",
   "execution_count": 90,
   "id": "adjustable-address",
   "metadata": {},
   "outputs": [
    {
     "data": {
      "text/plain": [
       "140680095520384"
      ]
     },
     "execution_count": 90,
     "metadata": {},
     "output_type": "execute_result"
    }
   ],
   "source": [
    "id(cake) ## same as spam"
   ]
  },
  {
   "cell_type": "code",
   "execution_count": 91,
   "id": "increasing-oxygen",
   "metadata": {},
   "outputs": [
    {
     "data": {
      "text/plain": [
       "['A', 9868, 'C', 'D']"
      ]
     },
     "execution_count": 91,
     "metadata": {},
     "output_type": "execute_result"
    }
   ],
   "source": [
    "cake[1] = 9868\n",
    "cake"
   ]
  },
  {
   "cell_type": "code",
   "execution_count": 93,
   "id": "killing-seminar",
   "metadata": {},
   "outputs": [
    {
     "data": {
      "text/plain": [
       "['A', 9868, 'C', 'D']"
      ]
     },
     "execution_count": 93,
     "metadata": {},
     "output_type": "execute_result"
    }
   ],
   "source": [
    "spam ## this way, both lists changes, however copy way only the second list changes"
   ]
  },
  {
   "cell_type": "code",
   "execution_count": 96,
   "id": "split-soldier",
   "metadata": {},
   "outputs": [
    {
     "data": {
      "text/plain": [
       "'d'"
      ]
     },
     "execution_count": 96,
     "metadata": {},
     "output_type": "execute_result"
    }
   ],
   "source": [
    "spam = ['a','b','c','d']\n",
    "spam[int(int('3'*2)//11)]"
   ]
  },
  {
   "cell_type": "code",
   "execution_count": 95,
   "id": "acoustic-athens",
   "metadata": {},
   "outputs": [
    {
     "data": {
      "text/plain": [
       "33"
      ]
     },
     "execution_count": 95,
     "metadata": {},
     "output_type": "execute_result"
    }
   ],
   "source": [
    "int('3'*2)"
   ]
  },
  {
   "cell_type": "markdown",
   "id": "ordered-puzzle",
   "metadata": {},
   "source": [
    "#### Deleting/removing list items"
   ]
  },
  {
   "cell_type": "code",
   "execution_count": 97,
   "id": "stuck-sheet",
   "metadata": {},
   "outputs": [
    {
     "data": {
      "text/plain": [
       "['b', 'c', 'd']"
      ]
     },
     "execution_count": 97,
     "metadata": {},
     "output_type": "execute_result"
    }
   ],
   "source": [
    "spam.remove('a')\n",
    "spam"
   ]
  },
  {
   "cell_type": "code",
   "execution_count": 100,
   "id": "anonymous-massage",
   "metadata": {},
   "outputs": [
    {
     "data": {
      "text/plain": [
       "['c', 'd']"
      ]
     },
     "execution_count": 100,
     "metadata": {},
     "output_type": "execute_result"
    }
   ],
   "source": [
    "spam.pop(0)\n",
    "spam"
   ]
  },
  {
   "cell_type": "code",
   "execution_count": 101,
   "id": "horizontal-syntax",
   "metadata": {},
   "outputs": [
    {
     "data": {
      "text/plain": [
       "['d']"
      ]
     },
     "execution_count": 101,
     "metadata": {},
     "output_type": "execute_result"
    }
   ],
   "source": [
    "del spam[0]\n",
    "spam"
   ]
  },
  {
   "cell_type": "markdown",
   "id": "c7c88369",
   "metadata": {},
   "source": [
    "#### append vs extend"
   ]
  },
  {
   "cell_type": "code",
   "execution_count": 2,
   "id": "b69d43cf",
   "metadata": {},
   "outputs": [
    {
     "data": {
      "text/plain": [
       "[1, 2, 3, 4, 5]"
      ]
     },
     "execution_count": 2,
     "metadata": {},
     "output_type": "execute_result"
    }
   ],
   "source": [
    "aList=[1,2,3]\n",
    "aList.append(4)\n",
    "aList.append(5)\n",
    "aList"
   ]
  },
  {
   "cell_type": "code",
   "execution_count": 4,
   "id": "5c8ef8ae",
   "metadata": {},
   "outputs": [
    {
     "data": {
      "text/plain": [
       "[1, 2, 3, 4, 5, 6, 7]"
      ]
     },
     "execution_count": 4,
     "metadata": {},
     "output_type": "execute_result"
    }
   ],
   "source": [
    "aList.extend([6])\n",
    "aList.extend([7])\n",
    "aList"
   ]
  },
  {
   "cell_type": "code",
   "execution_count": 5,
   "id": "d4979747",
   "metadata": {},
   "outputs": [
    {
     "data": {
      "text/plain": [
       "[1, 2, 3, 4, 5, 6, 7, [8, 9]]"
      ]
     },
     "execution_count": 5,
     "metadata": {},
     "output_type": "execute_result"
    }
   ],
   "source": [
    "aList.append([8,9])\n",
    "aList"
   ]
  },
  {
   "cell_type": "code",
   "execution_count": 6,
   "id": "e32cdc36",
   "metadata": {},
   "outputs": [
    {
     "data": {
      "text/plain": [
       "[1, 2, 3, 4, 5, 6, 7, [8, 9], 10, 11]"
      ]
     },
     "execution_count": 6,
     "metadata": {},
     "output_type": "execute_result"
    }
   ],
   "source": [
    "aList.extend([10,11])\n",
    "aList"
   ]
  },
  {
   "cell_type": "markdown",
   "id": "eligible-praise",
   "metadata": {},
   "source": [
    "##  [List Exercises](https://pynative.com/python-list-exercise-with-solutions/)"
   ]
  },
  {
   "cell_type": "markdown",
   "id": "removable-merit",
   "metadata": {},
   "source": [
    "#### Reverse a given List\n",
    "* Reverse a list in python\n",
    "* Answer: [500, 400, 300, 200, 100]"
   ]
  },
  {
   "cell_type": "code",
   "execution_count": 8,
   "id": "established-irrigation",
   "metadata": {},
   "outputs": [],
   "source": [
    "aList = [100, 200, 300, 400, 500]"
   ]
  },
  {
   "cell_type": "code",
   "execution_count": 9,
   "id": "awful-winner",
   "metadata": {},
   "outputs": [
    {
     "data": {
      "text/plain": [
       "[500, 400, 300, 200, 100]"
      ]
     },
     "execution_count": 9,
     "metadata": {},
     "output_type": "execute_result"
    }
   ],
   "source": [
    "aList.reverse()\n",
    "aList"
   ]
  },
  {
   "cell_type": "markdown",
   "id": "sporting-completion",
   "metadata": {},
   "source": [
    "#### Concatenate two lists index-wise\n",
    "answer : ['My', 'name', 'is', 'Kelly']"
   ]
  },
  {
   "cell_type": "code",
   "execution_count": 10,
   "id": "sitting-dairy",
   "metadata": {},
   "outputs": [],
   "source": [
    "list1 = [\"M\", \"na\", \"i\", \"Ke\"]\n",
    "list2 = [\"y\", \"me\", \"s\", \"lly\"]"
   ]
  },
  {
   "cell_type": "code",
   "execution_count": 11,
   "id": "graphic-slovak",
   "metadata": {},
   "outputs": [
    {
     "data": {
      "text/plain": [
       "['My', 'name', 'is', 'Kelly']"
      ]
     },
     "execution_count": 11,
     "metadata": {},
     "output_type": "execute_result"
    }
   ],
   "source": [
    "[(i+j) for i, j in zip(list1, list2)]"
   ]
  },
  {
   "cell_type": "markdown",
   "id": "hydraulic-container",
   "metadata": {},
   "source": [
    "#### Program: Magic 8 Balls with a list"
   ]
  },
  {
   "cell_type": "code",
   "execution_count": 62,
   "id": "academic-warrior",
   "metadata": {},
   "outputs": [],
   "source": [
    "import random\n",
    "message = ['It is certain',\n",
    " 'It is decidedly so',\n",
    " 'Yes definitely',\n",
    " 'Reply hazy try again',\n",
    " 'Ask again later',\n",
    " 'Concentrate and ask again',\n",
    " 'My reply is no',\n",
    "           'Outlook not so good',\n",
    " 'Very doubtful']"
   ]
  },
  {
   "cell_type": "code",
   "execution_count": 64,
   "id": "widespread-corporation",
   "metadata": {},
   "outputs": [
    {
     "name": "stdout",
     "output_type": "stream",
     "text": [
      "['It is certain', 'It is decidedly so', 'Yes definitely', 'Reply hazy try again', 'Ask again later', 'Concentrate and ask again', 'My reply is no', 'Outlook not so good', 'Very doubtful']\n"
     ]
    }
   ],
   "source": [
    "print(message)"
   ]
  },
  {
   "cell_type": "code",
   "execution_count": 69,
   "id": "generic-richardson",
   "metadata": {},
   "outputs": [
    {
     "name": "stdout",
     "output_type": "stream",
     "text": [
      "Reply hazy try again\n"
     ]
    }
   ],
   "source": [
    "print(message[random.randint(0,len(message)-1)])"
   ]
  },
  {
   "cell_type": "markdown",
   "id": "every-tennessee",
   "metadata": {},
   "source": [
    "#### Given a Python list of numbers. Turn every item of a list into its square\n",
    "answer: [1, 4, 9, 16, 25, 36, 49]"
   ]
  },
  {
   "cell_type": "code",
   "execution_count": 12,
   "id": "annoying-exchange",
   "metadata": {},
   "outputs": [
    {
     "data": {
      "text/plain": [
       "[1, 4, 9, 16, 25, 36, 49]"
      ]
     },
     "execution_count": 12,
     "metadata": {},
     "output_type": "execute_result"
    }
   ],
   "source": [
    "aList = [1, 2, 3, 4, 5, 6, 7]\n",
    "[i*i for i in aList]"
   ]
  },
  {
   "cell_type": "markdown",
   "id": "romantic-reducing",
   "metadata": {},
   "source": [
    "#### Concatenate two lists in the following order\n",
    "answer : ['Hello Dear', 'Hello Sir', 'take Dear', 'take Sir']"
   ]
  },
  {
   "cell_type": "code",
   "execution_count": 13,
   "id": "fixed-local",
   "metadata": {},
   "outputs": [],
   "source": [
    "list1 = [\"Hello \", \"take \"]\n",
    "list2 = [\"Dear\", \"Sir\"]\n"
   ]
  },
  {
   "cell_type": "code",
   "execution_count": 19,
   "id": "incomplete-university",
   "metadata": {},
   "outputs": [
    {
     "name": "stdout",
     "output_type": "stream",
     "text": [
      "['Hello Dear', 'Hello Sir', 'take Dear', 'take Sir']\n"
     ]
    }
   ],
   "source": [
    "#### Long answer\n",
    "answer=[]\n",
    "for i in list1:\n",
    "    for j in list2:\n",
    "        #print(i+j)\n",
    "        answer.append(i+j)\n",
    "print(answer)"
   ]
  },
  {
   "cell_type": "code",
   "execution_count": 22,
   "id": "cognitive-disposal",
   "metadata": {},
   "outputs": [
    {
     "data": {
      "text/plain": [
       "['Hello Dear', 'Hello Sir', 'take Dear', 'take Sir']"
      ]
     },
     "execution_count": 22,
     "metadata": {},
     "output_type": "execute_result"
    }
   ],
   "source": [
    "#### short answer\n",
    "[i+j for i in list1 for j in list2]"
   ]
  },
  {
   "cell_type": "markdown",
   "id": "bigger-light",
   "metadata": {},
   "source": [
    "#### Reversing odering\n",
    "Given a two Python list. Iterate both lists simultaneously such that list1 should display item in original order and list2 in reverse order\n",
    "answer\n",
    "```\n",
    "10 400\n",
    "20 300\n",
    "30 200\n",
    "40 100\n",
    "```"
   ]
  },
  {
   "cell_type": "code",
   "execution_count": 28,
   "id": "mental-disease",
   "metadata": {},
   "outputs": [],
   "source": [
    "list1 = [10, 20, 30, 40]\n",
    "list2 = [100, 200, 300, 400]"
   ]
  },
  {
   "cell_type": "code",
   "execution_count": 42,
   "id": "japanese-mortgage",
   "metadata": {},
   "outputs": [
    {
     "name": "stdout",
     "output_type": "stream",
     "text": [
      "10 400\n",
      "20 300\n",
      "30 200\n",
      "40 100\n"
     ]
    }
   ],
   "source": [
    "##### Long Answer\n",
    "list2.reverse()\n",
    "for (i, j) in zip(list1,list2):\n",
    "    print(i, j)"
   ]
  },
  {
   "cell_type": "code",
   "execution_count": 46,
   "id": "graphic-kruger",
   "metadata": {},
   "outputs": [
    {
     "name": "stdout",
     "output_type": "stream",
     "text": [
      "10 400\n",
      "20 300\n",
      "30 200\n",
      "40 100\n"
     ]
    },
    {
     "data": {
      "text/plain": [
       "[None, None, None, None]"
      ]
     },
     "execution_count": 46,
     "metadata": {},
     "output_type": "execute_result"
    }
   ],
   "source": [
    "#### Short answer\n",
    "[print(i, j) for i,j in zip(list1, list2[::-1])]"
   ]
  },
  {
   "cell_type": "code",
   "execution_count": 60,
   "id": "touched-glass",
   "metadata": {},
   "outputs": [
    {
     "data": {
      "text/plain": [
       "[400, 300, 200, 100]"
      ]
     },
     "execution_count": 60,
     "metadata": {},
     "output_type": "execute_result"
    }
   ],
   "source": [
    "list2[::-1]"
   ]
  },
  {
   "cell_type": "markdown",
   "id": "connected-powell",
   "metadata": {},
   "source": [
    "#### Remove empty strings from the list of strings\n"
   ]
  },
  {
   "cell_type": "markdown",
   "id": "color-chicken",
   "metadata": {},
   "source": [
    "#### while program via Lists"
   ]
  },
  {
   "cell_type": "code",
   "execution_count": 23,
   "id": "compound-comedy",
   "metadata": {},
   "outputs": [
    {
     "name": "stdout",
     "output_type": "stream",
     "text": [
      "Enter the name of a cat1(or enter nothing to stop)\n",
      "susy\n",
      "Enter the name of a cat2(or enter nothing to stop)\n",
      "lili\n",
      "Enter the name of a cat3(or enter nothing to stop)\n",
      "lusie\n",
      "Enter the name of a cat4(or enter nothing to stop)\n",
      "missli\n",
      "Enter the name of a cat5(or enter nothing to stop)\n",
      "\n",
      "The cat names are:\n",
      "susy\n",
      "lili\n",
      "lusie\n",
      "missli\n"
     ]
    }
   ],
   "source": [
    "catNames = []\n",
    "while True:\n",
    "    print('Enter the name of a cat' + str(len(catNames)+1) + '(or enter nothing to stop)')\n",
    "    name = input()\n",
    "    if name == '':\n",
    "        break\n",
    "    catNames = catNames + [name]\n",
    "print('The cat names are:')\n",
    "for name in catNames:\n",
    "    print('' + name)"
   ]
  },
  {
   "cell_type": "code",
   "execution_count": 61,
   "id": "cognitive-violin",
   "metadata": {},
   "outputs": [],
   "source": [
    "list1 = [\"Mike\", \"\", \"Emma\", \"Kelly\", \"\", \"Brad\"]"
   ]
  },
  {
   "cell_type": "code",
   "execution_count": 68,
   "id": "falling-johns",
   "metadata": {},
   "outputs": [
    {
     "data": {
      "text/plain": [
       "['Mike', 'Emma', 'Kelly', 'Brad']"
      ]
     },
     "execution_count": 68,
     "metadata": {},
     "output_type": "execute_result"
    }
   ],
   "source": [
    "### Approach 1\n",
    "[i for i in list1 if i != \"\"]"
   ]
  },
  {
   "cell_type": "code",
   "execution_count": 72,
   "id": "middle-atmosphere",
   "metadata": {},
   "outputs": [
    {
     "data": {
      "text/plain": [
       "['Mike', 'Emma', 'Kelly', 'Brad']"
      ]
     },
     "execution_count": 72,
     "metadata": {},
     "output_type": "execute_result"
    }
   ],
   "source": [
    "#### Approach 2\n",
    "list(filter(None, list1))"
   ]
  },
  {
   "cell_type": "markdown",
   "id": "illegal-bosnia",
   "metadata": {},
   "source": [
    "#### Add item 7000 after 6k in the following list\n",
    "answer: [10, 20, [300, 400, [5000, 6000, 7000], 500], 30, 40]\n"
   ]
  },
  {
   "cell_type": "code",
   "execution_count": 87,
   "id": "satisfied-crime",
   "metadata": {},
   "outputs": [],
   "source": [
    "list1 = [10, 20, [300, 400, [5000, 6000], 500], 30, 40]"
   ]
  },
  {
   "cell_type": "code",
   "execution_count": 88,
   "id": "suited-nothing",
   "metadata": {},
   "outputs": [
    {
     "data": {
      "text/plain": [
       "[10, 20, [300, 400, [5000, 6000, 7000], 500], 30, 40]"
      ]
     },
     "execution_count": 88,
     "metadata": {},
     "output_type": "execute_result"
    }
   ],
   "source": [
    "list1[2][2].append(7000)\n",
    "list1"
   ]
  },
  {
   "cell_type": "markdown",
   "id": "noble-damage",
   "metadata": {},
   "source": [
    "#### Extending nested list: \n",
    "* Given a nested list extend it by adding the sub list [\"h\", \"i\", \"j\"] in such a way that it will look like the following list\n",
    "* Answer: ['a', 'b', ['c', ['d', 'e', ['f', 'g', 'h', 'i', 'j'], 'k'], 'l'], 'm', 'n']\n"
   ]
  },
  {
   "cell_type": "code",
   "execution_count": 120,
   "id": "standing-dietary",
   "metadata": {},
   "outputs": [],
   "source": [
    "list1 = [\"a\", \"b\", [\"c\", [\"d\", \"e\", [\"f\", \"g\"], \"k\"], \"l\"], \"m\", \"n\"]"
   ]
  },
  {
   "cell_type": "code",
   "execution_count": 119,
   "id": "changing-amplifier",
   "metadata": {},
   "outputs": [
    {
     "data": {
      "text/plain": [
       "['a', 'b', ['c', ['d', 'e', ['f', 'g', 'h', 'i', 'j'], 'k'], 'l'], 'm', 'n']"
      ]
     },
     "execution_count": 119,
     "metadata": {},
     "output_type": "execute_result"
    }
   ],
   "source": [
    "#### Approach 1\n",
    "list1[2][1][2]=list1[2][1][2] + [\"h\", \"i\", \"j\"]\n",
    "list1"
   ]
  },
  {
   "cell_type": "code",
   "execution_count": 121,
   "id": "former-tutorial",
   "metadata": {},
   "outputs": [
    {
     "data": {
      "text/plain": [
       "['a', 'b', ['c', ['d', 'e', ['f', 'g', 'h', 'i', 'j'], 'k'], 'l'], 'm', 'n']"
      ]
     },
     "execution_count": 121,
     "metadata": {},
     "output_type": "execute_result"
    }
   ],
   "source": [
    "#### Approach 2\n",
    "list1[2][1][2].extend([\"h\",\"i\",\"j\"])\n",
    "list1"
   ]
  },
  {
   "cell_type": "markdown",
   "id": "hybrid-dominican",
   "metadata": {},
   "source": [
    "#### Given a Python list, find value 20 in the list, and if it is present, replace it with 200. Only update the first occurrence of a value\n",
    "Answer : list1 = [5, 10, 15, 200, 25, 50, 20]\n"
   ]
  },
  {
   "cell_type": "code",
   "execution_count": 185,
   "id": "blocked-white",
   "metadata": {},
   "outputs": [],
   "source": [
    "list1 = [5, 10, 15, 20, 25, 50, 20]"
   ]
  },
  {
   "cell_type": "code",
   "execution_count": 187,
   "id": "quality-session",
   "metadata": {},
   "outputs": [
    {
     "data": {
      "text/plain": [
       "[5, 10, 15, 200, 25, 50, 20]"
      ]
     },
     "execution_count": 187,
     "metadata": {},
     "output_type": "execute_result"
    }
   ],
   "source": [
    "### Approach 1\n",
    "list1 = [5, 10, 15, 20, 25, 50, 20]\n",
    "\n",
    "index=list1.index(20)\n",
    "list1[index]=200\n",
    "list1"
   ]
  },
  {
   "cell_type": "code",
   "execution_count": 188,
   "id": "asian-prize",
   "metadata": {},
   "outputs": [
    {
     "name": "stdout",
     "output_type": "stream",
     "text": [
      "5 10 15 200 25 50 20\n"
     ]
    }
   ],
   "source": [
    "#### Approach 2\n",
    "list1 = [5, 10, 15, 20, 25, 50, 20]\n",
    "\n",
    "list1 = \" \".join(map(str,list1))\n",
    "list2 = list1.replace(\"20\", \"200\", 1)\n",
    "print(list2)"
   ]
  },
  {
   "cell_type": "markdown",
   "id": "specific-blame",
   "metadata": {},
   "source": [
    "#### Given a Python list, remove all occurrence of 20 from the list\n",
    "answer: [5, 15, 25, 50]\n"
   ]
  },
  {
   "cell_type": "code",
   "execution_count": 162,
   "id": "enormous-marriage",
   "metadata": {},
   "outputs": [],
   "source": [
    "list1 = [5, 20, 15, 20, 25, 50, 20]"
   ]
  },
  {
   "cell_type": "code",
   "execution_count": 165,
   "id": "allied-simon",
   "metadata": {},
   "outputs": [
    {
     "data": {
      "text/plain": [
       "[5, 15, 25, 50]"
      ]
     },
     "execution_count": 165,
     "metadata": {},
     "output_type": "execute_result"
    }
   ],
   "source": [
    "#### Approach 1\n",
    "[i for i in list1 if i !=20]"
   ]
  },
  {
   "cell_type": "code",
   "execution_count": 169,
   "id": "sufficient-house",
   "metadata": {},
   "outputs": [
    {
     "name": "stdout",
     "output_type": "stream",
     "text": [
      "[5, 15, 25, 50]\n"
     ]
    }
   ],
   "source": [
    "#### Approach 2\n",
    "def removeValue(sampleList, val):\n",
    "    return [value for value in sampleList if value !=val]\n",
    "list1=removeValue(list1, 20)\n",
    "print(list1)"
   ]
  },
  {
   "cell_type": "code",
   "execution_count": 175,
   "id": "digital-maintenance",
   "metadata": {},
   "outputs": [
    {
     "name": "stdout",
     "output_type": "stream",
     "text": [
      "[5, 10, 15, 25, 50]\n"
     ]
    }
   ],
   "source": [
    "#### Appraoch 3\n",
    "for i in list1:\n",
    "    if i ==20:\n",
    "        list1.remove(i)\n",
    "print(list1)"
   ]
  },
  {
   "cell_type": "markdown",
   "id": "synthetic-mitchell",
   "metadata": {},
   "source": [
    "#### Given two lists create a third list by picking an odd-index element from the first list and even index elements from the second.\n",
    "answer: \n",
    "```\n",
    "Element at odd-index positions from list one\n",
    "[6, 12, 18]\n",
    "Element at even-index positions from list two\n",
    "[4, 12, 20, 28]\n",
    "Printing Final third list\n",
    "[6, 12, 18, 4, 12, 20, 28]\n",
    "```"
   ]
  },
  {
   "cell_type": "code",
   "execution_count": 1,
   "id": "designed-criminal",
   "metadata": {},
   "outputs": [],
   "source": [
    "listOne = [3, 6, 9, 12, 15, 18, 21]\n",
    "listTwo = [4, 8, 12, 16, 20, 24, 28]"
   ]
  },
  {
   "cell_type": "code",
   "execution_count": 7,
   "id": "similar-divide",
   "metadata": {},
   "outputs": [
    {
     "name": "stdout",
     "output_type": "stream",
     "text": [
      "6\n",
      "12\n",
      "18\n"
     ]
    }
   ],
   "source": [
    "for i in range(len(listOne)):\n",
    "    if i %2 ==1:\n",
    "        print(listOne[i])"
   ]
  },
  {
   "cell_type": "markdown",
   "id": "electrical-enough",
   "metadata": {},
   "source": [
    "## Tuple Data Type"
   ]
  },
  {
   "cell_type": "markdown",
   "id": "pending-committee",
   "metadata": {},
   "source": [
    "### Tutorial"
   ]
  },
  {
   "cell_type": "markdown",
   "id": "initial-stanley",
   "metadata": {},
   "source": [
    "#### Creating tuple"
   ]
  },
  {
   "cell_type": "code",
   "execution_count": 70,
   "id": "italic-killer",
   "metadata": {},
   "outputs": [
    {
     "data": {
      "text/plain": [
       "('hello', 'way', 32, 0.4)"
      ]
     },
     "execution_count": 70,
     "metadata": {},
     "output_type": "execute_result"
    }
   ],
   "source": [
    "eggs = ('hello','way', 32, 0.4)\n",
    "eggs"
   ]
  },
  {
   "cell_type": "markdown",
   "id": "armed-painting",
   "metadata": {},
   "source": [
    "#### Finding last element"
   ]
  },
  {
   "cell_type": "code",
   "execution_count": 72,
   "id": "dried-roller",
   "metadata": {},
   "outputs": [
    {
     "data": {
      "text/plain": [
       "0.4"
      ]
     },
     "execution_count": 72,
     "metadata": {},
     "output_type": "execute_result"
    }
   ],
   "source": [
    "eggs[-1]"
   ]
  },
  {
   "cell_type": "code",
   "execution_count": 73,
   "id": "electronic-hopkins",
   "metadata": {},
   "outputs": [
    {
     "data": {
      "text/plain": [
       "4"
      ]
     },
     "execution_count": 73,
     "metadata": {},
     "output_type": "execute_result"
    }
   ],
   "source": [
    "len(eggs)"
   ]
  },
  {
   "cell_type": "code",
   "execution_count": 74,
   "id": "cubic-assistant",
   "metadata": {},
   "outputs": [
    {
     "data": {
      "text/plain": [
       "tuple"
      ]
     },
     "execution_count": 74,
     "metadata": {},
     "output_type": "execute_result"
    }
   ],
   "source": [
    "type(eggs)"
   ]
  },
  {
   "cell_type": "code",
   "execution_count": 77,
   "id": "average-tonight",
   "metadata": {},
   "outputs": [
    {
     "data": {
      "text/plain": [
       "<function tuple.index(value, start=0, stop=9223372036854775807, /)>"
      ]
     },
     "execution_count": 77,
     "metadata": {},
     "output_type": "execute_result"
    }
   ],
   "source": [
    "eggs.index"
   ]
  },
  {
   "cell_type": "code",
   "execution_count": 79,
   "id": "introductory-lancaster",
   "metadata": {},
   "outputs": [
    {
     "data": {
      "text/plain": [
       "140680089384656"
      ]
     },
     "execution_count": 79,
     "metadata": {},
     "output_type": "execute_result"
    }
   ],
   "source": [
    "id(eggs)"
   ]
  },
  {
   "cell_type": "code",
   "execution_count": 80,
   "id": "orange-spotlight",
   "metadata": {},
   "outputs": [
    {
     "data": {
      "text/plain": [
       "140680096992256"
      ]
     },
     "execution_count": 80,
     "metadata": {},
     "output_type": "execute_result"
    }
   ],
   "source": [
    "eggs = ['cat','dog','rat']\n",
    "id(eggs)"
   ]
  },
  {
   "cell_type": "code",
   "execution_count": 81,
   "id": "frank-frost",
   "metadata": {},
   "outputs": [
    {
     "data": {
      "text/plain": [
       "140680096992256"
      ]
     },
     "execution_count": 81,
     "metadata": {},
     "output_type": "execute_result"
    }
   ],
   "source": [
    "eggs.append('elepnat')\n",
    "id(eggs)"
   ]
  },
  {
   "cell_type": "code",
   "execution_count": 82,
   "id": "professional-recording",
   "metadata": {},
   "outputs": [
    {
     "data": {
      "text/plain": [
       "140680095241664"
      ]
     },
     "execution_count": 82,
     "metadata": {},
     "output_type": "execute_result"
    }
   ],
   "source": [
    "eggs = ['bat','rat','cow']\n",
    "id(eggs)"
   ]
  },
  {
   "cell_type": "markdown",
   "id": "victorian-mining",
   "metadata": {},
   "source": [
    "### Exercises"
   ]
  },
  {
   "cell_type": "markdown",
   "id": "canadian-impression",
   "metadata": {},
   "source": [
    "#### Reverse the following tuple\n",
    "answer: (50, 40, 30, 20, 10)\n"
   ]
  },
  {
   "cell_type": "code",
   "execution_count": 1,
   "id": "expensive-impression",
   "metadata": {},
   "outputs": [],
   "source": [
    "aTuple = (10, 20, 30, 40, 50)"
   ]
  },
  {
   "cell_type": "code",
   "execution_count": 3,
   "id": "vital-builder",
   "metadata": {},
   "outputs": [
    {
     "data": {
      "text/plain": [
       "(50, 40, 30, 20, 10)"
      ]
     },
     "execution_count": 3,
     "metadata": {},
     "output_type": "execute_result"
    }
   ],
   "source": [
    "aTuple[::-1]"
   ]
  },
  {
   "cell_type": "markdown",
   "id": "immediate-evans",
   "metadata": {},
   "source": [
    "#### Access value 20 from the following tuple\n"
   ]
  },
  {
   "cell_type": "code",
   "execution_count": 4,
   "id": "authorized-monaco",
   "metadata": {},
   "outputs": [],
   "source": [
    "aTuple = (\"Orange\", [10, 20, 30], (5, 15, 25))"
   ]
  },
  {
   "cell_type": "code",
   "execution_count": 5,
   "id": "hungry-trader",
   "metadata": {},
   "outputs": [
    {
     "data": {
      "text/plain": [
       "20"
      ]
     },
     "execution_count": 5,
     "metadata": {},
     "output_type": "execute_result"
    }
   ],
   "source": [
    "aTuple[1][1]"
   ]
  },
  {
   "cell_type": "markdown",
   "id": "sharp-watershed",
   "metadata": {},
   "source": [
    "#### Create a tuple with single item 50\n"
   ]
  },
  {
   "cell_type": "code",
   "execution_count": 11,
   "id": "compliant-passenger",
   "metadata": {},
   "outputs": [
    {
     "data": {
      "text/plain": [
       "tuple"
      ]
     },
     "execution_count": 11,
     "metadata": {},
     "output_type": "execute_result"
    }
   ],
   "source": [
    "aTuple=(50,)\n",
    "type(aTuple)"
   ]
  },
  {
   "cell_type": "markdown",
   "id": "ordered-business",
   "metadata": {},
   "source": [
    "#### Unpack the following tuple into 4 variables\n",
    "```\n",
    "aTuple = (10, 20, 30, 40)\n",
    "# Your code\n",
    "print(a) # should print 10\n",
    "print(b) # should print 20\n",
    "print(c) # should print 30\n",
    "print(d) # should print 40\n",
    "\n",
    "```"
   ]
  },
  {
   "cell_type": "code",
   "execution_count": 12,
   "id": "cubic-middle",
   "metadata": {},
   "outputs": [],
   "source": [
    "aTuple = (10, 20, 30, 40)"
   ]
  },
  {
   "cell_type": "code",
   "execution_count": 13,
   "id": "mathematical-pharmacy",
   "metadata": {},
   "outputs": [
    {
     "name": "stdout",
     "output_type": "stream",
     "text": [
      "10\n",
      "20\n",
      "30\n",
      "40\n"
     ]
    },
    {
     "data": {
      "text/plain": [
       "[None, None, None, None]"
      ]
     },
     "execution_count": 13,
     "metadata": {},
     "output_type": "execute_result"
    }
   ],
   "source": [
    "[print(i) for i in aTuple]"
   ]
  },
  {
   "cell_type": "markdown",
   "id": "activated-cedar",
   "metadata": {},
   "source": [
    "####  Swap the following two tuples\n",
    "answer: \n",
    "```\n",
    "tuple1 = (99, 88)\n",
    "tuple2 = (11, 22)\n",
    "```"
   ]
  },
  {
   "cell_type": "code",
   "execution_count": 14,
   "id": "steady-cutting",
   "metadata": {},
   "outputs": [],
   "source": [
    "tuple1 = (11, 22)\n",
    "tuple2 = (99, 88)"
   ]
  },
  {
   "cell_type": "code",
   "execution_count": 15,
   "id": "boring-upper",
   "metadata": {},
   "outputs": [],
   "source": [
    "tuple1, tuple2=tuple2, tuple1"
   ]
  },
  {
   "cell_type": "code",
   "execution_count": 17,
   "id": "yellow-dancing",
   "metadata": {},
   "outputs": [
    {
     "data": {
      "text/plain": [
       "(11, 22)"
      ]
     },
     "execution_count": 17,
     "metadata": {},
     "output_type": "execute_result"
    }
   ],
   "source": [
    "tuple2"
   ]
  },
  {
   "cell_type": "markdown",
   "id": "provincial-emergency",
   "metadata": {},
   "source": [
    "#### Copy element 44 and 55 from the following tuple into a new tuple\n",
    "tuple2: (44, 55)"
   ]
  },
  {
   "cell_type": "code",
   "execution_count": 18,
   "id": "opened-pharmaceutical",
   "metadata": {},
   "outputs": [],
   "source": [
    "tuple1 = (11, 22, 33, 44, 55, 66)"
   ]
  },
  {
   "cell_type": "code",
   "execution_count": 20,
   "id": "actual-shopping",
   "metadata": {},
   "outputs": [
    {
     "data": {
      "text/plain": [
       "(44, 55)"
      ]
     },
     "execution_count": 20,
     "metadata": {},
     "output_type": "execute_result"
    }
   ],
   "source": [
    "tuple2=tuple1[3:5]\n",
    "tuple2"
   ]
  },
  {
   "cell_type": "markdown",
   "id": "hundred-swift",
   "metadata": {},
   "source": [
    "#### Modify the first item (22) of a list inside a following tuple to 222\n",
    "answer: tuple1: (11, [222, 33], 44, 55)\n"
   ]
  },
  {
   "cell_type": "code",
   "execution_count": 21,
   "id": "equipped-chile",
   "metadata": {},
   "outputs": [],
   "source": [
    "tuple1 = (11, [22, 33], 44, 55)"
   ]
  },
  {
   "cell_type": "code",
   "execution_count": 31,
   "id": "satisfied-europe",
   "metadata": {},
   "outputs": [
    {
     "data": {
      "text/plain": [
       "(11, [222, 33], 44, 55)"
      ]
     },
     "execution_count": 31,
     "metadata": {},
     "output_type": "execute_result"
    }
   ],
   "source": [
    "tuple1[1][0] = 222\n",
    "tuple1"
   ]
  },
  {
   "cell_type": "markdown",
   "id": "necessary-elements",
   "metadata": {},
   "source": [
    "#### Sort a tuple of tuples by 2nd item\n",
    "answer: ```(('c', 11), ('a', 23), ('d', 29), ('b', 37))```"
   ]
  },
  {
   "cell_type": "code",
   "execution_count": 32,
   "id": "secure-bermuda",
   "metadata": {},
   "outputs": [],
   "source": [
    "tuple1 = (('a', 23),('b', 37),('c', 11), ('d',29))"
   ]
  },
  {
   "cell_type": "code",
   "execution_count": 44,
   "id": "smart-cookbook",
   "metadata": {},
   "outputs": [
    {
     "data": {
      "text/plain": [
       "(('c', 11), ('a', 23), ('d', 29), ('b', 37))"
      ]
     },
     "execution_count": 44,
     "metadata": {},
     "output_type": "execute_result"
    }
   ],
   "source": [
    "tuple1 = tuple(sorted(list(tuple1), key=lambda x: x[1]))\n",
    "tuple1"
   ]
  },
  {
   "cell_type": "markdown",
   "id": "requested-restoration",
   "metadata": {},
   "source": [
    "#### Counts the number of occurrences of item 50 from a tuple\n"
   ]
  },
  {
   "cell_type": "code",
   "execution_count": 45,
   "id": "amateur-garden",
   "metadata": {},
   "outputs": [],
   "source": [
    "tuple1 = (50, 10, 60, 70, 50)"
   ]
  },
  {
   "cell_type": "code",
   "execution_count": 46,
   "id": "serious-comedy",
   "metadata": {},
   "outputs": [
    {
     "data": {
      "text/plain": [
       "2"
      ]
     },
     "execution_count": 46,
     "metadata": {},
     "output_type": "execute_result"
    }
   ],
   "source": [
    "tuple1.count(50)"
   ]
  },
  {
   "cell_type": "markdown",
   "id": "superior-today",
   "metadata": {},
   "source": [
    "#### Check if all items in the following tuple are the same\n"
   ]
  },
  {
   "cell_type": "code",
   "execution_count": 50,
   "id": "useful-corrections",
   "metadata": {},
   "outputs": [],
   "source": [
    "tuple1 = (45, 45, 45, 45)"
   ]
  },
  {
   "cell_type": "code",
   "execution_count": 51,
   "id": "scenic-recycling",
   "metadata": {},
   "outputs": [
    {
     "data": {
      "text/plain": [
       "45"
      ]
     },
     "execution_count": 51,
     "metadata": {},
     "output_type": "execute_result"
    }
   ],
   "source": [
    "tuple1[1]"
   ]
  },
  {
   "cell_type": "code",
   "execution_count": 56,
   "id": "insured-joseph",
   "metadata": {},
   "outputs": [],
   "source": [
    "### approach1\n",
    "def checkTuple(sampleTuple):\n",
    "    isSame=tuple1.count(tuple1[0]) == len(tuple1)\n",
    "    return isSame"
   ]
  },
  {
   "cell_type": "code",
   "execution_count": 57,
   "id": "deluxe-childhood",
   "metadata": {},
   "outputs": [],
   "source": [
    "### approach2\n",
    "def check(sampleTuple):\n",
    "    return all(i == sampleTuple[0] for i in sampleTuple)"
   ]
  },
  {
   "cell_type": "code",
   "execution_count": 67,
   "id": "coordinated-exposure",
   "metadata": {},
   "outputs": [
    {
     "data": {
      "text/plain": [
       "True"
      ]
     },
     "execution_count": 67,
     "metadata": {},
     "output_type": "execute_result"
    }
   ],
   "source": [
    "checkTuple(tuple1)"
   ]
  },
  {
   "cell_type": "code",
   "execution_count": 68,
   "id": "cloudy-museum",
   "metadata": {},
   "outputs": [
    {
     "data": {
      "text/plain": [
       "True"
      ]
     },
     "execution_count": 68,
     "metadata": {},
     "output_type": "execute_result"
    }
   ],
   "source": [
    "check(tuple1)"
   ]
  }
 ],
 "metadata": {
  "kernelspec": {
   "display_name": "Python@3.8",
   "language": "python",
   "name": "python3.8"
  },
  "language_info": {
   "codemirror_mode": {
    "name": "ipython",
    "version": 3
   },
   "file_extension": ".py",
   "mimetype": "text/x-python",
   "name": "python",
   "nbconvert_exporter": "python",
   "pygments_lexer": "ipython3",
   "version": "3.8.12"
  },
  "toc": {
   "base_numbering": 1,
   "nav_menu": {},
   "number_sections": true,
   "sideBar": true,
   "skip_h1_title": false,
   "title_cell": "Table of Contents",
   "title_sidebar": "Contents",
   "toc_cell": false,
   "toc_position": {
    "height": "calc(100% - 180px)",
    "left": "10px",
    "top": "150px",
    "width": "297px"
   },
   "toc_section_display": true,
   "toc_window_display": true
  },
  "varInspector": {
   "cols": {
    "lenName": 16,
    "lenType": 16,
    "lenVar": 40
   },
   "kernels_config": {
    "python": {
     "delete_cmd_postfix": "",
     "delete_cmd_prefix": "del ",
     "library": "var_list.py",
     "varRefreshCmd": "print(var_dic_list())"
    },
    "r": {
     "delete_cmd_postfix": ") ",
     "delete_cmd_prefix": "rm(",
     "library": "var_list.r",
     "varRefreshCmd": "cat(var_dic_list()) "
    }
   },
   "types_to_exclude": [
    "module",
    "function",
    "builtin_function_or_method",
    "instance",
    "_Feature"
   ],
   "window_display": false
  }
 },
 "nbformat": 4,
 "nbformat_minor": 5
}
