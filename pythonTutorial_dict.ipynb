{
 "cells": [
  {
   "attachments": {},
   "cell_type": "markdown",
   "id": "particular-coral",
   "metadata": {},
   "source": [
    "# Dictionaries in Python\n",
    "Dictionaries are unordered collections of unique values stored in (Key-Value) pairs.\n",
    "<div>\n",
    "<img src=\"images/dict_intro.png\" width=\"450\" height=\"500\" style=\"float:left\"/>\n",
    "</div>"
   ]
  },
  {
   "cell_type": "markdown",
   "id": "sporting-tonight",
   "metadata": {},
   "source": [
    "## Tutorial"
   ]
  },
  {
   "attachments": {},
   "cell_type": "markdown",
   "id": "hollywood-return",
   "metadata": {},
   "source": [
    "### Get all keys and values\n",
    "Use the following dictionary methods to retrieve all key and values at once\n",
    "<div>\n",
    "<img src=\"images/keys_values_in_dict.png\" width=\"450\" height=\"500\" style=\"float:left\"/>\n",
    "</div>"
   ]
  },
  {
   "cell_type": "markdown",
   "id": "advised-collect",
   "metadata": {},
   "source": [
    "## Exercises"
   ]
  },
  {
   "cell_type": "markdown",
   "id": "according-submission",
   "metadata": {},
   "source": [
    "### Below are the two lists convert it into the dictionary"
   ]
  },
  {
   "cell_type": "code",
   "execution_count": 4,
   "id": "featured-burner",
   "metadata": {},
   "outputs": [],
   "source": [
    "keys = ['Ten', 'Twenty', 'Thirty']\n",
    "values = [10, 20, 30]"
   ]
  },
  {
   "cell_type": "code",
   "execution_count": 11,
   "id": "compound-thunder",
   "metadata": {},
   "outputs": [
    {
     "data": {
      "text/plain": [
       "{'Ten': 10, 'Twenty': 20, 'Thirty': 30}"
      ]
     },
     "execution_count": 11,
     "metadata": {},
     "output_type": "execute_result"
    }
   ],
   "source": [
    "dict(zip(keys, values))"
   ]
  },
  {
   "cell_type": "markdown",
   "id": "urban-battle",
   "metadata": {},
   "source": [
    "### Merge following two Python dictionaries into one\n",
    "* answer: {'Ten': 10, 'Twenty': 20, 'Thirty': 30, 'Fourty': 40, 'Fifty': 50}"
   ]
  },
  {
   "cell_type": "code",
   "execution_count": 12,
   "id": "liquid-coupon",
   "metadata": {},
   "outputs": [],
   "source": [
    "dict1 = {'Ten': 10, 'Twenty': 20, 'Thirty': 30}\n",
    "dict2 = {'Thirty': 30, 'Fourty': 40, 'Fifty': 50}"
   ]
  },
  {
   "cell_type": "code",
   "execution_count": 18,
   "id": "answering-discount",
   "metadata": {},
   "outputs": [
    {
     "data": {
      "text/plain": [
       "{'Ten': 10, 'Twenty': 20, 'Thirty': 30, 'Fourty': 40, 'Fifty': 50}"
      ]
     },
     "execution_count": 18,
     "metadata": {},
     "output_type": "execute_result"
    }
   ],
   "source": [
    "{**dict1, **dict2}"
   ]
  },
  {
   "cell_type": "markdown",
   "id": "radical-confusion",
   "metadata": {},
   "source": [
    "### Access the value of key ‘history’ from the below dict\n"
   ]
  },
  {
   "cell_type": "code",
   "execution_count": 19,
   "id": "plain-handy",
   "metadata": {},
   "outputs": [],
   "source": [
    "sampleDict = { \n",
    "   \"class\":{ \n",
    "      \"student\":{ \n",
    "         \"name\":\"Mike\",\n",
    "         \"marks\":{ \n",
    "            \"physics\":70,\n",
    "            \"history\":80\n",
    "         }\n",
    "      }\n",
    "   }\n",
    "}"
   ]
  },
  {
   "cell_type": "code",
   "execution_count": 26,
   "id": "ideal-diamond",
   "metadata": {},
   "outputs": [
    {
     "data": {
      "text/plain": [
       "80"
      ]
     },
     "execution_count": 26,
     "metadata": {},
     "output_type": "execute_result"
    }
   ],
   "source": [
    "sampleDict['class']['student']['marks']['history']"
   ]
  },
  {
   "cell_type": "markdown",
   "id": "trying-samba",
   "metadata": {},
   "source": [
    "### Initialize dictionary with default values\n"
   ]
  },
  {
   "cell_type": "code",
   "execution_count": 27,
   "id": "alpha-kelly",
   "metadata": {},
   "outputs": [],
   "source": [
    "employees = ['Kelly', 'Emma', 'John']\n",
    "defaults = {\"designation\": 'Application Developer', \"salary\": 8000}"
   ]
  },
  {
   "cell_type": "code",
   "execution_count": 34,
   "id": "hindu-disclaimer",
   "metadata": {},
   "outputs": [
    {
     "data": {
      "text/plain": [
       "{'kelly': {'desination': 'Application Developer', 'salary': 8000},\n",
       " 'Emma': {'desination': 'Application Developer', 'salary': 8000},\n",
       " 'John': {'desination': 'Application Developer', 'salary': 8000}}"
      ]
     },
     "execution_count": 34,
     "metadata": {},
     "output_type": "execute_result"
    }
   ],
   "source": [
    "### Approach I\n",
    "sampleDict={'kelly':{'desination':'Application Developer', 'salary':8000}, \n",
    "'Emma':{'desination':'Application Developer', 'salary':8000},\n",
    "'John':{'desination':'Application Developer', 'salary':8000}}\n",
    "\n",
    "sampleDict"
   ]
  },
  {
   "cell_type": "code",
   "execution_count": 35,
   "id": "parliamentary-window",
   "metadata": {},
   "outputs": [
    {
     "data": {
      "text/plain": [
       "{'Kelly': {'designation': 'Application Developer', 'salary': 8000},\n",
       " 'Emma': {'designation': 'Application Developer', 'salary': 8000},\n",
       " 'John': {'designation': 'Application Developer', 'salary': 8000}}"
      ]
     },
     "execution_count": 35,
     "metadata": {},
     "output_type": "execute_result"
    }
   ],
   "source": [
    "### Approach II\n",
    "sampleDict=dict.fromkeys(employees, defaults)\n",
    "sampleDict"
   ]
  },
  {
   "cell_type": "markdown",
   "id": "developed-antigua",
   "metadata": {},
   "source": [
    "###  Create a new dictionary by extracting the following keys from a below dictionary\n",
    "* keys = [\"name\", \"salary\"]\n",
    "* answer : {'name': 'Kelly', 'salary': 8000}"
   ]
  },
  {
   "cell_type": "code",
   "execution_count": 61,
   "id": "visible-distinction",
   "metadata": {},
   "outputs": [],
   "source": [
    "sampleDict = {\n",
    "  \"name\": \"Kelly\",\n",
    "  \"age\":25,\n",
    "  \"salary\": 8000,\n",
    "  \"city\": \"New york\" \n",
    "}"
   ]
  },
  {
   "cell_type": "code",
   "execution_count": 63,
   "id": "presidential-victory",
   "metadata": {},
   "outputs": [
    {
     "data": {
      "text/plain": [
       "{'name': 'Kelly', 'salary': 8000}"
      ]
     },
     "execution_count": 63,
     "metadata": {},
     "output_type": "execute_result"
    }
   ],
   "source": [
    "keys = [\"name\", \"salary\"]\n",
    "{key:sampleDict[key] for key in keys}"
   ]
  },
  {
   "cell_type": "markdown",
   "id": "polished-logic",
   "metadata": {},
   "source": [
    "### Delete set of keys from a dictionary"
   ]
  },
  {
   "cell_type": "code",
   "execution_count": 75,
   "id": "characteristic-police",
   "metadata": {},
   "outputs": [],
   "source": [
    "sampleDict = {\n",
    "  \"name\": \"Kelly\",\n",
    "  \"age\":25,\n",
    "  \"salary\": 8000,\n",
    "  \"city\": \"New york\"\n",
    "  \n",
    "}\n",
    "keysToRemove = [\"name\", \"salary\"]"
   ]
  },
  {
   "cell_type": "code",
   "execution_count": 76,
   "id": "sustainable-triumph",
   "metadata": {},
   "outputs": [
    {
     "data": {
      "text/plain": [
       "{'age': 25, 'city': 'New york'}"
      ]
     },
     "execution_count": 76,
     "metadata": {},
     "output_type": "execute_result"
    }
   ],
   "source": [
    "### Approach I\n",
    "{sampleDict.pop(key) for key in keysToRemove}\n",
    "sampleDict"
   ]
  },
  {
   "cell_type": "code",
   "execution_count": 77,
   "id": "supposed-lambda",
   "metadata": {},
   "outputs": [
    {
     "data": {
      "text/plain": [
       "{'city': 'New york', 'age': 25}"
      ]
     },
     "execution_count": 77,
     "metadata": {},
     "output_type": "execute_result"
    }
   ],
   "source": [
    "### Approach II\n",
    "{k: sampleDict[k] for k in sampleDict.keys() - keysToRemove}"
   ]
  },
  {
   "cell_type": "markdown",
   "id": "pending-flash",
   "metadata": {},
   "source": [
    "###  Check if a value 200 exists in a dictionary\n"
   ]
  },
  {
   "cell_type": "code",
   "execution_count": 88,
   "id": "welsh-highland",
   "metadata": {},
   "outputs": [],
   "source": [
    "sampleDict = {'a': 100, 'b': 200, 'c': 300}"
   ]
  },
  {
   "cell_type": "code",
   "execution_count": 93,
   "id": "concrete-breast",
   "metadata": {},
   "outputs": [
    {
     "data": {
      "text/plain": [
       "True"
      ]
     },
     "execution_count": 93,
     "metadata": {},
     "output_type": "execute_result"
    }
   ],
   "source": [
    "200 in sampleDict.values()"
   ]
  },
  {
   "cell_type": "markdown",
   "id": "boxed-liberia",
   "metadata": {},
   "source": [
    "### Rename key `city` to `location` in the following dictionary"
   ]
  },
  {
   "cell_type": "code",
   "execution_count": 117,
   "id": "coated-ceramic",
   "metadata": {},
   "outputs": [],
   "source": [
    "sampleDict = {\n",
    "  \"name\": \"Kelly\",\n",
    "  \"age\":25,\n",
    "  \"salary\": 8000,\n",
    "  \"city\": \"New york\"\n",
    "}"
   ]
  },
  {
   "cell_type": "code",
   "execution_count": 118,
   "id": "responsible-huntington",
   "metadata": {},
   "outputs": [
    {
     "data": {
      "text/plain": [
       "{'name': 'Kelly', 'age': 25, 'salary': 8000, 'location': 'New york'}"
      ]
     },
     "execution_count": 118,
     "metadata": {},
     "output_type": "execute_result"
    }
   ],
   "source": [
    "sampleDict[\"location\"] = sampleDict.pop('city')\n",
    "sampleDict"
   ]
  },
  {
   "cell_type": "markdown",
   "id": "pediatric-soccer",
   "metadata": {},
   "source": [
    "### Get the key of a minimum value from the following dictionary"
   ]
  },
  {
   "cell_type": "code",
   "execution_count": 183,
   "id": "israeli-forest",
   "metadata": {},
   "outputs": [],
   "source": [
    "sampleDict = {\n",
    "  'Physics': 82,\n",
    "  'Math': 65,\n",
    "  'history': 75\n",
    "}"
   ]
  },
  {
   "cell_type": "code",
   "execution_count": 184,
   "id": "advance-portable",
   "metadata": {},
   "outputs": [
    {
     "data": {
      "text/plain": [
       "['Math']"
      ]
     },
     "execution_count": 184,
     "metadata": {},
     "output_type": "execute_result"
    }
   ],
   "source": [
    "### Approach I\n",
    "aList=[value for value in sampleDict.values()]\n",
    "[key for key, value in sampleDict.items() if value==min(aList)]"
   ]
  },
  {
   "cell_type": "code",
   "execution_count": 185,
   "id": "serial-asbestos",
   "metadata": {},
   "outputs": [
    {
     "data": {
      "text/plain": [
       "'Math'"
      ]
     },
     "execution_count": 185,
     "metadata": {},
     "output_type": "execute_result"
    }
   ],
   "source": [
    "### Approach II\n",
    "min(sampleDict, key=sampleDict.get)"
   ]
  },
  {
   "cell_type": "markdown",
   "id": "considerable-latter",
   "metadata": {},
   "source": [
    "### Change Brad’s salary to 8500 from a given Python dictionary"
   ]
  },
  {
   "cell_type": "code",
   "execution_count": 197,
   "id": "enhanced-syntax",
   "metadata": {},
   "outputs": [],
   "source": [
    "sampleDict = {\n",
    "     'emp1': {'name': 'Jhon', 'salary': 7500},\n",
    "     'emp2': {'name': 'Emma', 'salary': 8000},\n",
    "     'emp3': {'name': 'Brad', 'salary': 6500}\n",
    "}"
   ]
  },
  {
   "cell_type": "code",
   "execution_count": 206,
   "id": "complete-habitat",
   "metadata": {},
   "outputs": [
    {
     "data": {
      "text/plain": [
       "{'emp1': {'name': 'Jhon', 'salary': 7500},\n",
       " 'emp2': {'name': 'Emma', 'salary': 8000},\n",
       " 'emp3': {'name': 'Brad', 'salary': 8500}}"
      ]
     },
     "execution_count": 206,
     "metadata": {},
     "output_type": "execute_result"
    }
   ],
   "source": [
    "sampleDict['emp3']['salary'] = 8500\n",
    "sampleDict"
   ]
  },
  {
   "cell_type": "code",
   "execution_count": null,
   "id": "traditional-pontiac",
   "metadata": {},
   "outputs": [],
   "source": []
  }
 ],
 "metadata": {
  "kernelspec": {
   "display_name": "Python 3 (ipykernel)",
   "language": "python",
   "name": "python3"
  },
  "language_info": {
   "codemirror_mode": {
    "name": "ipython",
    "version": 3
   },
   "file_extension": ".py",
   "mimetype": "text/x-python",
   "name": "python",
   "nbconvert_exporter": "python",
   "pygments_lexer": "ipython3",
   "version": "3.9.7"
  },
  "toc": {
   "base_numbering": 1,
   "nav_menu": {},
   "number_sections": true,
   "sideBar": true,
   "skip_h1_title": false,
   "title_cell": "Table of Contents",
   "title_sidebar": "Contents",
   "toc_cell": false,
   "toc_position": {},
   "toc_section_display": true,
   "toc_window_display": true
  },
  "varInspector": {
   "cols": {
    "lenName": 16,
    "lenType": 16,
    "lenVar": 40
   },
   "kernels_config": {
    "python": {
     "delete_cmd_postfix": "",
     "delete_cmd_prefix": "del ",
     "library": "var_list.py",
     "varRefreshCmd": "print(var_dic_list())"
    },
    "r": {
     "delete_cmd_postfix": ") ",
     "delete_cmd_prefix": "rm(",
     "library": "var_list.r",
     "varRefreshCmd": "cat(var_dic_list()) "
    }
   },
   "types_to_exclude": [
    "module",
    "function",
    "builtin_function_or_method",
    "instance",
    "_Feature"
   ],
   "window_display": false
  }
 },
 "nbformat": 4,
 "nbformat_minor": 5
}
