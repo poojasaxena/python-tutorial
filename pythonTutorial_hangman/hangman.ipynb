{
 "cells": [
  {
   "cell_type": "code",
   "execution_count": 107,
   "metadata": {
    "collapsed": false
   },
   "outputs": [
    {
     "data": {
      "application/javascript": [
       "IPython.notebook.set_autosave_interval(60000)"
      ]
     },
     "metadata": {},
     "output_type": "display_data"
    },
    {
     "name": "stdout",
     "output_type": "stream",
     "text": [
      "Autosaving every 60 seconds\n"
     ]
    }
   ],
   "source": [
    "%autosave 60"
   ]
  },
  {
   "cell_type": "code",
   "execution_count": 108,
   "metadata": {
    "collapsed": true
   },
   "outputs": [],
   "source": [
    "import random\n",
    "import string\n",
    "from word_collection import words"
   ]
  },
  {
   "cell_type": "code",
   "execution_count": 109,
   "metadata": {
    "collapsed": true
   },
   "outputs": [],
   "source": [
    "def get_valid_word(words):\n",
    "    random_word= random.choice(words)\n",
    "    while '-' in random_word or ' ' in random_word:\n",
    "        random_word = random.choice(words)\n",
    "    return random_word    "
   ]
  },
  {
   "cell_type": "code",
   "execution_count": 146,
   "metadata": {
    "collapsed": false
   },
   "outputs": [],
   "source": [
    "def hangman():\n",
    "    word = get_valid_word(words).upper()\n",
    "    \n",
    "    word_letters = set(word) ## Letters from the random word\n",
    "    alphabets = set(string.ascii_uppercase)  ## Complete choice of Letters\n",
    "    used_letters = set() ## already guessed letters by the user\n",
    "        \n",
    "    user_life = 6\n",
    "            \n",
    "    ## Getting user input\n",
    "    while len(word_letters) > 0 and user_life > 0:\n",
    "        print(\"you have \", user_life, \"lives left. You have used these Characters: \", ' '.join(used_letters), \"\\n\")\n",
    "        \n",
    "        ## What current word is 'W - R D'\n",
    "        word_list = [letter if letter in used_letters else '-' for letter in word]\n",
    "        print('Current word: ',' '.join(word_list))\n",
    "\n",
    "        user_letter = input(\"Guess a letter: \").upper()\n",
    "        \n",
    "        if user_letter in alphabets - used_letters:\n",
    "            used_letters.add(user_letter)\n",
    "            \n",
    "            if user_letter in word_letters:\n",
    "                word_letters.remove(user_letter)\n",
    "            else:\n",
    "                user_life = user_life - 1\n",
    "                print(\"Letter is not in the word.\")\n",
    "                \n",
    "        elif user_letter in used_letters:\n",
    "            print(\"You have already guessed that character, Please try again.\")\n",
    "        else:\n",
    "            print(\"Invalid input, please try again.\")\n",
    "            \n",
    "    if user_life == 0:\n",
    "        print(\"Sorry you died, the word was: \", word)\n",
    "    else:\n",
    "        print(\"Congratulations, you have guessed the word: \", word)\n"
   ]
  },
  {
   "cell_type": "code",
   "execution_count": 147,
   "metadata": {
    "collapsed": false
   },
   "outputs": [
    {
     "name": "stdout",
     "output_type": "stream",
     "text": [
      "you have  6 lives left. You have used these Characters:   \n",
      "\n",
      "Current word:  - - - -\n",
      "Guess a letter: l\n",
      "Letter is not in the word.\n",
      "you have  5 lives left. You have used these Characters:  L \n",
      "\n",
      "Current word:  - - - -\n",
      "Guess a letter: s\n",
      "Letter is not in the word.\n",
      "you have  4 lives left. You have used these Characters:  L S \n",
      "\n",
      "Current word:  - - - -\n",
      "Guess a letter: r\n",
      "you have  4 lives left. You have used these Characters:  R L S \n",
      "\n",
      "Current word:  - - R -\n",
      "Guess a letter: a\n",
      "Letter is not in the word.\n",
      "you have  3 lives left. You have used these Characters:  A R L S \n",
      "\n",
      "Current word:  - - R -\n",
      "Guess a letter: q\n",
      "Letter is not in the word.\n",
      "you have  2 lives left. You have used these Characters:  A S R Q L \n",
      "\n",
      "Current word:  - - R -\n",
      "Guess a letter: n\n",
      "Letter is not in the word.\n",
      "you have  1 lives left. You have used these Characters:  A S R N Q L \n",
      "\n",
      "Current word:  - - R -\n",
      "Guess a letter: k\n",
      "Letter is not in the word.\n",
      "Sorry you died, the word was:  WIRY\n"
     ]
    }
   ],
   "source": [
    "hangman()"
   ]
  },
  {
   "cell_type": "code",
   "execution_count": null,
   "metadata": {
    "collapsed": true
   },
   "outputs": [],
   "source": []
  }
 ],
 "metadata": {
  "kernelspec": {
   "display_name": "Python 3",
   "language": "python",
   "name": "python3"
  },
  "language_info": {
   "codemirror_mode": {
    "name": "ipython",
    "version": 3
   },
   "file_extension": ".py",
   "mimetype": "text/x-python",
   "name": "python",
   "nbconvert_exporter": "python",
   "pygments_lexer": "ipython3",
   "version": "3.6.3"
  }
 },
 "nbformat": 4,
 "nbformat_minor": 2
}
