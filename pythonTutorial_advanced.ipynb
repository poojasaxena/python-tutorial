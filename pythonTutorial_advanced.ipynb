{
 "cells": [
  {
   "cell_type": "code",
   "execution_count": 295,
   "metadata": {},
   "outputs": [
    {
     "data": {
      "application/javascript": [
       "IPython.notebook.set_autosave_interval(30000)"
      ]
     },
     "metadata": {},
     "output_type": "display_data"
    },
    {
     "name": "stdout",
     "output_type": "stream",
     "text": [
      "Autosaving every 30 seconds\n"
     ]
    }
   ],
   "source": [
    "%autosave 30"
   ]
  },
  {
   "cell_type": "markdown",
   "metadata": {},
   "source": [
    "# Object-Oriented Programming (OOP)"
   ]
  },
  {
   "cell_type": "markdown",
   "metadata": {},
   "source": [
    "## Exercises"
   ]
  },
  {
   "cell_type": "markdown",
   "metadata": {},
   "source": [
    "### Create a Vehicle class with max_speed and mileage instance attributes"
   ]
  },
  {
   "cell_type": "code",
   "execution_count": 8,
   "metadata": {},
   "outputs": [
    {
     "name": "stdout",
     "output_type": "stream",
     "text": [
      "2650 , 4\n"
     ]
    }
   ],
   "source": [
    "class Vehicle:\n",
    "    def __init__(self, max_speed, mileage):\n",
    "        self.max_speed=max_speed\n",
    "        self.mileage=mileage\n",
    "        \n",
    "bmw=Vehicle(2650, 4)\n",
    "print(bmw.max_speed,',', bmw.mileage)"
   ]
  },
  {
   "cell_type": "markdown",
   "metadata": {},
   "source": [
    "### Create a Vehicle class without any variables and methods\n"
   ]
  },
  {
   "cell_type": "code",
   "execution_count": 9,
   "metadata": {},
   "outputs": [],
   "source": [
    "class Vehicle:\n",
    "    pass        "
   ]
  },
  {
   "cell_type": "markdown",
   "metadata": {},
   "source": [
    "### Create a child class Bus that will inherit all of the variables and methods of the Vehicle class"
   ]
  },
  {
   "cell_type": "code",
   "execution_count": 14,
   "metadata": {},
   "outputs": [],
   "source": [
    "class Vehicle:\n",
    "    def __init__(self, name, max_speed, mileage):\n",
    "        self.name = name\n",
    "        self.max_speed = max_speed\n",
    "        self.mileage = mileage\n",
    "\n",
    "class Bus(Vehicle):\n",
    "    pass"
   ]
  },
  {
   "cell_type": "code",
   "execution_count": 15,
   "metadata": {},
   "outputs": [
    {
     "name": "stdout",
     "output_type": "stream",
     "text": [
      "Big LKW 45 34\n"
     ]
    }
   ],
   "source": [
    "lkw=Bus('Big LKW', 45, 34)\n",
    "print(lkw.name, lkw.max_speed, lkw.mileage)"
   ]
  },
  {
   "cell_type": "markdown",
   "metadata": {},
   "source": [
    "### Create a Bus class that inherits from the Vehicle class. Give the capacity argument of Bus.seating_capacity() a default value of 50."
   ]
  },
  {
   "cell_type": "code",
   "execution_count": 16,
   "metadata": {},
   "outputs": [],
   "source": [
    "class Vehicle:\n",
    "    def __init__(self, name, max_speed, mileage):\n",
    "        self.name = name\n",
    "        self.max_speed = max_speed\n",
    "        self.mileage = mileage\n",
    "\n",
    "    def seating_capacity(self, capacity):\n",
    "        return f\"The seating capacity of a {self.name} is {capacity} passengers\"\n",
    "\n",
    "class Bus(Vehicle):\n",
    "    def seating_capacity(self, capacity=50):\n",
    "        return super().seating_capacity(capacity=50)"
   ]
  },
  {
   "cell_type": "code",
   "execution_count": 18,
   "metadata": {},
   "outputs": [
    {
     "data": {
      "text/plain": [
       "'The seating capacity of a Big LKW is 50 passengers'"
      ]
     },
     "execution_count": 18,
     "metadata": {},
     "output_type": "execute_result"
    }
   ],
   "source": [
    "lkw=Bus(\"Big LKW\", 100, 45)\n",
    "lkw.seating_capacity()"
   ]
  },
  {
   "cell_type": "markdown",
   "metadata": {},
   "source": [
    "### Define property that should have the same value for every class instance\n",
    "* Define a class attribute”color” with a default value white. I.e., Every Vehicle should be white"
   ]
  },
  {
   "cell_type": "code",
   "execution_count": 19,
   "metadata": {},
   "outputs": [],
   "source": [
    "class Vehicle:\n",
    "\n",
    "    def __init__(self, name, max_speed, mileage, color='white'):\n",
    "        self.name = name\n",
    "        self.max_speed = max_speed\n",
    "        self.mileage = mileage\n",
    "        self.color=color\n",
    "\n",
    "class Bus(Vehicle):\n",
    "    pass\n",
    "\n",
    "class Car(Vehicle):\n",
    "    pass"
   ]
  },
  {
   "cell_type": "code",
   "execution_count": 22,
   "metadata": {},
   "outputs": [
    {
     "name": "stdout",
     "output_type": "stream",
     "text": [
      "white\n"
     ]
    }
   ],
   "source": [
    "## Bus\n",
    "lkw=Bus(\"small lkw\", 100, 56)\n",
    "print(lkw.color)"
   ]
  },
  {
   "cell_type": "code",
   "execution_count": 23,
   "metadata": {},
   "outputs": [
    {
     "name": "stdout",
     "output_type": "stream",
     "text": [
      "white\n"
     ]
    }
   ],
   "source": [
    "## Car\n",
    "clio=Car(\"Clio\", 160, 45)\n",
    "print(clio.color)"
   ]
  },
  {
   "cell_type": "markdown",
   "metadata": {},
   "source": [
    "### Class Inheritence\n",
    "* Create a Bus child class that inherits from the Vehicle class. The default fare charge of any vehicle is seating capacity * 100. If Vehicle is Bus instance, we need to add an extra 10% on full fare as a maintenance charge. So total fare for bus instance will become the final amount = total fare + 10% of the total fare.\n",
    "* Note: The bus seating capacity is 50. so the final fare amount should be 5500. You need to override the fare() method of a Vehicle class in Bus class.\n"
   ]
  },
  {
   "cell_type": "code",
   "execution_count": 32,
   "metadata": {},
   "outputs": [
    {
     "name": "stdout",
     "output_type": "stream",
     "text": [
      "Total Bus fare is: 5500.0\n"
     ]
    }
   ],
   "source": [
    "class Vehicle:\n",
    "    def __init__(self, name, mileage, capacity):\n",
    "        self.name = name\n",
    "        self.mileage = mileage\n",
    "        self.capacity = capacity\n",
    "\n",
    "    def fare(self):\n",
    "        return self.capacity * 100\n",
    "\n",
    "class Bus(Vehicle):\n",
    "    def fare(self):\n",
    "        return super().fare() + (10/100*super().fare())\n",
    "\n",
    "School_bus = Bus(\"School Volvo\", 12, 50)\n",
    "print(\"Total Bus fare is:\", School_bus.fare())"
   ]
  },
  {
   "cell_type": "markdown",
   "metadata": {},
   "source": [
    "### Determine which class a given Bus object belongs to (Check type of an object)"
   ]
  },
  {
   "cell_type": "code",
   "execution_count": 34,
   "metadata": {},
   "outputs": [],
   "source": [
    "class Vehicle:\n",
    "    def __init__(self, name, mileage, capacity):\n",
    "        self.name = name\n",
    "        self.mileage = mileage\n",
    "        self.capacity = capacity\n",
    "\n",
    "class Bus(Vehicle):\n",
    "    pass\n",
    "\n",
    "School_bus = Bus(\"School Volvo\", 12, 50)"
   ]
  },
  {
   "cell_type": "code",
   "execution_count": 35,
   "metadata": {},
   "outputs": [
    {
     "data": {
      "text/plain": [
       "__main__.Bus"
      ]
     },
     "execution_count": 35,
     "metadata": {},
     "output_type": "execute_result"
    }
   ],
   "source": [
    "type(School_bus)"
   ]
  },
  {
   "cell_type": "markdown",
   "metadata": {},
   "source": [
    "### Determine if School_bus is also an instance of the Vehicle class\n"
   ]
  },
  {
   "cell_type": "code",
   "execution_count": 37,
   "metadata": {},
   "outputs": [],
   "source": [
    "class Vehicle:\n",
    "    def __init__(self, name, mileage, capacity):\n",
    "        self.name = name\n",
    "        self.mileage = mileage\n",
    "        self.capacity = capacity\n",
    "\n",
    "class Bus(Vehicle):\n",
    "    pass\n",
    "\n",
    "School_bus = Bus(\"School Volvo\", 12, 50)"
   ]
  },
  {
   "cell_type": "code",
   "execution_count": 40,
   "metadata": {},
   "outputs": [
    {
     "data": {
      "text/plain": [
       "True"
      ]
     },
     "execution_count": 40,
     "metadata": {},
     "output_type": "execute_result"
    }
   ],
   "source": [
    "isinstance(School_bus, Vehicle)"
   ]
  },
  {
   "cell_type": "markdown",
   "metadata": {},
   "source": [
    "# Random Data Generation"
   ]
  },
  {
   "cell_type": "markdown",
   "metadata": {},
   "source": [
    "## Tutorial"
   ]
  },
  {
   "attachments": {
    "image.png": {
     "image/png": "[encoded data removed]"
    }
   },
   "cell_type": "markdown",
   "metadata": {},
   "source": [
    "### Random number Generator\n",
    "<div>\n",
    "<img src=\"attachment:image.png\" width=500 height=700 style='float:left'/>\n",
    "</div>"
   ]
  },
  {
   "attachments": {
    "image.png": {
     "image/png": "[encoded data removed]"
    }
   },
   "cell_type": "markdown",
   "metadata": {},
   "source": [
    "### Secret module function\n",
    "\n",
    "<div>\n",
    "<img src=\"attachment:image.png\" width=\"500\" height=\"600\" style=\"float:left\"/>\n",
    "</div>\n"
   ]
  },
  {
   "cell_type": "markdown",
   "metadata": {},
   "source": [
    "## Exercises"
   ]
  },
  {
   "cell_type": "markdown",
   "metadata": {},
   "source": [
    "### Generate 3 random integers between 100 and 999 which is divisible by 5"
   ]
  },
  {
   "cell_type": "code",
   "execution_count": 45,
   "metadata": {},
   "outputs": [
    {
     "data": {
      "text/plain": [
       "370"
      ]
     },
     "execution_count": 45,
     "metadata": {},
     "output_type": "execute_result"
    }
   ],
   "source": [
    "import random\n",
    "random.randint(100, 999)"
   ]
  },
  {
   "cell_type": "code",
   "execution_count": 69,
   "metadata": {},
   "outputs": [
    {
     "name": "stdout",
     "output_type": "stream",
     "text": [
      "[390, 535, 600]\n"
     ]
    }
   ],
   "source": [
    "### Approach I\n",
    "aList=[]\n",
    "for i in range(100):\n",
    "    randNum=random.randint(100, 999)\n",
    "    if randNum%5==0:\n",
    "        aList.append(randNum)\n",
    "    if len(aList) ==3:\n",
    "        break\n",
    "    \n",
    "print(aList)"
   ]
  },
  {
   "cell_type": "code",
   "execution_count": 88,
   "metadata": {},
   "outputs": [
    {
     "data": {
      "text/plain": [
       "[260, 320, 650]"
      ]
     },
     "execution_count": 88,
     "metadata": {},
     "output_type": "execute_result"
    }
   ],
   "source": [
    "### Approach II\n",
    "[random.randrange(100, 999,5) for i in range(3)]"
   ]
  },
  {
   "cell_type": "markdown",
   "metadata": {},
   "source": [
    "### Random Lottery Pick. Generate 100 random lottery tickets and pick two lucky tickets from it as a winner.\n",
    "* Note you must adhere to the following conditions:\n",
    "    - The lottery number must be 10 digits long.\n",
    "    - All 100 ticket number must be unique.\n"
   ]
  },
  {
   "cell_type": "code",
   "execution_count": 99,
   "metadata": {},
   "outputs": [
    {
     "name": "stdout",
     "output_type": "stream",
     "text": [
      "[9650465396, 8904387681, 9995562554, 8657110749, 3932890345, 5645054400, 7452472002, 9573344505, 8998111284, 2536585422, 2437819719, 5793696260, 8056684018, 5551182813, 4626584419, 2190942390, 2734937309, 8642019676, 5723477805, 9727674049, 9116506583, 8592675835, 8201683021, 5820675404, 4527103325, 6329746160, 5309207463, 6458023865, 6537582307, 5226321146, 7750120533, 4447690347, 5776678298, 4349918832, 2932803470, 7815389633, 1483412575, 8789079307, 2704424473, 6942859018, 6522225567, 8767570839, 6608200936, 1913458066, 6740847129, 1694478528, 7690643608, 3493000185, 4055602708, 4142250179, 7939739689, 7897287452, 3084006837, 1020107875, 1180035203, 8878021990, 4214278636, 9561321810, 8102829523, 9869225514, 6263634950, 8529311355, 6932977342, 4132730459, 1520656657, 3176148986, 9597857762, 1150288688, 5361107271, 5371013282, 8114649225, 9406359435, 7905246514, 3842764483, 2920541128, 4766769052, 4911647867, 4003033406, 3973158478, 9608662262, 2638365737, 8599558267, 8579787674, 9754611799, 6979567421, 8377277193, 8742027375, 8129545069, 5141175915, 7812642332, 6425539750, 4500144927, 2751118105, 8978186275, 9278385149, 8019392380, 4949039175, 7778691305, 4865561416, 6723768224]\n",
      "winner=====> [5333575425, 2549238358]\n"
     ]
    }
   ],
   "source": [
    "import random\n",
    "lottery_ticket_list=[]\n",
    "\n",
    "for i in range(100):\n",
    "    lotnum=random.randrange(999999999, 10000000000)\n",
    "    lottery_ticket_list.append(lotnum)\n",
    "print(lotteryNum)\n",
    "\n",
    "winners = random.sample(lottery_ticket_list, 2)\n",
    "print('winner=====>',winners)"
   ]
  },
  {
   "cell_type": "markdown",
   "metadata": {},
   "source": [
    "### Generate 6 digit random secure OTP"
   ]
  },
  {
   "cell_type": "code",
   "execution_count": 103,
   "metadata": {},
   "outputs": [
    {
     "name": "stdout",
     "output_type": "stream",
     "text": [
      "secure otp: 505436\n"
     ]
    }
   ],
   "source": [
    "import secrets\n",
    "secretGenerator=secrets.SystemRandom()\n",
    "OTP=secretGenerator.randrange(100000,999999)\n",
    "print('secure otp:', OTP)"
   ]
  },
  {
   "cell_type": "markdown",
   "metadata": {},
   "source": [
    "### Pick a random character from a given String"
   ]
  },
  {
   "cell_type": "code",
   "execution_count": 108,
   "metadata": {},
   "outputs": [
    {
     "data": {
      "text/plain": [
       "'w'"
      ]
     },
     "execution_count": 108,
     "metadata": {},
     "output_type": "execute_result"
    }
   ],
   "source": [
    "import random\n",
    "aString='There is the waterfall!'\n",
    "random.choice(aString)"
   ]
  },
  {
   "cell_type": "markdown",
   "metadata": {},
   "source": [
    "### Generate  random String of length 5\n"
   ]
  },
  {
   "cell_type": "code",
   "execution_count": 128,
   "metadata": {},
   "outputs": [],
   "source": [
    "import random\n",
    "import string\n",
    "\n",
    "def get_random_string(length):\n",
    "    letters= string.ascii_letters\n",
    "    result_str=''.join(random.choice(letters) for i in range(length))\n",
    "    print(f'random string of length {length} is {result_str}')"
   ]
  },
  {
   "cell_type": "code",
   "execution_count": 129,
   "metadata": {},
   "outputs": [
    {
     "name": "stdout",
     "output_type": "stream",
     "text": [
      "random string of length 4 is NRaQ\n"
     ]
    }
   ],
   "source": [
    "get_random_string(4)"
   ]
  },
  {
   "cell_type": "markdown",
   "metadata": {},
   "source": [
    "### Generate a random Password which meets the following conditions\n",
    "* Password length must be 10 characters long.\n",
    "* It must contain at least 2 upper case letters, 1 digit, and 1 special symbol."
   ]
  },
  {
   "cell_type": "code",
   "execution_count": 201,
   "metadata": {},
   "outputs": [],
   "source": [
    "### Approach I\n",
    "import random\n",
    "import string\n",
    "\n",
    "def random_password():\n",
    "    a=''.join(random.choice(string.punctuation) for i in range(1) )\n",
    "    b=''.join(random.choice(string.ascii_uppercase) for i in range(2))\n",
    "    c=''.join(random.choice(string.digits) for i in range(2))\n",
    "    d=a.join(b)\n",
    "    return d.join(c)"
   ]
  },
  {
   "cell_type": "code",
   "execution_count": 200,
   "metadata": {},
   "outputs": [
    {
     "data": {
      "text/plain": [
       "'1D@H9'"
      ]
     },
     "execution_count": 200,
     "metadata": {},
     "output_type": "execute_result"
    }
   ],
   "source": [
    "random_password()"
   ]
  },
  {
   "cell_type": "code",
   "execution_count": 202,
   "metadata": {},
   "outputs": [
    {
     "name": "stdout",
     "output_type": "stream",
     "text": [
      "Password is  *'40iHZ&P(\n"
     ]
    }
   ],
   "source": [
    "### Approach II\n",
    "import random\n",
    "import string\n",
    "\n",
    "def randomPassword():\n",
    "    randomSource = string.ascii_letters + string.digits + string.punctuation\n",
    "    password = random.sample(randomSource, 6)\n",
    "    password += random.sample(string.ascii_uppercase, 2)\n",
    "    password += random.choice(string.digits)\n",
    "    password += random.choice(string.punctuation)\n",
    "\n",
    "    passwordList = list(password)\n",
    "    random.SystemRandom().shuffle(passwordList)\n",
    "    password = ''.join(passwordList)\n",
    "    return password\n",
    "\n",
    "print (\"Password is \", randomPassword())"
   ]
  },
  {
   "cell_type": "markdown",
   "metadata": {},
   "source": [
    "### Calculate multiplication of two random float numbers\n",
    "* Note:\n",
    "    - First random float number must be between 0.1 and 1\n",
    "    - Second random float number must be between 9.5 and 99.5\n"
   ]
  },
  {
   "cell_type": "code",
   "execution_count": 221,
   "metadata": {},
   "outputs": [
    {
     "name": "stdout",
     "output_type": "stream",
     "text": [
      "multplication of 0.09208239352371117 and 93.53370824839378 is 8.612807730660585\n"
     ]
    }
   ],
   "source": [
    "import random \n",
    "firstNum=random.random()\n",
    "secNum = random.uniform(9.5, 99.5)\n",
    "print(f\"multplication of {firstNum} and {secNum} is {firstNum*secNum}\")\n"
   ]
  },
  {
   "cell_type": "markdown",
   "metadata": {},
   "source": [
    "###  Generate random secure token of 64 bytes and random URL"
   ]
  },
  {
   "cell_type": "code",
   "execution_count": 222,
   "metadata": {},
   "outputs": [
    {
     "name": "stdout",
     "output_type": "stream",
     "text": [
      "random secrure url of 64 bite is jSyrZCIgGuUsWjkM2jh_Z5XnFlCrAsvxLPZjULwLbypvjnAG4534er1j-hhYoSvO5KNy1c2pwEWGhAkbOy468A\n",
      "random secure token of 64 bite is c43611b9cf73947d0cbff519dc5afb292aff1867389126d1dc812b0bed2abcdfb109f041d3cba98ab8a358ba8142ceda074c94cd7eafd2808a0be0110174f021\n"
     ]
    }
   ],
   "source": [
    "import secrets\n",
    "import random\n",
    "            \n",
    "print(f'random secrure url of 64 bite is {secrets.token_urlsafe(64)}')\n",
    "print(f'random secure token of 64 bite is {secrets.token_hex(64)}')\n"
   ]
  },
  {
   "cell_type": "markdown",
   "metadata": {},
   "source": [
    "### Roll dice in such a way that every time you get the same number\n",
    "* Dice has 6 numbers (from 1 to 6). Roll dice in such a way that every time you must get the same output number. do this 5 times."
   ]
  },
  {
   "cell_type": "code",
   "execution_count": 244,
   "metadata": {},
   "outputs": [],
   "source": [
    "import random\n",
    "def roll_dice(output):\n",
    "    rolled_output=[]\n",
    "    for i in range(50):\n",
    "        randNum=random.randint(1,6)\n",
    "        if randNum==output:\n",
    "            rolled_output.append(randNum)\n",
    "        if len(rolled_output)==5:\n",
    "            break\n",
    "    print(rolled_output)"
   ]
  },
  {
   "cell_type": "code",
   "execution_count": 246,
   "metadata": {},
   "outputs": [
    {
     "name": "stdout",
     "output_type": "stream",
     "text": [
      "[4, 4, 4, 4, 4]\n"
     ]
    }
   ],
   "source": [
    "roll_dice(4)"
   ]
  },
  {
   "cell_type": "code",
   "execution_count": 253,
   "metadata": {},
   "outputs": [
    {
     "name": "stdout",
     "output_type": "stream",
     "text": [
      "Randomly selecting same number of a dice\n",
      "1\n",
      "1\n",
      "1\n",
      "1\n",
      "1\n"
     ]
    }
   ],
   "source": [
    "### Approach II\n",
    "import random\n",
    "\n",
    "dice = [1, 2, 3, 4, 5, 6]\n",
    "print(\"Randomly selecting same number of a dice\")\n",
    "for i in range(5):\n",
    "    random.seed(28)\n",
    "    print(random.choice(dice))"
   ]
  },
  {
   "cell_type": "markdown",
   "metadata": {},
   "source": [
    "### Generate a random date between given start and end dates"
   ]
  },
  {
   "cell_type": "code",
   "execution_count": 260,
   "metadata": {},
   "outputs": [
    {
     "name": "stdout",
     "output_type": "stream",
     "text": [
      "2020-01-23\n"
     ]
    }
   ],
   "source": [
    "### Approach I\n",
    "import random\n",
    "import datetime\n",
    "\n",
    "start_date = datetime.date(2020, 1, 1)\n",
    "end_date = datetime.date(2020, 2, 1)\n",
    "\n",
    "time_between_dates = end_date - start_date\n",
    "days_between_dates = time_between_dates.days\n",
    "\n",
    "random_number_of_days = random.randrange(days_between_dates)\n",
    "random_date = start_date + datetime.timedelta(days=random_number_of_days)\n",
    "\n",
    "print(random_date)"
   ]
  },
  {
   "cell_type": "code",
   "execution_count": 261,
   "metadata": {},
   "outputs": [
    {
     "name": "stdout",
     "output_type": "stream",
     "text": [
      "Printing random date between 1/1/2016  and  12/12/2018\n",
      "Random Date =  07/10/2016\n"
     ]
    }
   ],
   "source": [
    "### Approach II\n",
    "import random\n",
    "import time\n",
    "\n",
    "def getRandomDate(startDate, endDate ):\n",
    "    print(\"Printing random date between\", startDate, \" and \", endDate)\n",
    "    randomGenerator = random.random()\n",
    "    dateFormat = '%m/%d/%Y'\n",
    "\n",
    "    startTime = time.mktime(time.strptime(startDate, dateFormat))\n",
    "    endTime = time.mktime(time.strptime(endDate, dateFormat))\n",
    "\n",
    "    randomTime = startTime + randomGenerator * (endTime - startTime)\n",
    "    randomDate = time.strftime(dateFormat, time.localtime(randomTime))\n",
    "    return randomDate\n",
    "\n",
    "print (\"Random Date = \", getRandomDate(\"1/1/2016\", \"12/12/2018\"))\n"
   ]
  },
  {
   "cell_type": "markdown",
   "metadata": {},
   "source": [
    "# Decorators\n",
    "* allow you to make simple modifications to callable objects like functions, methods, or classes. We shall deal with functions for this tutorial.  \n",
    "* The syntax:\n",
    "```\n",
    "@decorator\n",
    "def functions(arg):\n",
    "    return \"value\"\n",
    "```\n",
    "is equivalent to:\n",
    "```\n",
    "def function(arg):\n",
    "    return \"value\"\n",
    "function = decorator(function) # this passes the function to the decorator, and reassigns it to the functions\n",
    " \n",
    "```\n",
    "\n",
    "* Refernz:\n",
    "    - [ref](https://realpython.com/primer-on-python-decorators/)\n",
    "    - [ref_2](https://jobtensor.com/Tutorial/Python/en/Decorators)"
   ]
  },
  {
   "cell_type": "markdown",
   "metadata": {},
   "source": [
    "## Tutorial"
   ]
  },
  {
   "cell_type": "markdown",
   "metadata": {},
   "source": [
    "### Basic function"
   ]
  },
  {
   "cell_type": "code",
   "execution_count": 267,
   "metadata": {},
   "outputs": [],
   "source": [
    "def my_decorator(func):\n",
    "    def wrapper():\n",
    "        print(\"something is happening before the function is called\")\n",
    "        func()\n",
    "        print(\"something is happening after the function is called.\")\n",
    "    return wrapper"
   ]
  },
  {
   "cell_type": "code",
   "execution_count": 270,
   "metadata": {},
   "outputs": [
    {
     "name": "stdout",
     "output_type": "stream",
     "text": [
      "something is happening before the function is called\n",
      "Whee!!!\n",
      "something is happening after the function is called.\n"
     ]
    }
   ],
   "source": [
    "## Approach I\n",
    "def say_whee():\n",
    "    print('Whee!!!')\n",
    "\n",
    "say_whee = my_decorator(say_whee)\n",
    "say_whee()"
   ]
  },
  {
   "cell_type": "code",
   "execution_count": 271,
   "metadata": {},
   "outputs": [
    {
     "name": "stdout",
     "output_type": "stream",
     "text": [
      "something is happening before the function is called\n",
      "Whee!!!\n",
      "something is happening after the function is called.\n"
     ]
    }
   ],
   "source": [
    "### Approach II\n",
    "@my_decorator\n",
    "def say_whee():\n",
    "    print(\"Whee!!!\")\n",
    "    \n",
    "say_whee()"
   ]
  },
  {
   "cell_type": "markdown",
   "metadata": {},
   "source": [
    "###  Decorator wrap a function, modifying its behavior"
   ]
  },
  {
   "cell_type": "code",
   "execution_count": 272,
   "metadata": {},
   "outputs": [],
   "source": [
    "from datetime import datetime\n",
    "\n",
    "def not_during_the_night(func):\n",
    "    def wrapper():\n",
    "        print(\"hr : \", datetime.now().hour)\n",
    "        if 8 < datetime.now().hour < 22:\n",
    "            func()\n",
    "        else:\n",
    "            pass            \n",
    "    return wrapper\n",
    "\n",
    "@not_during_the_night\n",
    "def say_whee():\n",
    "    print('whee is the common function to be called to make us awake!!')"
   ]
  },
  {
   "cell_type": "code",
   "execution_count": 274,
   "metadata": {},
   "outputs": [
    {
     "name": "stdout",
     "output_type": "stream",
     "text": [
      "hr :  13\n",
      "whee is the common function to be called to make us awake!!\n"
     ]
    }
   ],
   "source": [
    "test=say_whee()"
   ]
  },
  {
   "cell_type": "markdown",
   "metadata": {},
   "source": [
    "### Decorating functions with arguments "
   ]
  },
  {
   "cell_type": "code",
   "execution_count": 298,
   "metadata": {},
   "outputs": [],
   "source": [
    "def do_once(func):\n",
    "    def wrapper_return_func(*args, **kwargs):\n",
    "        func(*args, **kwargs)\n",
    "        return func(*args,  **kwargs)\n",
    "    return wrapper_return_func\n",
    "\n",
    "@do_once\n",
    "def greet(name):\n",
    "    print(\"creating greetings for \", name)\n",
    "    #return name\n",
    "@do_once\n",
    "def add(a,b):\n",
    "    return a + b"
   ]
  },
  {
   "cell_type": "code",
   "execution_count": 299,
   "metadata": {},
   "outputs": [
    {
     "name": "stdout",
     "output_type": "stream",
     "text": [
      "creating greetings for  ole stegen\n",
      "creating greetings for  ole stegen\n"
     ]
    }
   ],
   "source": [
    "greet(\"ole stegen\")"
   ]
  },
  {
   "cell_type": "code",
   "execution_count": 300,
   "metadata": {},
   "outputs": [
    {
     "data": {
      "text/plain": [
       "9"
      ]
     },
     "execution_count": 300,
     "metadata": {},
     "output_type": "execute_result"
    }
   ],
   "source": [
    "add(4,5)"
   ]
  },
  {
   "cell_type": "code",
   "execution_count": 282,
   "metadata": {},
   "outputs": [
    {
     "data": {
      "text/plain": [
       "<function __main__.do_once.<locals>.wrapper_return_func(*args, **kwargs)>"
      ]
     },
     "execution_count": 282,
     "metadata": {},
     "output_type": "execute_result"
    }
   ],
   "source": [
    "greet"
   ]
  },
  {
   "cell_type": "code",
   "execution_count": 283,
   "metadata": {},
   "outputs": [
    {
     "data": {
      "text/plain": [
       "'wrapper_return_func'"
      ]
     },
     "execution_count": 283,
     "metadata": {},
     "output_type": "execute_result"
    }
   ],
   "source": [
    "greet.__name__"
   ]
  },
  {
   "cell_type": "code",
   "execution_count": 285,
   "metadata": {},
   "outputs": [
    {
     "name": "stdout",
     "output_type": "stream",
     "text": [
      "Help on function wrapper_return_func in module __main__:\n",
      "\n",
      "wrapper_return_func(*args, **kwargs)\n",
      "\n"
     ]
    }
   ],
   "source": [
    "help(greet)"
   ]
  },
  {
   "cell_type": "markdown",
   "metadata": {},
   "source": [
    "### Functool wrapper"
   ]
  },
  {
   "cell_type": "markdown",
   "metadata": {},
   "source": [
    "However, after being decorated, greet() has gotten very confused about its identity. It now reports being the wrapper_do_twice() inner function inside the do_twice() decorator. Although technically true, this is not very useful information.\n",
    "\n",
    "To fix this, decorators should use the @functools.wraps decorator, which will preserve information about the original function. Update decorators.py again:\n"
   ]
  },
  {
   "cell_type": "code",
   "execution_count": 288,
   "metadata": {},
   "outputs": [],
   "source": [
    "import functools\n",
    "\n",
    "def do_once(func):\n",
    "    @functools.wraps(func)\n",
    "    def wrapper_return_func(*args, **kwargs):\n",
    "        func(*args, **kwargs)\n",
    "        return func(*args,  **kwargs)\n",
    "    return wrapper_return_func\n",
    "\n",
    "@do_once\n",
    "def greet(name):\n",
    "    print(\"creating greetings for \", name)\n",
    "    return name"
   ]
  },
  {
   "cell_type": "code",
   "execution_count": 289,
   "metadata": {},
   "outputs": [
    {
     "name": "stdout",
     "output_type": "stream",
     "text": [
      "creating greetings for  Ole\n",
      "creating greetings for  Ole\n"
     ]
    },
    {
     "data": {
      "text/plain": [
       "'Ole'"
      ]
     },
     "execution_count": 289,
     "metadata": {},
     "output_type": "execute_result"
    }
   ],
   "source": [
    "greet(\"Ole\")"
   ]
  },
  {
   "cell_type": "code",
   "execution_count": 290,
   "metadata": {},
   "outputs": [
    {
     "data": {
      "text/plain": [
       "<function __main__.greet(name)>"
      ]
     },
     "execution_count": 290,
     "metadata": {},
     "output_type": "execute_result"
    }
   ],
   "source": [
    "greet"
   ]
  },
  {
   "cell_type": "code",
   "execution_count": 291,
   "metadata": {},
   "outputs": [
    {
     "data": {
      "text/plain": [
       "'greet'"
      ]
     },
     "execution_count": 291,
     "metadata": {},
     "output_type": "execute_result"
    }
   ],
   "source": [
    "greet.__name__"
   ]
  },
  {
   "cell_type": "code",
   "execution_count": 292,
   "metadata": {},
   "outputs": [
    {
     "name": "stdout",
     "output_type": "stream",
     "text": [
      "Help on function greet in module __main__:\n",
      "\n",
      "greet(name)\n",
      "\n"
     ]
    }
   ],
   "source": [
    "help(greet)"
   ]
  },
  {
   "cell_type": "code",
   "execution_count": 293,
   "metadata": {},
   "outputs": [
    {
     "data": {
      "text/plain": [
       "['__annotations__',\n",
       " '__call__',\n",
       " '__class__',\n",
       " '__closure__',\n",
       " '__code__',\n",
       " '__defaults__',\n",
       " '__delattr__',\n",
       " '__dict__',\n",
       " '__dir__',\n",
       " '__doc__',\n",
       " '__eq__',\n",
       " '__format__',\n",
       " '__ge__',\n",
       " '__get__',\n",
       " '__getattribute__',\n",
       " '__globals__',\n",
       " '__gt__',\n",
       " '__hash__',\n",
       " '__init__',\n",
       " '__init_subclass__',\n",
       " '__kwdefaults__',\n",
       " '__le__',\n",
       " '__lt__',\n",
       " '__module__',\n",
       " '__name__',\n",
       " '__ne__',\n",
       " '__new__',\n",
       " '__qualname__',\n",
       " '__reduce__',\n",
       " '__reduce_ex__',\n",
       " '__repr__',\n",
       " '__setattr__',\n",
       " '__sizeof__',\n",
       " '__str__',\n",
       " '__subclasshook__',\n",
       " '__wrapped__']"
      ]
     },
     "execution_count": 293,
     "metadata": {},
     "output_type": "execute_result"
    }
   ],
   "source": [
    "dir(greet)"
   ]
  },
  {
   "cell_type": "code",
   "execution_count": null,
   "metadata": {},
   "outputs": [],
   "source": []
  }
 ],
 "metadata": {
  "kernelspec": {
   "display_name": "Python 3",
   "language": "python",
   "name": "python3"
  },
  "language_info": {
   "codemirror_mode": {
    "name": "ipython",
    "version": 3
   },
   "file_extension": ".py",
   "mimetype": "text/x-python",
   "name": "python",
   "nbconvert_exporter": "python",
   "pygments_lexer": "ipython3",
   "version": "3.8.0"
  },
  "toc": {
   "base_numbering": 1,
   "nav_menu": {},
   "number_sections": true,
   "sideBar": true,
   "skip_h1_title": false,
   "title_cell": "Table of Contents",
   "title_sidebar": "Contents",
   "toc_cell": false,
   "toc_position": {},
   "toc_section_display": true,
   "toc_window_display": true
  },
  "varInspector": {
   "cols": {
    "lenName": 16,
    "lenType": 16,
    "lenVar": 40
   },
   "kernels_config": {
    "python": {
     "delete_cmd_postfix": "",
     "delete_cmd_prefix": "del ",
     "library": "var_list.py",
     "varRefreshCmd": "print(var_dic_list())"
    },
    "r": {
     "delete_cmd_postfix": ") ",
     "delete_cmd_prefix": "rm(",
     "library": "var_list.r",
     "varRefreshCmd": "cat(var_dic_list()) "
    }
   },
   "types_to_exclude": [
    "module",
    "function",
    "builtin_function_or_method",
    "instance",
    "_Feature"
   ],
   "window_display": false
  }
 },
 "nbformat": 4,
 "nbformat_minor": 2
}
