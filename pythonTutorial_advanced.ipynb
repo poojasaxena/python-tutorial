{
  "nbformat": 4,
  "nbformat_minor": 0,
  "metadata": {
    "kernelspec": {
      "display_name": "Python 3",
      "language": "python",
      "name": "python3"
    },
    "language_info": {
      "codemirror_mode": {
        "name": "ipython",
        "version": 3
      },
      "file_extension": ".py",
      "mimetype": "text/x-python",
      "name": "python",
      "nbconvert_exporter": "python",
      "pygments_lexer": "ipython3",
      "version": "3.8.0"
    },
    "toc": {
      "base_numbering": 1,
      "nav_menu": {},
      "number_sections": true,
      "sideBar": true,
      "skip_h1_title": false,
      "title_cell": "Table of Contents",
      "title_sidebar": "Contents",
      "toc_cell": false,
      "toc_position": {},
      "toc_section_display": true,
      "toc_window_display": true
    },
    "varInspector": {
      "cols": {
        "lenName": 16,
        "lenType": 16,
        "lenVar": 40
      },
      "kernels_config": {
        "python": {
          "delete_cmd_postfix": "",
          "delete_cmd_prefix": "del ",
          "library": "var_list.py",
          "varRefreshCmd": "print(var_dic_list())"
        },
        "r": {
          "delete_cmd_postfix": ") ",
          "delete_cmd_prefix": "rm(",
          "library": "var_list.r",
          "varRefreshCmd": "cat(var_dic_list()) "
        }
      },
      "types_to_exclude": [
        "module",
        "function",
        "builtin_function_or_method",
        "instance",
        "_Feature"
      ],
      "window_display": false
    },
    "colab": {
      "name": "pythonTutorial_advanced.ipynb",
      "provenance": [],
      "toc_visible": true,
      "include_colab_link": true
    }
  },
  "cells": [
    {
      "cell_type": "markdown",
      "metadata": {
        "id": "view-in-github",
        "colab_type": "text"
      },
      "source": [
        "<a href=\"https://colab.research.google.com/github/poojasaxena/pythonTutorial/blob/main/pythonTutorial_advanced.ipynb\" target=\"_parent\"><img src=\"https://colab.research.google.com/assets/colab-badge.svg\" alt=\"Open In Colab\"/></a>"
      ]
    },
    {
      "cell_type": "code",
      "metadata": {
        "id": "QftwvTRDW286",
        "outputId": "64707109-b920-4399-c857-e71ab28537f3"
      },
      "source": [
        "%autosave 30"
      ],
      "execution_count": null,
      "outputs": [
        {
          "data": {
            "application/javascript": [
              "IPython.notebook.set_autosave_interval(30000)"
            ]
          },
          "metadata": {},
          "output_type": "display_data"
        },
        {
          "name": "stdout",
          "output_type": "stream",
          "text": [
            "Autosaving every 30 seconds\n"
          ]
        }
      ]
    },
    {
      "cell_type": "markdown",
      "metadata": {
        "id": "IXpADKpAW288"
      },
      "source": [
        "# Object-Oriented Programming (OOP)"
      ]
    },
    {
      "cell_type": "markdown",
      "metadata": {
        "id": "zl4R0OcFW28-"
      },
      "source": [
        "## Exercises"
      ]
    },
    {
      "cell_type": "markdown",
      "metadata": {
        "id": "XfM3WVInW28-"
      },
      "source": [
        "### Create a Vehicle class with max_speed and mileage instance attributes"
      ]
    },
    {
      "cell_type": "code",
      "metadata": {
        "id": "IrQ6JG5rW28_",
        "outputId": "8b639565-382d-4368-83fb-91a2bb3e3f65"
      },
      "source": [
        "class Vehicle:\n",
        "    def __init__(self, max_speed, mileage):\n",
        "        self.max_speed=max_speed\n",
        "        self.mileage=mileage\n",
        "        \n",
        "bmw=Vehicle(2650, 4)\n",
        "print(bmw.max_speed,',', bmw.mileage)"
      ],
      "execution_count": null,
      "outputs": [
        {
          "name": "stdout",
          "output_type": "stream",
          "text": [
            "2650 , 4\n"
          ]
        }
      ]
    },
    {
      "cell_type": "markdown",
      "metadata": {
        "id": "F8XDaKspW28_"
      },
      "source": [
        "### Create a Vehicle class without any variables and methods\n"
      ]
    },
    {
      "cell_type": "code",
      "metadata": {
        "id": "THkAFPn9W29A"
      },
      "source": [
        "class Vehicle:\n",
        "    pass        "
      ],
      "execution_count": null,
      "outputs": []
    },
    {
      "cell_type": "markdown",
      "metadata": {
        "id": "4loSwGNnW29A"
      },
      "source": [
        "### Create a child class Bus that will inherit all of the variables and methods of the Vehicle class"
      ]
    },
    {
      "cell_type": "code",
      "metadata": {
        "id": "6grSdGzYW29B"
      },
      "source": [
        "class Vehicle:\n",
        "    def __init__(self, name, max_speed, mileage):\n",
        "        self.name = name\n",
        "        self.max_speed = max_speed\n",
        "        self.mileage = mileage\n",
        "\n",
        "class Bus(Vehicle):\n",
        "    pass"
      ],
      "execution_count": null,
      "outputs": []
    },
    {
      "cell_type": "code",
      "metadata": {
        "id": "ounhCZ_bW29B",
        "outputId": "31f0ea79-4413-4ded-f140-e95198aa7440"
      },
      "source": [
        "lkw=Bus('Big LKW', 45, 34)\n",
        "print(lkw.name, lkw.max_speed, lkw.mileage)"
      ],
      "execution_count": null,
      "outputs": [
        {
          "name": "stdout",
          "output_type": "stream",
          "text": [
            "Big LKW 45 34\n"
          ]
        }
      ]
    },
    {
      "cell_type": "markdown",
      "metadata": {
        "id": "a14qfXn9W29C"
      },
      "source": [
        "### Create a Bus class that inherits from the Vehicle class. Give the capacity argument of Bus.seating_capacity() a default value of 50."
      ]
    },
    {
      "cell_type": "code",
      "metadata": {
        "id": "zvuzgSpGW29C"
      },
      "source": [
        "class Vehicle:\n",
        "    def __init__(self, name, max_speed, mileage):\n",
        "        self.name = name\n",
        "        self.max_speed = max_speed\n",
        "        self.mileage = mileage\n",
        "\n",
        "    def seating_capacity(self, capacity):\n",
        "        return f\"The seating capacity of a {self.name} is {capacity} passengers\"\n",
        "\n",
        "class Bus(Vehicle):\n",
        "    def seating_capacity(self, capacity=50):\n",
        "        return super().seating_capacity(capacity=50)"
      ],
      "execution_count": null,
      "outputs": []
    },
    {
      "cell_type": "code",
      "metadata": {
        "id": "pvI5gXoQW29C",
        "outputId": "65c5cc93-b84b-442f-9e52-7019f644cf20"
      },
      "source": [
        "lkw=Bus(\"Big LKW\", 100, 45)\n",
        "lkw.seating_capacity()"
      ],
      "execution_count": null,
      "outputs": [
        {
          "data": {
            "text/plain": [
              "'The seating capacity of a Big LKW is 50 passengers'"
            ]
          },
          "execution_count": 18,
          "metadata": {},
          "output_type": "execute_result"
        }
      ]
    },
    {
      "cell_type": "markdown",
      "metadata": {
        "id": "9I6zA4TDW29D"
      },
      "source": [
        "### Define property that should have the same value for every class instance\n",
        "* Define a class attribute”color” with a default value white. I.e., Every Vehicle should be white"
      ]
    },
    {
      "cell_type": "code",
      "metadata": {
        "id": "-1er0JX5W29D"
      },
      "source": [
        "class Vehicle:\n",
        "\n",
        "    def __init__(self, name, max_speed, mileage, color='white'):\n",
        "        self.name = name\n",
        "        self.max_speed = max_speed\n",
        "        self.mileage = mileage\n",
        "        self.color=color\n",
        "\n",
        "class Bus(Vehicle):\n",
        "    pass\n",
        "\n",
        "class Car(Vehicle):\n",
        "    pass"
      ],
      "execution_count": null,
      "outputs": []
    },
    {
      "cell_type": "code",
      "metadata": {
        "id": "CMI9Tg4LW29D",
        "outputId": "93139821-5463-4c25-b58c-62133bb96e49"
      },
      "source": [
        "## Bus\n",
        "lkw=Bus(\"small lkw\", 100, 56)\n",
        "print(lkw.color)"
      ],
      "execution_count": null,
      "outputs": [
        {
          "name": "stdout",
          "output_type": "stream",
          "text": [
            "white\n"
          ]
        }
      ]
    },
    {
      "cell_type": "code",
      "metadata": {
        "id": "6Jbi06XBW29E",
        "outputId": "d1d52ca5-5717-4c5e-ef77-da4570d50b73"
      },
      "source": [
        "## Car\n",
        "clio=Car(\"Clio\", 160, 45)\n",
        "print(clio.color)"
      ],
      "execution_count": null,
      "outputs": [
        {
          "name": "stdout",
          "output_type": "stream",
          "text": [
            "white\n"
          ]
        }
      ]
    },
    {
      "cell_type": "markdown",
      "metadata": {
        "id": "XAHJEb7vW29E"
      },
      "source": [
        "### Class Inheritence\n",
        "* Create a Bus child class that inherits from the Vehicle class. The default fare charge of any vehicle is seating capacity * 100. If Vehicle is Bus instance, we need to add an extra 10% on full fare as a maintenance charge. So total fare for bus instance will become the final amount = total fare + 10% of the total fare.\n",
        "* Note: The bus seating capacity is 50. so the final fare amount should be 5500. You need to override the fare() method of a Vehicle class in Bus class.\n"
      ]
    },
    {
      "cell_type": "code",
      "metadata": {
        "id": "7WrB3FDrW29F",
        "outputId": "a080cb10-416c-43c1-8f01-6f010e00d88e"
      },
      "source": [
        "class Vehicle:\n",
        "    def __init__(self, name, mileage, capacity):\n",
        "        self.name = name\n",
        "        self.mileage = mileage\n",
        "        self.capacity = capacity\n",
        "\n",
        "    def fare(self):\n",
        "        return self.capacity * 100\n",
        "\n",
        "class Bus(Vehicle):\n",
        "    def fare(self):\n",
        "        return super().fare() + (10/100*super().fare())\n",
        "\n",
        "School_bus = Bus(\"School Volvo\", 12, 50)\n",
        "print(\"Total Bus fare is:\", School_bus.fare())"
      ],
      "execution_count": null,
      "outputs": [
        {
          "name": "stdout",
          "output_type": "stream",
          "text": [
            "Total Bus fare is: 5500.0\n"
          ]
        }
      ]
    },
    {
      "cell_type": "markdown",
      "metadata": {
        "id": "pj-q5IzVW29F"
      },
      "source": [
        "### Determine which class a given Bus object belongs to (Check type of an object)"
      ]
    },
    {
      "cell_type": "code",
      "metadata": {
        "id": "Uarklmf6W29F"
      },
      "source": [
        "class Vehicle:\n",
        "    def __init__(self, name, mileage, capacity):\n",
        "        self.name = name\n",
        "        self.mileage = mileage\n",
        "        self.capacity = capacity\n",
        "\n",
        "class Bus(Vehicle):\n",
        "    pass\n",
        "\n",
        "School_bus = Bus(\"School Volvo\", 12, 50)"
      ],
      "execution_count": null,
      "outputs": []
    },
    {
      "cell_type": "code",
      "metadata": {
        "id": "FPLQMco3W29G",
        "outputId": "1fd61463-80a9-4dd9-c29c-a59596714f31"
      },
      "source": [
        "type(School_bus)"
      ],
      "execution_count": null,
      "outputs": [
        {
          "data": {
            "text/plain": [
              "__main__.Bus"
            ]
          },
          "execution_count": 35,
          "metadata": {},
          "output_type": "execute_result"
        }
      ]
    },
    {
      "cell_type": "markdown",
      "metadata": {
        "id": "R-FqtUQIW29G"
      },
      "source": [
        "### Determine if School_bus is also an instance of the Vehicle class\n"
      ]
    },
    {
      "cell_type": "code",
      "metadata": {
        "id": "MDvzzrXJW29H"
      },
      "source": [
        "class Vehicle:\n",
        "    def __init__(self, name, mileage, capacity):\n",
        "        self.name = name\n",
        "        self.mileage = mileage\n",
        "        self.capacity = capacity\n",
        "\n",
        "class Bus(Vehicle):\n",
        "    pass\n",
        "\n",
        "School_bus = Bus(\"School Volvo\", 12, 50)"
      ],
      "execution_count": null,
      "outputs": []
    },
    {
      "cell_type": "code",
      "metadata": {
        "id": "GO4TWRdSW29H",
        "outputId": "663f2b72-2336-4101-99c9-0483d340bc13"
      },
      "source": [
        "isinstance(School_bus, Vehicle)"
      ],
      "execution_count": null,
      "outputs": [
        {
          "data": {
            "text/plain": [
              "True"
            ]
          },
          "execution_count": 40,
          "metadata": {},
          "output_type": "execute_result"
        }
      ]
    },
    {
      "cell_type": "markdown",
      "metadata": {
        "id": "lAeiLMEYW29H"
      },
      "source": [
        "# Random Data Generation"
      ]
    },
    {
      "cell_type": "markdown",
      "metadata": {
        "id": "U5_h1Mh1W29I"
      },
      "source": [
        "## Tutorial"
      ]
    },
    {
      "cell_type": "markdown",
      "metadata": {
        "id": "xwOobgHpW29I"
      },
      "source": [
        "### Random number Generator\n",
        "<div>\n",
        "<img src=\"attachment:image.png\" width=500 height=700 style='float:left'/>\n",
        "</div>"
      ]
    },
    {
      "cell_type": "markdown",
      "metadata": {
        "id": "N5wj8XgXW29I"
      },
      "source": [
        "### Secret module function\n",
        "\n",
        "<div>\n",
        "<img src=\"attachment:image.png\" width=\"500\" height=\"600\" style=\"float:left\"/>\n",
        "</div>\n"
      ]
    },
    {
      "cell_type": "markdown",
      "metadata": {
        "id": "jtPO3mOuW29I"
      },
      "source": [
        "## Exercises"
      ]
    },
    {
      "cell_type": "markdown",
      "metadata": {
        "id": "M4XrVBgVW29I"
      },
      "source": [
        "### Generate 3 random integers between 100 and 999 which is divisible by 5"
      ]
    },
    {
      "cell_type": "code",
      "metadata": {
        "id": "liDO3JNwW29J",
        "outputId": "dee744a3-5edc-4323-e655-44917c2a7651"
      },
      "source": [
        "import random\n",
        "random.randint(100, 999)"
      ],
      "execution_count": null,
      "outputs": [
        {
          "data": {
            "text/plain": [
              "370"
            ]
          },
          "execution_count": 45,
          "metadata": {},
          "output_type": "execute_result"
        }
      ]
    },
    {
      "cell_type": "code",
      "metadata": {
        "id": "okEJ_pS6W29K",
        "outputId": "0a509163-40d3-46b9-b812-5763fcdb3238"
      },
      "source": [
        "### Approach I\n",
        "aList=[]\n",
        "for i in range(100):\n",
        "    randNum=random.randint(100, 999)\n",
        "    if randNum%5==0:\n",
        "        aList.append(randNum)\n",
        "    if len(aList) ==3:\n",
        "        break\n",
        "    \n",
        "print(aList)"
      ],
      "execution_count": null,
      "outputs": [
        {
          "name": "stdout",
          "output_type": "stream",
          "text": [
            "[390, 535, 600]\n"
          ]
        }
      ]
    },
    {
      "cell_type": "code",
      "metadata": {
        "id": "ozCbNWWjW29L",
        "outputId": "66e1fc32-2d32-452c-937b-9bbb8e564029"
      },
      "source": [
        "### Approach II\n",
        "[random.randrange(100, 999,5) for i in range(3)]"
      ],
      "execution_count": null,
      "outputs": [
        {
          "data": {
            "text/plain": [
              "[260, 320, 650]"
            ]
          },
          "execution_count": 88,
          "metadata": {},
          "output_type": "execute_result"
        }
      ]
    },
    {
      "cell_type": "markdown",
      "metadata": {
        "id": "rFYePaxGW29L"
      },
      "source": [
        "### Random Lottery Pick. Generate 100 random lottery tickets and pick two lucky tickets from it as a winner.\n",
        "* Note you must adhere to the following conditions:\n",
        "    - The lottery number must be 10 digits long.\n",
        "    - All 100 ticket number must be unique.\n"
      ]
    },
    {
      "cell_type": "code",
      "metadata": {
        "id": "0PkNf1EzW29L",
        "outputId": "75bab274-7710-49f3-a268-73c8ae826197"
      },
      "source": [
        "import random\n",
        "lottery_ticket_list=[]\n",
        "\n",
        "for i in range(100):\n",
        "    lotnum=random.randrange(999999999, 10000000000)\n",
        "    lottery_ticket_list.append(lotnum)\n",
        "print(lotteryNum)\n",
        "\n",
        "winners = random.sample(lottery_ticket_list, 2)\n",
        "print('winner=====>',winners)"
      ],
      "execution_count": null,
      "outputs": [
        {
          "name": "stdout",
          "output_type": "stream",
          "text": [
            "[9650465396, 8904387681, 9995562554, 8657110749, 3932890345, 5645054400, 7452472002, 9573344505, 8998111284, 2536585422, 2437819719, 5793696260, 8056684018, 5551182813, 4626584419, 2190942390, 2734937309, 8642019676, 5723477805, 9727674049, 9116506583, 8592675835, 8201683021, 5820675404, 4527103325, 6329746160, 5309207463, 6458023865, 6537582307, 5226321146, 7750120533, 4447690347, 5776678298, 4349918832, 2932803470, 7815389633, 1483412575, 8789079307, 2704424473, 6942859018, 6522225567, 8767570839, 6608200936, 1913458066, 6740847129, 1694478528, 7690643608, 3493000185, 4055602708, 4142250179, 7939739689, 7897287452, 3084006837, 1020107875, 1180035203, 8878021990, 4214278636, 9561321810, 8102829523, 9869225514, 6263634950, 8529311355, 6932977342, 4132730459, 1520656657, 3176148986, 9597857762, 1150288688, 5361107271, 5371013282, 8114649225, 9406359435, 7905246514, 3842764483, 2920541128, 4766769052, 4911647867, 4003033406, 3973158478, 9608662262, 2638365737, 8599558267, 8579787674, 9754611799, 6979567421, 8377277193, 8742027375, 8129545069, 5141175915, 7812642332, 6425539750, 4500144927, 2751118105, 8978186275, 9278385149, 8019392380, 4949039175, 7778691305, 4865561416, 6723768224]\n",
            "winner=====> [5333575425, 2549238358]\n"
          ]
        }
      ]
    },
    {
      "cell_type": "markdown",
      "metadata": {
        "id": "SPzOCcKgW29N"
      },
      "source": [
        "### Generate 6 digit random secure OTP"
      ]
    },
    {
      "cell_type": "code",
      "metadata": {
        "id": "hseN5zu1W29N",
        "outputId": "ef3652c5-58b7-4bab-d3e7-bdf72f7c92f9"
      },
      "source": [
        "import secrets\n",
        "secretGenerator=secrets.SystemRandom()\n",
        "OTP=secretGenerator.randrange(100000,999999)\n",
        "print('secure otp:', OTP)"
      ],
      "execution_count": null,
      "outputs": [
        {
          "name": "stdout",
          "output_type": "stream",
          "text": [
            "secure otp: 505436\n"
          ]
        }
      ]
    },
    {
      "cell_type": "markdown",
      "metadata": {
        "id": "-U5lI0miW29O"
      },
      "source": [
        "### Pick a random character from a given String"
      ]
    },
    {
      "cell_type": "code",
      "metadata": {
        "id": "I1I15ynuW29O",
        "outputId": "a3f6ebaf-0b1a-4d01-d3dd-bbe63350e400"
      },
      "source": [
        "import random\n",
        "aString='There is the waterfall!'\n",
        "random.choice(aString)"
      ],
      "execution_count": null,
      "outputs": [
        {
          "data": {
            "text/plain": [
              "'w'"
            ]
          },
          "execution_count": 108,
          "metadata": {},
          "output_type": "execute_result"
        }
      ]
    },
    {
      "cell_type": "markdown",
      "metadata": {
        "id": "TaTVUyKHW29O"
      },
      "source": [
        "### Generate  random String of length 5\n"
      ]
    },
    {
      "cell_type": "code",
      "metadata": {
        "id": "ZzQkT2hMW29P"
      },
      "source": [
        "import random\n",
        "import string\n",
        "\n",
        "def get_random_string(length):\n",
        "    letters= string.ascii_letters\n",
        "    result_str=''.join(random.choice(letters) for i in range(length))\n",
        "    print(f'random string of length {length} is {result_str}')"
      ],
      "execution_count": null,
      "outputs": []
    },
    {
      "cell_type": "code",
      "metadata": {
        "id": "5Kz_Np6zW29P",
        "outputId": "93fe8ea3-a44d-4e45-e801-b6b3cc2788b0"
      },
      "source": [
        "get_random_string(4)"
      ],
      "execution_count": null,
      "outputs": [
        {
          "name": "stdout",
          "output_type": "stream",
          "text": [
            "random string of length 4 is NRaQ\n"
          ]
        }
      ]
    },
    {
      "cell_type": "markdown",
      "metadata": {
        "id": "TpT4N_bDW29P"
      },
      "source": [
        "### Generate a random Password which meets the following conditions\n",
        "* Password length must be 10 characters long.\n",
        "* It must contain at least 2 upper case letters, 1 digit, and 1 special symbol."
      ]
    },
    {
      "cell_type": "code",
      "metadata": {
        "id": "TUFMDuWsW29P"
      },
      "source": [
        "### Approach I\n",
        "import random\n",
        "import string\n",
        "\n",
        "def random_password():\n",
        "    a=''.join(random.choice(string.punctuation) for i in range(1) )\n",
        "    b=''.join(random.choice(string.ascii_uppercase) for i in range(2))\n",
        "    c=''.join(random.choice(string.digits) for i in range(2))\n",
        "    d=a.join(b)\n",
        "    return d.join(c)"
      ],
      "execution_count": null,
      "outputs": []
    },
    {
      "cell_type": "code",
      "metadata": {
        "id": "UUvKfE3vW29Q",
        "outputId": "61dcf550-8e7a-4194-b447-0b973c2ed6a2"
      },
      "source": [
        "random_password()"
      ],
      "execution_count": null,
      "outputs": [
        {
          "data": {
            "text/plain": [
              "'1D@H9'"
            ]
          },
          "execution_count": 200,
          "metadata": {},
          "output_type": "execute_result"
        }
      ]
    },
    {
      "cell_type": "code",
      "metadata": {
        "id": "xyPVr6PSW29Q",
        "outputId": "9c28369c-fc2f-4af8-a774-35a0dd17b17e"
      },
      "source": [
        "### Approach II\n",
        "import random\n",
        "import string\n",
        "\n",
        "def randomPassword():\n",
        "    randomSource = string.ascii_letters + string.digits + string.punctuation\n",
        "    password = random.sample(randomSource, 6)\n",
        "    password += random.sample(string.ascii_uppercase, 2)\n",
        "    password += random.choice(string.digits)\n",
        "    password += random.choice(string.punctuation)\n",
        "\n",
        "    passwordList = list(password)\n",
        "    random.SystemRandom().shuffle(passwordList)\n",
        "    password = ''.join(passwordList)\n",
        "    return password\n",
        "\n",
        "print (\"Password is \", randomPassword())"
      ],
      "execution_count": null,
      "outputs": [
        {
          "name": "stdout",
          "output_type": "stream",
          "text": [
            "Password is  *'40iHZ&P(\n"
          ]
        }
      ]
    },
    {
      "cell_type": "markdown",
      "metadata": {
        "id": "8s_GUhVwW29Q"
      },
      "source": [
        "### Calculate multiplication of two random float numbers\n",
        "* Note:\n",
        "    - First random float number must be between 0.1 and 1\n",
        "    - Second random float number must be between 9.5 and 99.5\n"
      ]
    },
    {
      "cell_type": "code",
      "metadata": {
        "id": "bbqiURqQW29R",
        "outputId": "8a749e82-1981-498e-abdc-fde9016d29c5"
      },
      "source": [
        "import random \n",
        "firstNum=random.random()\n",
        "secNum = random.uniform(9.5, 99.5)\n",
        "print(f\"multplication of {firstNum} and {secNum} is {firstNum*secNum}\")\n"
      ],
      "execution_count": null,
      "outputs": [
        {
          "name": "stdout",
          "output_type": "stream",
          "text": [
            "multplication of 0.09208239352371117 and 93.53370824839378 is 8.612807730660585\n"
          ]
        }
      ]
    },
    {
      "cell_type": "markdown",
      "metadata": {
        "id": "f_GtwzxCW29R"
      },
      "source": [
        "###  Generate random secure token of 64 bytes and random URL"
      ]
    },
    {
      "cell_type": "code",
      "metadata": {
        "id": "7ydvsYVXW29R",
        "outputId": "ecfc5de2-5dfc-488a-a503-3e4de31936a5"
      },
      "source": [
        "import secrets\n",
        "import random\n",
        "            \n",
        "print(f'random secrure url of 64 bite is {secrets.token_urlsafe(64)}')\n",
        "print(f'random secure token of 64 bite is {secrets.token_hex(64)}')\n"
      ],
      "execution_count": null,
      "outputs": [
        {
          "name": "stdout",
          "output_type": "stream",
          "text": [
            "random secrure url of 64 bite is jSyrZCIgGuUsWjkM2jh_Z5XnFlCrAsvxLPZjULwLbypvjnAG4534er1j-hhYoSvO5KNy1c2pwEWGhAkbOy468A\n",
            "random secure token of 64 bite is c43611b9cf73947d0cbff519dc5afb292aff1867389126d1dc812b0bed2abcdfb109f041d3cba98ab8a358ba8142ceda074c94cd7eafd2808a0be0110174f021\n"
          ]
        }
      ]
    },
    {
      "cell_type": "markdown",
      "metadata": {
        "id": "QPtxRLbhW29S"
      },
      "source": [
        "### Roll dice in such a way that every time you get the same number\n",
        "* Dice has 6 numbers (from 1 to 6). Roll dice in such a way that every time you must get the same output number. do this 5 times."
      ]
    },
    {
      "cell_type": "code",
      "metadata": {
        "id": "I_Ib4c0BW29S"
      },
      "source": [
        "import random\n",
        "def roll_dice(output):\n",
        "    rolled_output=[]\n",
        "    for i in range(50):\n",
        "        randNum=random.randint(1,6)\n",
        "        if randNum==output:\n",
        "            rolled_output.append(randNum)\n",
        "        if len(rolled_output)==5:\n",
        "            break\n",
        "    print(rolled_output)"
      ],
      "execution_count": null,
      "outputs": []
    },
    {
      "cell_type": "code",
      "metadata": {
        "id": "IViCVAcZW29S",
        "outputId": "ba07ef8e-6d50-4ce9-cce0-1f3f4e1f27fc"
      },
      "source": [
        "roll_dice(4)"
      ],
      "execution_count": null,
      "outputs": [
        {
          "name": "stdout",
          "output_type": "stream",
          "text": [
            "[4, 4, 4, 4, 4]\n"
          ]
        }
      ]
    },
    {
      "cell_type": "code",
      "metadata": {
        "id": "gGn6PZJAW29S",
        "outputId": "3b699213-7416-402f-efd9-cb07def10fae"
      },
      "source": [
        "### Approach II\n",
        "import random\n",
        "\n",
        "dice = [1, 2, 3, 4, 5, 6]\n",
        "print(\"Randomly selecting same number of a dice\")\n",
        "for i in range(5):\n",
        "    random.seed(28)\n",
        "    print(random.choice(dice))"
      ],
      "execution_count": null,
      "outputs": [
        {
          "name": "stdout",
          "output_type": "stream",
          "text": [
            "Randomly selecting same number of a dice\n",
            "1\n",
            "1\n",
            "1\n",
            "1\n",
            "1\n"
          ]
        }
      ]
    },
    {
      "cell_type": "markdown",
      "metadata": {
        "id": "3gTlutL2W29T"
      },
      "source": [
        "### Generate a random date between given start and end dates"
      ]
    },
    {
      "cell_type": "code",
      "metadata": {
        "id": "aKfQ-A3nW29T",
        "outputId": "57ae1a05-a59e-4b64-feb5-ed21793ebea1"
      },
      "source": [
        "### Approach I\n",
        "import random\n",
        "import datetime\n",
        "\n",
        "start_date = datetime.date(2020, 1, 1)\n",
        "end_date = datetime.date(2020, 2, 1)\n",
        "\n",
        "time_between_dates = end_date - start_date\n",
        "days_between_dates = time_between_dates.days\n",
        "\n",
        "random_number_of_days = random.randrange(days_between_dates)\n",
        "random_date = start_date + datetime.timedelta(days=random_number_of_days)\n",
        "\n",
        "print(random_date)"
      ],
      "execution_count": null,
      "outputs": [
        {
          "name": "stdout",
          "output_type": "stream",
          "text": [
            "2020-01-23\n"
          ]
        }
      ]
    },
    {
      "cell_type": "code",
      "metadata": {
        "id": "fBQXX_XOW29T",
        "outputId": "87b9f8e1-9d28-4159-b436-ea3e103e6946"
      },
      "source": [
        "### Approach II\n",
        "import random\n",
        "import time\n",
        "\n",
        "def getRandomDate(startDate, endDate ):\n",
        "    print(\"Printing random date between\", startDate, \" and \", endDate)\n",
        "    randomGenerator = random.random()\n",
        "    dateFormat = '%m/%d/%Y'\n",
        "\n",
        "    startTime = time.mktime(time.strptime(startDate, dateFormat))\n",
        "    endTime = time.mktime(time.strptime(endDate, dateFormat))\n",
        "\n",
        "    randomTime = startTime + randomGenerator * (endTime - startTime)\n",
        "    randomDate = time.strftime(dateFormat, time.localtime(randomTime))\n",
        "    return randomDate\n",
        "\n",
        "print (\"Random Date = \", getRandomDate(\"1/1/2016\", \"12/12/2018\"))\n"
      ],
      "execution_count": null,
      "outputs": [
        {
          "name": "stdout",
          "output_type": "stream",
          "text": [
            "Printing random date between 1/1/2016  and  12/12/2018\n",
            "Random Date =  07/10/2016\n"
          ]
        }
      ]
    },
    {
      "cell_type": "markdown",
      "metadata": {
        "id": "MQaCMKd4W29U"
      },
      "source": [
        "# Decorators\n",
        "* *Observation: It's kind of repetitive.*\n",
        "* Writing programs where there is a lot of code replication is often really annoying. They are tedious to write and hard to maintain. Especially if you decide that you want to change how it works (i.e., a different kind of logging perhaps).\n",
        "* allow you to make simple modifications to callable objects like functions, methods, or classes. We shall deal with functions for this tutorial.  \n",
        "* The syntax:\n",
        "```\n",
        "@decorator\n",
        "def functions(arg):\n",
        "    return \"value\"\n",
        "```\n",
        "is equivalent to:\n",
        "```\n",
        "def function(arg):\n",
        "    return \"value\"\n",
        "# passes the function to decorator & reassigns it to functions\n",
        "function = decorator(function) \n",
        " \n",
        "```\n",
        "\n",
        "* Refernz:\n",
        "    - [ref](https://realpython.com/primer-on-python-decorators/)\n",
        "    - [ref_2](https://jobtensor.com/Tutorial/Python/en/Decorators)"
      ]
    },
    {
      "cell_type": "markdown",
      "metadata": {
        "id": "0y0kjWniW29U"
      },
      "source": [
        "## Tutorial"
      ]
    },
    {
      "cell_type": "markdown",
      "metadata": {
        "id": "x3tvjR-GW29U"
      },
      "source": [
        "### Logging Example"
      ]
    },
    {
      "cell_type": "code",
      "metadata": {
        "id": "jZZ7wuoKW29V"
      },
      "source": [
        "## Consider a function\n",
        "def add(x,y):\n",
        "    return x+y\n",
        "\n",
        "## Now, consider some function with logging added to it\n",
        "def add(x,y):\n",
        "    print('calling add')\n",
        "    return x+y\n",
        "\n",
        "## now second function with some logging\n",
        "def sub(x,y):\n",
        "    return x-y"
      ],
      "execution_count": null,
      "outputs": []
    },
    {
      "cell_type": "code",
      "metadata": {
        "id": "-3tM1rPHW29V"
      },
      "source": [
        "### Observation:\n",
        "# Its kind of repititiv\n",
        "# Peraps we can make a function that makes functions with logging added to them. A wrapper.\n",
        "\n",
        "## Wrapper\n",
        "import functools\n",
        "def logged(func):\n",
        "        @functools.wraps(func)\n",
        "        def wrapper(*args, **kwargs):\n",
        "            print('calling', func.__name__)\n",
        "            return func(*args, **kwargs)\n",
        "        return wrapper\n",
        "            "
      ],
      "execution_count": null,
      "outputs": []
    },
    {
      "cell_type": "code",
      "metadata": {
        "id": "R7MTLoz4W29V",
        "outputId": "001e47ea-f976-47a8-ad57-70fc67fb7ff5"
      },
      "source": [
        "@logged\n",
        "def add(a,b):\n",
        "    return a+b\n",
        "\n",
        "add(5,76)"
      ],
      "execution_count": null,
      "outputs": [
        {
          "name": "stdout",
          "output_type": "stream",
          "text": [
            "calling add\n"
          ]
        },
        {
          "data": {
            "text/plain": [
              "81"
            ]
          },
          "execution_count": 7,
          "metadata": {},
          "output_type": "execute_result"
        }
      ]
    },
    {
      "cell_type": "code",
      "metadata": {
        "id": "6MmDqaCTW29V",
        "outputId": "faa5f817-6f2f-46f1-9f4e-95ca6d167442"
      },
      "source": [
        "@logged\n",
        "def subtration(a,b):\n",
        "    return a-b\n",
        "\n",
        "subtration(3000, 86)"
      ],
      "execution_count": null,
      "outputs": [
        {
          "name": "stdout",
          "output_type": "stream",
          "text": [
            "calling subtration\n"
          ]
        },
        {
          "data": {
            "text/plain": [
              "2914"
            ]
          },
          "execution_count": 8,
          "metadata": {},
          "output_type": "execute_result"
        }
      ]
    },
    {
      "cell_type": "markdown",
      "metadata": {
        "id": "y7jR9vltW29W"
      },
      "source": [
        "### Basic function"
      ]
    },
    {
      "cell_type": "code",
      "metadata": {
        "id": "3mCR9LBwW29W"
      },
      "source": [
        "def my_decorator(func):\n",
        "    def wrapper():\n",
        "        print(\"something is happening before the function is called\")\n",
        "        func()\n",
        "        print(\"something is happening after the function is called.\")\n",
        "    return wrapper"
      ],
      "execution_count": null,
      "outputs": []
    },
    {
      "cell_type": "code",
      "metadata": {
        "id": "XnBM0v4wW29W",
        "outputId": "01ba4142-9ab5-481f-b33f-d9d36f9db348"
      },
      "source": [
        "## Approach I\n",
        "def say_whee():\n",
        "    print('Whee!!!')\n",
        "\n",
        "say_whee = my_decorator(say_whee)\n",
        "say_whee()"
      ],
      "execution_count": null,
      "outputs": [
        {
          "name": "stdout",
          "output_type": "stream",
          "text": [
            "something is happening before the function is called\n",
            "Whee!!!\n",
            "something is happening after the function is called.\n"
          ]
        }
      ]
    },
    {
      "cell_type": "code",
      "metadata": {
        "id": "mzPwf6BGW29W",
        "outputId": "7f49a07d-afa8-4f56-d12f-ebc5fa2dc822"
      },
      "source": [
        "### Approach II\n",
        "@my_decorator\n",
        "def say_whee():\n",
        "    print(\"Whee!!!\")\n",
        "    \n",
        "say_whee()"
      ],
      "execution_count": null,
      "outputs": [
        {
          "name": "stdout",
          "output_type": "stream",
          "text": [
            "something is happening before the function is called\n",
            "Whee!!!\n",
            "something is happening after the function is called.\n"
          ]
        }
      ]
    },
    {
      "cell_type": "markdown",
      "metadata": {
        "id": "5Ph-gOIIW29X"
      },
      "source": [
        "###  Decorator wrap a function, modifying its behavior"
      ]
    },
    {
      "cell_type": "code",
      "metadata": {
        "id": "or8epFTZW29X"
      },
      "source": [
        "from datetime import datetime\n",
        "\n",
        "def not_during_the_night(func):\n",
        "    def wrapper():\n",
        "        print(\"hr : \", datetime.now().hour)\n",
        "        if 8 < datetime.now().hour < 22:\n",
        "            func()\n",
        "        else:\n",
        "            pass            \n",
        "    return wrapper\n",
        "\n",
        "@not_during_the_night\n",
        "def say_whee():\n",
        "    print('whee is the common function to be called to make us awake!!')"
      ],
      "execution_count": null,
      "outputs": []
    },
    {
      "cell_type": "code",
      "metadata": {
        "id": "Q6rT_ohFW29X",
        "outputId": "3baf3992-25c7-4fd1-da60-8c7ec8c8b560"
      },
      "source": [
        "test=say_whee()"
      ],
      "execution_count": null,
      "outputs": [
        {
          "name": "stdout",
          "output_type": "stream",
          "text": [
            "hr :  13\n",
            "whee is the common function to be called to make us awake!!\n"
          ]
        }
      ]
    },
    {
      "cell_type": "markdown",
      "metadata": {
        "id": "ErBNP7GFW29X"
      },
      "source": [
        "### Decorating functions with arguments "
      ]
    },
    {
      "cell_type": "code",
      "metadata": {
        "id": "GBvnDzu6W29Y"
      },
      "source": [
        "def do_once(func):\n",
        "    def wrapper_return_func(*args, **kwargs):\n",
        "        func(*args, **kwargs)\n",
        "        return func(*args,  **kwargs)\n",
        "    return wrapper_return_func\n",
        "\n",
        "@do_once\n",
        "def greet(name):\n",
        "    print(\"creating greetings for \", name)\n",
        "    #return name\n",
        "@do_once\n",
        "def add(a,b):\n",
        "    return a + b"
      ],
      "execution_count": null,
      "outputs": []
    },
    {
      "cell_type": "code",
      "metadata": {
        "id": "CrBB3eEeW29Y",
        "outputId": "798b3a3d-e217-4a98-f44a-ef39c0e10623"
      },
      "source": [
        "greet(\"ole stegen\")"
      ],
      "execution_count": null,
      "outputs": [
        {
          "name": "stdout",
          "output_type": "stream",
          "text": [
            "creating greetings for  ole stegen\n",
            "creating greetings for  ole stegen\n"
          ]
        }
      ]
    },
    {
      "cell_type": "code",
      "metadata": {
        "id": "VfFOZuVSW29Y",
        "outputId": "deba9a49-7bb1-4694-a01a-ccfe0c00f093"
      },
      "source": [
        "add(4,5)"
      ],
      "execution_count": null,
      "outputs": [
        {
          "data": {
            "text/plain": [
              "9"
            ]
          },
          "execution_count": 300,
          "metadata": {},
          "output_type": "execute_result"
        }
      ]
    },
    {
      "cell_type": "code",
      "metadata": {
        "id": "ubhG3IjxW29Y",
        "outputId": "1180262e-2365-4f4c-8d11-fe640f41bdb5"
      },
      "source": [
        "greet"
      ],
      "execution_count": null,
      "outputs": [
        {
          "data": {
            "text/plain": [
              "<function __main__.do_once.<locals>.wrapper_return_func(*args, **kwargs)>"
            ]
          },
          "execution_count": 282,
          "metadata": {},
          "output_type": "execute_result"
        }
      ]
    },
    {
      "cell_type": "code",
      "metadata": {
        "id": "SzqjWCZ9W29Z",
        "outputId": "79e98d28-e273-4eb4-87dc-fc8113477ecd"
      },
      "source": [
        "greet.__name__"
      ],
      "execution_count": null,
      "outputs": [
        {
          "data": {
            "text/plain": [
              "'wrapper_return_func'"
            ]
          },
          "execution_count": 283,
          "metadata": {},
          "output_type": "execute_result"
        }
      ]
    },
    {
      "cell_type": "code",
      "metadata": {
        "id": "PUeawO6iW29Z",
        "outputId": "13d270a7-c30c-4863-f74a-6d83f57647d4"
      },
      "source": [
        "help(greet)"
      ],
      "execution_count": null,
      "outputs": [
        {
          "name": "stdout",
          "output_type": "stream",
          "text": [
            "Help on function wrapper_return_func in module __main__:\n",
            "\n",
            "wrapper_return_func(*args, **kwargs)\n",
            "\n"
          ]
        }
      ]
    },
    {
      "cell_type": "markdown",
      "metadata": {
        "id": "Uje0bOD9W29Z"
      },
      "source": [
        "### Functool wrapper"
      ]
    },
    {
      "cell_type": "markdown",
      "metadata": {
        "id": "-kAdyVJZW29Z"
      },
      "source": [
        "However, after being decorated, greet() has gotten very confused about its identity. It now reports being the wrapper_do_twice() inner function inside the do_twice() decorator. Although technically true, this is not very useful information.\n",
        "\n",
        "To fix this, decorators should use the @functools.wraps decorator, which will preserve information about the original function. Update decorators.py again:\n"
      ]
    },
    {
      "cell_type": "code",
      "metadata": {
        "id": "VasLoNAIW29a"
      },
      "source": [
        "import functools\n",
        "\n",
        "def do_once(func):\n",
        "    @functools.wraps(func)\n",
        "    def wrapper_return_func(*args, **kwargs):\n",
        "        func(*args, **kwargs)\n",
        "        return func(*args,  **kwargs)\n",
        "    return wrapper_return_func\n",
        "\n",
        "@do_once\n",
        "def greet(name):\n",
        "    print(\"creating greetings for \", name)\n",
        "    return name"
      ],
      "execution_count": null,
      "outputs": []
    },
    {
      "cell_type": "code",
      "metadata": {
        "id": "B_cG48S1W29a",
        "outputId": "60c27b33-3822-4f88-8fcc-a1cf823bd7a5"
      },
      "source": [
        "greet(\"Ole\")"
      ],
      "execution_count": null,
      "outputs": [
        {
          "name": "stdout",
          "output_type": "stream",
          "text": [
            "creating greetings for  Ole\n",
            "creating greetings for  Ole\n"
          ]
        },
        {
          "data": {
            "text/plain": [
              "'Ole'"
            ]
          },
          "execution_count": 289,
          "metadata": {},
          "output_type": "execute_result"
        }
      ]
    },
    {
      "cell_type": "code",
      "metadata": {
        "id": "_y3Y7N5xW29a",
        "outputId": "d70b7ebf-80f0-4972-a66e-7673205d604b"
      },
      "source": [
        "greet"
      ],
      "execution_count": null,
      "outputs": [
        {
          "data": {
            "text/plain": [
              "<function __main__.greet(name)>"
            ]
          },
          "execution_count": 290,
          "metadata": {},
          "output_type": "execute_result"
        }
      ]
    },
    {
      "cell_type": "code",
      "metadata": {
        "id": "4XXOvicQW29a",
        "outputId": "8712ebb2-6511-430e-948d-099af660138a"
      },
      "source": [
        "greet.__name__"
      ],
      "execution_count": null,
      "outputs": [
        {
          "data": {
            "text/plain": [
              "'greet'"
            ]
          },
          "execution_count": 291,
          "metadata": {},
          "output_type": "execute_result"
        }
      ]
    },
    {
      "cell_type": "code",
      "metadata": {
        "id": "cdzSRiCKW29b",
        "outputId": "60f31fd8-a272-4622-881a-faacbde2309a"
      },
      "source": [
        "help(greet)"
      ],
      "execution_count": null,
      "outputs": [
        {
          "name": "stdout",
          "output_type": "stream",
          "text": [
            "Help on function greet in module __main__:\n",
            "\n",
            "greet(name)\n",
            "\n"
          ]
        }
      ]
    },
    {
      "cell_type": "code",
      "metadata": {
        "id": "O-XX95iPW29b",
        "outputId": "6b85cfbd-12a5-431f-fdb7-de0ae51b4751"
      },
      "source": [
        "dir(greet)"
      ],
      "execution_count": null,
      "outputs": [
        {
          "data": {
            "text/plain": [
              "['__annotations__',\n",
              " '__call__',\n",
              " '__class__',\n",
              " '__closure__',\n",
              " '__code__',\n",
              " '__defaults__',\n",
              " '__delattr__',\n",
              " '__dict__',\n",
              " '__dir__',\n",
              " '__doc__',\n",
              " '__eq__',\n",
              " '__format__',\n",
              " '__ge__',\n",
              " '__get__',\n",
              " '__getattribute__',\n",
              " '__globals__',\n",
              " '__gt__',\n",
              " '__hash__',\n",
              " '__init__',\n",
              " '__init_subclass__',\n",
              " '__kwdefaults__',\n",
              " '__le__',\n",
              " '__lt__',\n",
              " '__module__',\n",
              " '__name__',\n",
              " '__ne__',\n",
              " '__new__',\n",
              " '__qualname__',\n",
              " '__reduce__',\n",
              " '__reduce_ex__',\n",
              " '__repr__',\n",
              " '__setattr__',\n",
              " '__sizeof__',\n",
              " '__str__',\n",
              " '__subclasshook__',\n",
              " '__wrapped__']"
            ]
          },
          "execution_count": 293,
          "metadata": {},
          "output_type": "execute_result"
        }
      ]
    },
    {
      "cell_type": "markdown",
      "metadata": {
        "id": "j9kDTjbLW29b"
      },
      "source": [
        "## [Exercises](https://aspp.school/python-autumnschool-2010/_media/materials/advanced_python/exercises.pdf)"
      ]
    },
    {
      "cell_type": "markdown",
      "metadata": {
        "id": "_SxMXy-TW29b"
      },
      "source": [
        "### Decorator wrap function\n",
        "* Write a decorator which wraps functions to log function arguments and the return value on each call.\n",
        "* Provide support for both positional and named arguments (your wrapper function should take both `*args`\n",
        "and `**kwargs` and print them both): \n",
        "```\n",
        ">>> @logged\n",
        "... def func(*args):\n",
        "... return 3 + len(args)\n",
        ">>> func(4, 4, 4)\n",
        "you called func(4, 4, 4)\n",
        "it returned 6\n",
        "6\n",
        "```"
      ]
    },
    {
      "cell_type": "code",
      "metadata": {
        "id": "W19tzN7zW29c"
      },
      "source": [
        "import functools\n",
        "def logged(func):\n",
        "    \n",
        "    @functools.wraps(func)\n",
        "    \n",
        "    def wrapper(*args, **kwargs):\n",
        "        print('you called ', func.__name__,\"(\",*args,\")\")\n",
        "        print('it returned ', func(*args, **kwargs))\n",
        "        return func(*args, **kwargs)\n",
        "    return wrapper\n",
        "\n",
        "@logged\n",
        "def func(*args):\n",
        "    return 3+len(args)"
      ],
      "execution_count": null,
      "outputs": []
    },
    {
      "cell_type": "code",
      "metadata": {
        "id": "oFhDGuGHW29c",
        "outputId": "e010a222-ed90-4c0f-a8b8-ac8bb91b0b9e"
      },
      "source": [
        "func(4,4,4)"
      ],
      "execution_count": null,
      "outputs": [
        {
          "name": "stdout",
          "output_type": "stream",
          "text": [
            "you called  func ( 4 4 4 )\n",
            "it returned  6\n"
          ]
        },
        {
          "data": {
            "text/plain": [
              "6"
            ]
          },
          "execution_count": 51,
          "metadata": {},
          "output_type": "execute_result"
        }
      ]
    },
    {
      "cell_type": "markdown",
      "metadata": {
        "id": "VxQtY-VbW29c"
      },
      "source": [
        "### Write a decorator to cache function invocation results. Store pairs arg:result in a dictionary in an attribute of the function object. The function being memoized is:\n",
        "\n",
        "```\n",
        "def fibonacci(n):\n",
        " assert n >= 0\n",
        " if n < 2:\n",
        " return n\n",
        " else:\n",
        " return fibonacci(n-1) + fibonacci(n-2)\n",
        " ```"
      ]
    },
    {
      "cell_type": "code",
      "metadata": {
        "id": "4FNuvrpQW29c"
      },
      "source": [
        ""
      ],
      "execution_count": null,
      "outputs": []
    }
  ]
}