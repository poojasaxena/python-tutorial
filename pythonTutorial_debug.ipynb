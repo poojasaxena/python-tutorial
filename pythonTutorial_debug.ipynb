{
 "cells": [
  {
   "cell_type": "code",
   "execution_count": null,
   "id": "1a20411e",
   "metadata": {},
   "outputs": [],
   "source": [
    "%autosave 60"
   ]
  },
  {
   "cell_type": "markdown",
   "id": "26d2a359",
   "metadata": {},
   "source": [
    "# Debugging"
   ]
  },
  {
   "cell_type": "markdown",
   "id": "00618aad",
   "metadata": {},
   "source": [
    "## Logging Tutorial\n",
    "* Logging is a means of tracking events that happen when some software runs. The software’s developer adds logging calls to their code to indicate that certain events have occurred. \n",
    "* An event is described by a descriptive message which can optionally contain variable data (i.e. data that is potentially different for each occurrence of the event). \n",
    "* Events also have an importance which the developer ascribes to the event; the importance can also be called the level or severity.\n",
    "* reference is [here](https://docs.python.org/3/howto/logging.html)"
   ]
  },
  {
   "cell_type": "markdown",
   "id": "dde3e594",
   "metadata": {},
   "source": [
    "### Different mode of Logging class"
   ]
  },
  {
   "cell_type": "markdown",
   "id": "d66feb71",
   "metadata": {},
   "source": [
    "<div>\n",
    "<img src=\"images/logger_levels.png\" width=\"400\" height=\"500\" style=\"float:left\"/>\n",
    "</div>"
   ]
  },
  {
   "cell_type": "markdown",
   "id": "a171c132",
   "metadata": {},
   "source": [
    "### Basic usage of Logging class \n",
    "* without setting \"level=logging.DEBUG\", we receive only 'warning' and 'error'\n",
    "* lets set 'level=logging.DEBUG', we reveive all debug, info, warning, error\n",
    "* lets test one more by setting 'level=logging.INFO', we receive 'info', 'warning' and 'error'"
   ]
  },
  {
   "cell_type": "code",
   "execution_count": 4,
   "id": "ec32e233",
   "metadata": {},
   "outputs": [
    {
     "name": "stderr",
     "output_type": "stream",
     "text": [
      "DEBUG:09/27/2021 12:58:08 PM: This message should go to the log file\n",
      "INFO:09/27/2021 12:58:08 PM: So should this\n",
      "WARNING:09/27/2021 12:58:08 PM: And this, too\n",
      "ERROR:09/27/2021 12:58:08 PM: And non-ASCII stuff, too, like Øresund and Malmö\n"
     ]
    }
   ],
   "source": [
    "import logging\n",
    "logging.basicConfig(filename='example.log', format='%(levelname)s:%(message)s',filemode='w', level=logging.INFO)\n",
    "logging.debug('This message should go to the log file')\n",
    "logging.info('So should this')\n",
    "logging.warning('And this, too')\n",
    "logging.error('And non-ASCII stuff, too, like Øresund and Malmö')"
   ]
  },
  {
   "cell_type": "code",
   "execution_count": null,
   "id": "af0db247",
   "metadata": {
    "scrolled": true
   },
   "outputs": [],
   "source": [
    "! cat example.log"
   ]
  },
  {
   "cell_type": "markdown",
   "id": "097452ca",
   "metadata": {},
   "source": [
    "### Preference of Level"
   ]
  },
  {
   "cell_type": "code",
   "execution_count": null,
   "id": "8a02397d",
   "metadata": {},
   "outputs": [],
   "source": [
    "import logging\n",
    "logging.warning('Watch out!') # will print a message to the console\n",
    "logging.info('I told you so') # will not print anything since 'warning' has level higher than 'info'"
   ]
  },
  {
   "cell_type": "markdown",
   "id": "b00adee9",
   "metadata": {},
   "source": [
    "* by adding level=logging.INFO, we should now get INFO as well as WARNING"
   ]
  },
  {
   "cell_type": "code",
   "execution_count": null,
   "id": "4d5df592",
   "metadata": {},
   "outputs": [],
   "source": [
    "import logging\n",
    "logging.basicConfig(filename='example.log', format='%(levelname)s:%(message)s',filemode='w',level=logging.INFO)\n",
    "\n",
    "logging.warning('Watch out!') \n",
    "logging.info('I told you so') "
   ]
  },
  {
   "cell_type": "code",
   "execution_count": null,
   "id": "c56d16bf",
   "metadata": {},
   "outputs": [],
   "source": [
    "! cat example.log"
   ]
  },
  {
   "cell_type": "markdown",
   "id": "8a2fb2df",
   "metadata": {},
   "source": [
    "### Logging from multiple modules"
   ]
  },
  {
   "cell_type": "code",
   "execution_count": null,
   "id": "54d9aee7",
   "metadata": {},
   "outputs": [],
   "source": [
    "%%writefile mylib.py\n",
    "\n",
    "import logging\n",
    "\n",
    "def do_something():\n",
    "    logging.info('Doing something')"
   ]
  },
  {
   "cell_type": "code",
   "execution_count": null,
   "id": "0c292478",
   "metadata": {},
   "outputs": [],
   "source": [
    "# myapp.py\n",
    "import logging\n",
    "import mylib\n",
    "\n",
    "def main():\n",
    "    logging.basicConfig(filename='myapp.log', level=logging.INFO)\n",
    "    logging.info('Started')\n",
    "    mylib.do_something()\n",
    "    logging.info('Finished')\n",
    "\n",
    "if __name__ == '__main__':\n",
    "    main()"
   ]
  },
  {
   "cell_type": "code",
   "execution_count": null,
   "id": "9831d970",
   "metadata": {},
   "outputs": [],
   "source": [
    "! cat example.log"
   ]
  },
  {
   "cell_type": "markdown",
   "id": "86b02e5a",
   "metadata": {},
   "source": [
    "### Displaying the date/time in messages"
   ]
  },
  {
   "cell_type": "code",
   "execution_count": null,
   "id": "fc9196f4",
   "metadata": {},
   "outputs": [],
   "source": [
    "import logging\n",
    "logging.basicConfig(filename=\"debug.log\", filemode='w',format='%(asctime)s %(message)s', datefmt='%m/%d/%Y %I:%M:%S %p')\n",
    "logging.warning('is when this event was logged.')"
   ]
  },
  {
   "cell_type": "code",
   "execution_count": null,
   "id": "622d72da",
   "metadata": {},
   "outputs": [],
   "source": [
    "!cat debug.log"
   ]
  },
  {
   "cell_type": "markdown",
   "id": "778424db",
   "metadata": {},
   "source": [
    "### Logging Variable Data"
   ]
  },
  {
   "cell_type": "code",
   "execution_count": null,
   "id": "71f8f7f3",
   "metadata": {},
   "outputs": [],
   "source": [
    "import logging\n",
    "logging.basicConfig(filename='debug.log', filemode='w', format='%(asctime)s %(message)s', datefmt='%m/%d/%Y %I:%M:%S %p')\n",
    "name = 'Pooja'\n",
    "logging.error(f\"{name} has raised an error\")"
   ]
  },
  {
   "cell_type": "code",
   "execution_count": null,
   "id": "351ee08f",
   "metadata": {},
   "outputs": [],
   "source": [
    "cat debug.log"
   ]
  },
  {
   "cell_type": "markdown",
   "id": "8c2294f3",
   "metadata": {},
   "source": [
    "### Capturing Stack Traces"
   ]
  },
  {
   "cell_type": "code",
   "execution_count": null,
   "id": "e4b8c382",
   "metadata": {},
   "outputs": [],
   "source": [
    "import logging\n",
    "logging.basicConfig(filename='debug.log', filemode='w', format='%(asctime)s %(message)s', datefmt='%m/%d/%Y %I:%M:%S %p')\n",
    "\n",
    "a=5\n",
    "b=0\n",
    "\n",
    "try:\n",
    "    c = a/b\n",
    "except Exception as e:\n",
    "    logging.error(\"Exception occured: \", exc_info=True) # or logging.exception(\"Exception has occured\")"
   ]
  },
  {
   "cell_type": "code",
   "execution_count": null,
   "id": "82405417",
   "metadata": {},
   "outputs": [],
   "source": [
    "! cat debug.log"
   ]
  },
  {
   "cell_type": "markdown",
   "id": "d4c0e320",
   "metadata": {},
   "source": [
    "### Practical example including disable logger\n",
    "* via 'logger.disabled'\n",
    "* if we set 'level' as 'INFO', we receive INFO, ERROR, WARNING, however if we set 'level' to 'DEBUG', we receive DEBUG, INFO, WARNING, ERROR- as expected!"
   ]
  },
  {
   "cell_type": "code",
   "execution_count": 3,
   "id": "aed2c626",
   "metadata": {},
   "outputs": [
    {
     "name": "stderr",
     "output_type": "stream",
     "text": [
      "INFO:09/27/2021 12:56:23 PM: the value of a is 5\n",
      "ERROR:09/27/2021 12:56:23 PM: value of a is more than 4\n",
      "DEBUG:09/27/2021 12:56:23 PM: the file execution has been finished\n"
     ]
    },
    {
     "name": "stdout",
     "output_type": "stream",
     "text": [
      "everything is being logged\n"
     ]
    }
   ],
   "source": [
    "import logging\n",
    "logging.basicConfig(format='%(levelname)s:%(asctime)s: %(message)s',datefmt='%m/%d/%Y %I:%M:%S %p',\n",
    "                    level=logging.DEBUG)\n",
    "logger = logging.getLogger('my-logger')\n",
    "\n",
    "#logger.propagate = False\n",
    "logger.disabled=False\n",
    "\n",
    "a=5\n",
    "logger.info(f\"the value of a is {a}\")\n",
    "thresh=4\n",
    "\n",
    "if a >thresh:\n",
    "    logger.error(f\"value of a is more than {thresh}\")\n",
    "    \n",
    "print(\"everything is being logged\")\n",
    "logger.debug(\"the file execution has been finished\")"
   ]
  },
  {
   "cell_type": "code",
   "execution_count": null,
   "id": "2458a9b7",
   "metadata": {},
   "outputs": [],
   "source": []
  }
 ],
 "metadata": {
  "kernelspec": {
   "display_name": "Python 3 (ipykernel)",
   "language": "python",
   "name": "python3"
  },
  "language_info": {
   "codemirror_mode": {
    "name": "ipython",
    "version": 3
   },
   "file_extension": ".py",
   "mimetype": "text/x-python",
   "name": "python",
   "nbconvert_exporter": "python",
   "pygments_lexer": "ipython3",
   "version": "3.9.7"
  },
  "toc": {
   "base_numbering": 1,
   "nav_menu": {},
   "number_sections": true,
   "sideBar": true,
   "skip_h1_title": false,
   "title_cell": "Table of Contents",
   "title_sidebar": "Contents",
   "toc_cell": false,
   "toc_position": {},
   "toc_section_display": true,
   "toc_window_display": true
  }
 },
 "nbformat": 4,
 "nbformat_minor": 5
}
