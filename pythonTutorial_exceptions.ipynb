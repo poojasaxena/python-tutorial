{
 "cells": [
  {
   "cell_type": "code",
   "execution_count": 1,
   "id": "continuing-piece",
   "metadata": {},
   "outputs": [
    {
     "data": {
      "application/javascript": [
       "IPython.notebook.set_autosave_interval(30000)"
      ]
     },
     "metadata": {},
     "output_type": "display_data"
    },
    {
     "name": "stdout",
     "output_type": "stream",
     "text": [
      "Autosaving every 30 seconds\n"
     ]
    }
   ],
   "source": [
    "%autosave 30"
   ]
  },
  {
   "cell_type": "markdown",
   "id": "disabled-lending",
   "metadata": {},
   "source": [
    "## Try Except"
   ]
  },
  {
   "cell_type": "markdown",
   "id": "indie-consistency",
   "metadata": {},
   "source": [
    "### Exercises"
   ]
  },
  {
   "cell_type": "markdown",
   "id": "fixed-posting",
   "metadata": {},
   "source": [
    "#### Make sure the user enter the positive number for his age"
   ]
  },
  {
   "cell_type": "code",
   "execution_count": 2,
   "id": "valid-penalty",
   "metadata": {},
   "outputs": [
    {
     "name": "stdout",
     "output_type": "stream",
     "text": [
      "Please Enter your age:\n",
      "3k\n",
      "Please use numeric digits.\n",
      "Please Enter your age:\n",
      "g\n",
      "Please use numeric digits.\n",
      "Please Enter your age:\n",
      "23\n",
      "your age is  23\n"
     ]
    }
   ],
   "source": [
    "while True:\n",
    "    print('Please Enter your age:')\n",
    "    age = input()\n",
    "    try:\n",
    "        age = int(age)\n",
    "    except:\n",
    "        print('Please use numeric digits.')\n",
    "        continue\n",
    "    if age < 1:\n",
    "        print('Please enter a positive number.')\n",
    "        continue\n",
    "    break\n",
    "print('your age is ',age)\n",
    "        "
   ]
  },
  {
   "cell_type": "markdown",
   "id": "female-immunology",
   "metadata": {},
   "source": [
    "## ValueError"
   ]
  },
  {
   "cell_type": "markdown",
   "id": "systematic-movie",
   "metadata": {},
   "source": [
    "### Exercise"
   ]
  },
  {
   "cell_type": "markdown",
   "id": "instrumental-scoop",
   "metadata": {},
   "source": [
    "#### Raise ValueError after given trail of response"
   ]
  },
  {
   "cell_type": "code",
   "execution_count": 4,
   "id": "pressing-mechanism",
   "metadata": {},
   "outputs": [],
   "source": [
    "def ask_ok(prompt, retry=4, reminder='Please Try again!'):\n",
    "    while True:\n",
    "        ok = input(prompt)\n",
    "        if ok in ('y','yes','ye', 'YES'):\n",
    "            return True\n",
    "        elif ok in ('no','n','No', 'NO'):\n",
    "            return False\n",
    "        retry-=1\n",
    "        if retry<0:\n",
    "            raise ValueError('Invaid User response')\n",
    "        print(reminder)"
   ]
  },
  {
   "cell_type": "code",
   "execution_count": 5,
   "id": "reported-northern",
   "metadata": {},
   "outputs": [
    {
     "name": "stdout",
     "output_type": "stream",
     "text": [
      "Do you want to quit?yes\n"
     ]
    },
    {
     "data": {
      "text/plain": [
       "True"
      ]
     },
     "execution_count": 5,
     "metadata": {},
     "output_type": "execute_result"
    }
   ],
   "source": [
    "ask_ok('Do you want to quit?')"
   ]
  },
  {
   "cell_type": "code",
   "execution_count": null,
   "id": "liable-peninsula",
   "metadata": {},
   "outputs": [],
   "source": []
  }
 ],
 "metadata": {
  "kernelspec": {
   "display_name": "Python 3",
   "language": "python",
   "name": "python3"
  },
  "language_info": {
   "codemirror_mode": {
    "name": "ipython",
    "version": 3
   },
   "file_extension": ".py",
   "mimetype": "text/x-python",
   "name": "python",
   "nbconvert_exporter": "python",
   "pygments_lexer": "ipython3",
   "version": "3.8.0"
  },
  "toc": {
   "base_numbering": 1,
   "nav_menu": {},
   "number_sections": true,
   "sideBar": true,
   "skip_h1_title": false,
   "title_cell": "Table of Contents",
   "title_sidebar": "Contents",
   "toc_cell": false,
   "toc_position": {},
   "toc_section_display": true,
   "toc_window_display": true
  },
  "varInspector": {
   "cols": {
    "lenName": 16,
    "lenType": 16,
    "lenVar": 40
   },
   "kernels_config": {
    "python": {
     "delete_cmd_postfix": "",
     "delete_cmd_prefix": "del ",
     "library": "var_list.py",
     "varRefreshCmd": "print(var_dic_list())"
    },
    "r": {
     "delete_cmd_postfix": ") ",
     "delete_cmd_prefix": "rm(",
     "library": "var_list.r",
     "varRefreshCmd": "cat(var_dic_list()) "
    }
   },
   "types_to_exclude": [
    "module",
    "function",
    "builtin_function_or_method",
    "instance",
    "_Feature"
   ],
   "window_display": false
  }
 },
 "nbformat": 4,
 "nbformat_minor": 5
}
