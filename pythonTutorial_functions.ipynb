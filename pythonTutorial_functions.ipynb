{
 "cells": [
  {
   "cell_type": "code",
   "execution_count": 1,
   "id": "intimate-patrol",
   "metadata": {},
   "outputs": [
    {
     "data": {
      "application/javascript": [
       "IPython.notebook.set_autosave_interval(30000)"
      ]
     },
     "metadata": {},
     "output_type": "display_data"
    },
    {
     "name": "stdout",
     "output_type": "stream",
     "text": [
      "Autosaving every 30 seconds\n"
     ]
    }
   ],
   "source": [
    "%autosave 30"
   ]
  },
  {
   "cell_type": "markdown",
   "id": "instant-bloom",
   "metadata": {},
   "source": [
    "## Functions"
   ]
  },
  {
   "cell_type": "markdown",
   "id": "rising-portable",
   "metadata": {},
   "source": [
    "### Exercises"
   ]
  },
  {
   "cell_type": "markdown",
   "id": "suffering-bubble",
   "metadata": {},
   "source": [
    "#### Write a function to let user reply for 4 times"
   ]
  },
  {
   "cell_type": "code",
   "execution_count": 72,
   "id": "constant-helen",
   "metadata": {},
   "outputs": [],
   "source": [
    "def ask_ok(prompt, retry=4, reminder='Please Try again!'):\n",
    "    while True:\n",
    "        ok = input(prompt)\n",
    "        if ok in ('y','yes','ye', 'YES'):\n",
    "            return True\n",
    "        elif ok in ('no','n','No', 'NO'):\n",
    "            return False\n",
    "        retry-=1\n",
    "        if retry<0:\n",
    "            raise ValueError('Invaid User response')\n",
    "        print(reminder)"
   ]
  },
  {
   "cell_type": "code",
   "execution_count": 73,
   "id": "induced-husband",
   "metadata": {},
   "outputs": [
    {
     "name": "stdout",
     "output_type": "stream",
     "text": [
      "Dp you really want to quit?nkh\n",
      "Please Try again!\n",
      "Dp you really want to quit?df\n",
      "Please Try again!\n",
      "Dp you really want to quit?sd\n",
      "Please Try again!\n",
      "Dp you really want to quit?df\n",
      "Please Try again!\n",
      "Dp you really want to quit?df\n"
     ]
    },
    {
     "ename": "ValueError",
     "evalue": "Invaid User response",
     "output_type": "error",
     "traceback": [
      "\u001b[0;31m---------------------------------------------------------------------------\u001b[0m",
      "\u001b[0;31mValueError\u001b[0m                                Traceback (most recent call last)",
      "\u001b[0;32m<ipython-input-73-b455dbcfbb4e>\u001b[0m in \u001b[0;36m<module>\u001b[0;34m\u001b[0m\n\u001b[0;32m----> 1\u001b[0;31m \u001b[0mask_ok\u001b[0m\u001b[0;34m(\u001b[0m\u001b[0;34m'Dp you really want to quit?'\u001b[0m\u001b[0;34m)\u001b[0m\u001b[0;34m\u001b[0m\u001b[0;34m\u001b[0m\u001b[0m\n\u001b[0m",
      "\u001b[0;32m<ipython-input-72-3fdcc55a1079>\u001b[0m in \u001b[0;36mask_ok\u001b[0;34m(prompt, retry, reminder)\u001b[0m\n\u001b[1;32m      8\u001b[0m         \u001b[0mretry\u001b[0m\u001b[0;34m-=\u001b[0m\u001b[0;36m1\u001b[0m\u001b[0;34m\u001b[0m\u001b[0;34m\u001b[0m\u001b[0m\n\u001b[1;32m      9\u001b[0m         \u001b[0;32mif\u001b[0m \u001b[0mretry\u001b[0m\u001b[0;34m<\u001b[0m\u001b[0;36m0\u001b[0m\u001b[0;34m:\u001b[0m\u001b[0;34m\u001b[0m\u001b[0;34m\u001b[0m\u001b[0m\n\u001b[0;32m---> 10\u001b[0;31m             \u001b[0;32mraise\u001b[0m \u001b[0mValueError\u001b[0m\u001b[0;34m(\u001b[0m\u001b[0;34m'Invaid User response'\u001b[0m\u001b[0;34m)\u001b[0m\u001b[0;34m\u001b[0m\u001b[0;34m\u001b[0m\u001b[0m\n\u001b[0m\u001b[1;32m     11\u001b[0m         \u001b[0mprint\u001b[0m\u001b[0;34m(\u001b[0m\u001b[0mreminder\u001b[0m\u001b[0;34m)\u001b[0m\u001b[0;34m\u001b[0m\u001b[0;34m\u001b[0m\u001b[0m\n",
      "\u001b[0;31mValueError\u001b[0m: Invaid User response"
     ]
    }
   ],
   "source": [
    "ask_ok('Dp you really want to quit?')"
   ]
  },
  {
   "cell_type": "markdown",
   "id": "hazardous-creator",
   "metadata": {},
   "source": [
    "#### Let the user guess a random number"
   ]
  },
  {
   "cell_type": "code",
   "execution_count": 74,
   "id": "minor-logan",
   "metadata": {},
   "outputs": [
    {
     "name": "stdout",
     "output_type": "stream",
     "text": [
      "Iam thinking of a number betwen 1 and 20.\n",
      "Take a guess.\n",
      "4\n",
      "this number is too low.\n",
      "Take a guess.\n",
      "3\n",
      "this number is too low.\n",
      "Take a guess.\n",
      "4\n",
      "this number is too low.\n",
      "Take a guess.\n",
      "6\n",
      "this number is too low.\n",
      "Take a guess.\n",
      "7\n",
      "Good job, you guesses the right number in 5 guesses!\n"
     ]
    }
   ],
   "source": [
    "import random\n",
    "secretnumber = random.randint(1,20)\n",
    "print(\"Iam thinking of a number betwen 1 and 20.\")\n",
    "\n",
    "## Ask the player to guess 6 times\n",
    "for guessTaken in range(1,7):\n",
    "    print(\"Take a guess.\")\n",
    "    guess = int(input())\n",
    "\n",
    "    if guess < secretnumber:\n",
    "        print(\"this number is too low.\")\n",
    "    elif guess > secretnumber:\n",
    "        print(\"this number is too high\")\n",
    "    else:\n",
    "        break\n",
    "if guess == secretnumber:\n",
    "    print(\"Good job, you guesses the right number in \"+ str(guessTaken)+' guesses!')\n",
    "else:\n",
    "    print(\"Nope, I was thinking of this number\"+str(secretnumber))"
   ]
  },
  {
   "cell_type": "code",
   "execution_count": null,
   "id": "brilliant-cream",
   "metadata": {},
   "outputs": [],
   "source": []
  },
  {
   "cell_type": "code",
   "execution_count": null,
   "id": "iraqi-diving",
   "metadata": {},
   "outputs": [],
   "source": []
  },
  {
   "cell_type": "markdown",
   "id": "ancient-alabama",
   "metadata": {},
   "source": [
    "## Docstring\n",
    "In Python, the documentation string is also called a docstring. It is a descriptive text (like a comment) written by a programmer to let others know what block of code does.\n",
    "\n",
    "It is being declared using triple single quotes `(''' ''')` or triple-double `quote(\"\"\" \"\"\")`.\n",
    "\n",
    "We can access docstring using doc attribute `(__doc__)` for any object like `list`, `tuple`, `dict`, and user-defined function, etc.\n",
    "\n"
   ]
  },
  {
   "cell_type": "markdown",
   "id": "individual-paragraph",
   "metadata": {},
   "source": [
    "### Tutorial"
   ]
  },
  {
   "cell_type": "markdown",
   "id": "focal-assumption",
   "metadata": {},
   "source": [
    "#### Single Line Docstring"
   ]
  },
  {
   "cell_type": "code",
   "execution_count": 4,
   "id": "varying-following",
   "metadata": {},
   "outputs": [
    {
     "name": "stdout",
     "output_type": "stream",
     "text": [
      "This function returnes the factorial of a given number.\n"
     ]
    }
   ],
   "source": [
    "def factorial(x):\n",
    "    \"\"\"This function returnes the factorial of a given number.\"\"\"\n",
    "    return x\n",
    "## access doc string\n",
    "print(factorial.__doc__)"
   ]
  },
  {
   "cell_type": "code",
   "execution_count": 5,
   "id": "convinced-nevada",
   "metadata": {},
   "outputs": [
    {
     "name": "stdout",
     "output_type": "stream",
     "text": [
      "Help on function factorial in module __main__:\n",
      "\n",
      "factorial(x)\n",
      "    This function returnes the factorial of a given number.\n",
      "\n"
     ]
    }
   ],
   "source": [
    "help(factorial)"
   ]
  },
  {
   "cell_type": "markdown",
   "id": "divine-edinburgh",
   "metadata": {},
   "source": [
    "#### Multi Line Docstring"
   ]
  },
  {
   "cell_type": "code",
   "execution_count": 6,
   "id": "placed-national",
   "metadata": {},
   "outputs": [
    {
     "name": "stdout",
     "output_type": "stream",
     "text": [
      "\n",
      "    Description of function\n",
      "    \n",
      "    Arguments:\n",
      "    variable(int): int variable\n",
      "    \n",
      "    Returns:\n",
      "    int value\n",
      "    \n"
     ]
    }
   ],
   "source": [
    "def sample_function(variable):\n",
    "    \"\"\"\n",
    "    Description of function\n",
    "    \n",
    "    Arguments:\n",
    "    variable(int): int variable\n",
    "    \n",
    "    Returns:\n",
    "    int value\n",
    "    \"\"\"\n",
    "    \n",
    "print(sample_function.__doc__)"
   ]
  },
  {
   "cell_type": "code",
   "execution_count": 7,
   "id": "essential-guidance",
   "metadata": {},
   "outputs": [
    {
     "name": "stdout",
     "output_type": "stream",
     "text": [
      "Help on function sample_function in module __main__:\n",
      "\n",
      "sample_function(variable)\n",
      "    Description of function\n",
      "    \n",
      "    Arguments:\n",
      "    variable(int): int variable\n",
      "    \n",
      "    Returns:\n",
      "    int value\n",
      "\n"
     ]
    }
   ],
   "source": [
    "help(sample_function)"
   ]
  },
  {
   "cell_type": "markdown",
   "id": "guilty-administrator",
   "metadata": {},
   "source": [
    "## Variable-length arguments\n",
    "\n",
    "In Python, sometimes, there is a situation where we need to pass multiple numbers of arguments to the function. Such types of arguments are called variable-length arguments. We can declare a variable-length argument with the `*` (asterisk) symbol.\n",
    "\n"
   ]
  },
  {
   "cell_type": "markdown",
   "id": "fixed-retail",
   "metadata": {},
   "source": [
    "#### Tutorial"
   ]
  },
  {
   "cell_type": "code",
   "execution_count": 9,
   "id": "painful-second",
   "metadata": {},
   "outputs": [],
   "source": [
    "def addition(*numbers):\n",
    "    total=0\n",
    "    for num_ in numbers:\n",
    "        total=total+num_\n",
    "    print(\"Sum is: \", total)"
   ]
  },
  {
   "cell_type": "code",
   "execution_count": 10,
   "id": "animal-commonwealth",
   "metadata": {},
   "outputs": [
    {
     "name": "stdout",
     "output_type": "stream",
     "text": [
      "Sum is:  4\n"
     ]
    }
   ],
   "source": [
    "addition(4)"
   ]
  },
  {
   "cell_type": "code",
   "execution_count": 11,
   "id": "thirty-uniform",
   "metadata": {},
   "outputs": [
    {
     "name": "stdout",
     "output_type": "stream",
     "text": [
      "Sum is:  7\n"
     ]
    }
   ],
   "source": [
    "addition(3,4)"
   ]
  },
  {
   "cell_type": "code",
   "execution_count": 12,
   "id": "fundamental-motel",
   "metadata": {},
   "outputs": [
    {
     "name": "stdout",
     "output_type": "stream",
     "text": [
      "Sum is:  15\n"
     ]
    }
   ],
   "source": [
    "addition(4,5,6)"
   ]
  },
  {
   "cell_type": "markdown",
   "id": "champion-highland",
   "metadata": {},
   "source": [
    "## Lambda function\n",
    "\n",
    "Sometimes we need to declare a function without any name. The nameless property function is called an anonymous function or lambda function.\n",
    "\n",
    "The reason behind the using anonymous function is for instant use, that is, one-time usage. Normal function is declared using the `def` function. Whereas the anonymous function is declared using the `lambda` keyword.\n",
    "\n",
    "In opposite to a normal function, a Python lambda function is a single expression. But, in a lambda body, we can expand with expressions over multiple lines using parentheses or a multiline string.\n",
    "ex : `lambda n:n+n`\n",
    "\n",
    "Syntex: `lambda: argument_list:expression`"
   ]
  },
  {
   "cell_type": "markdown",
   "id": "juvenile-sleeping",
   "metadata": {},
   "source": [
    "### Tutorial"
   ]
  },
  {
   "cell_type": "markdown",
   "id": "curious-training",
   "metadata": {},
   "source": [
    "#### To find even numbers "
   ]
  },
  {
   "cell_type": "code",
   "execution_count": 17,
   "id": "intimate-metropolitan",
   "metadata": {},
   "outputs": [
    {
     "data": {
      "text/plain": [
       "[10, 8, 34, 24]"
      ]
     },
     "execution_count": 17,
     "metadata": {},
     "output_type": "execute_result"
    }
   ],
   "source": [
    "num_list=[10, 5, 7, 8, 9, 34, 24]\n",
    "\n",
    "def even_numbers(numbers):\n",
    "    even_list=[]\n",
    "    for num_ in numbers:\n",
    "        if num_%2==0:\n",
    "            even_list.append(num_)\n",
    "    return even_list\n",
    "\n",
    "even_numbers(num_list)"
   ]
  },
  {
   "cell_type": "code",
   "execution_count": 18,
   "id": "environmental-monte",
   "metadata": {},
   "outputs": [
    {
     "data": {
      "text/plain": [
       "[10, 8, 34, 24]"
      ]
     },
     "execution_count": 18,
     "metadata": {},
     "output_type": "execute_result"
    }
   ],
   "source": [
    "num_list=[10, 5, 7, 8, 9, 34, 24]\n",
    "[num for num in num_list if num%2==0]"
   ]
  },
  {
   "cell_type": "code",
   "execution_count": 20,
   "id": "friendly-ghost",
   "metadata": {},
   "outputs": [
    {
     "data": {
      "text/plain": [
       "[10, 8, 34, 24]"
      ]
     },
     "execution_count": 20,
     "metadata": {},
     "output_type": "execute_result"
    }
   ],
   "source": [
    "num_list=[10, 5, 7, 8, 9, 34, 24]\n",
    "list(filter(lambda x:x%2==0, num_list))"
   ]
  },
  {
   "cell_type": "markdown",
   "id": "brief-toyota",
   "metadata": {},
   "source": [
    "#### To find the positive numbers"
   ]
  },
  {
   "cell_type": "code",
   "execution_count": 21,
   "id": "extra-geneva",
   "metadata": {},
   "outputs": [
    {
     "data": {
      "text/plain": [
       "[43, 43, 53, 24]"
      ]
     },
     "execution_count": 21,
     "metadata": {},
     "output_type": "execute_result"
    }
   ],
   "source": [
    "aList= [-12, 43, 43, -1, -4, 53, 24, -45]\n",
    "positiveList = list(filter(lambda x:x>0, aList))\n",
    "positiveList"
   ]
  },
  {
   "cell_type": "markdown",
   "id": "julian-clerk",
   "metadata": {},
   "source": [
    "## Map function\n",
    "In Python, the `map()` function is used to apply some functionality for every element present in the given sequence and generate a new series with a required modification.\n",
    "\n",
    "Syntex: `map(function,sequence)`\n"
   ]
  },
  {
   "cell_type": "markdown",
   "id": "reliable-stake",
   "metadata": {},
   "source": [
    "### Exercises"
   ]
  },
  {
   "cell_type": "markdown",
   "id": "coordinate-smooth",
   "metadata": {},
   "source": [
    "#### converting to Upper"
   ]
  },
  {
   "cell_type": "code",
   "execution_count": 10,
   "id": "specific-panama",
   "metadata": {},
   "outputs": [
    {
     "name": "stdout",
     "output_type": "stream",
     "text": [
      "['ALFRED', 'TABITHA', 'WILLIAM', 'ARLA']\n"
     ]
    }
   ],
   "source": [
    "persons = ['alfred', 'tabitha', 'william', 'arla']\n",
    "uppered_persons = []\n",
    "\n",
    "\n",
    "for person in persons:\n",
    "    persons_ = person.upper()\n",
    "    uppered_persons.append(persons_)\n",
    "    \n",
    "\n",
    "print(uppered_persons)"
   ]
  },
  {
   "cell_type": "code",
   "execution_count": 12,
   "id": "ebabd0dc",
   "metadata": {},
   "outputs": [
    {
     "data": {
      "text/plain": [
       "['ALFRED', 'TABITHA', 'WILLIAM', 'ARLA']"
      ]
     },
     "execution_count": 12,
     "metadata": {},
     "output_type": "execute_result"
    }
   ],
   "source": [
    "[x.upper() for x in persons]"
   ]
  },
  {
   "cell_type": "code",
   "execution_count": 2,
   "id": "invisible-medicaid",
   "metadata": {},
   "outputs": [
    {
     "data": {
      "text/plain": [
       "['ALFRED', 'TABITHA', 'WILLIAM', 'ARLA']"
      ]
     },
     "execution_count": 2,
     "metadata": {},
     "output_type": "execute_result"
    }
   ],
   "source": [
    "upperPerson = list(map(lambda x: x.upper(), persons))\n",
    "upperPerson"
   ]
  },
  {
   "cell_type": "code",
   "execution_count": 3,
   "id": "cathedral-analyst",
   "metadata": {},
   "outputs": [
    {
     "data": {
      "text/plain": [
       "['ALFRED', 'TABITHA', 'WILLIAM', 'ARLA']"
      ]
     },
     "execution_count": 3,
     "metadata": {},
     "output_type": "execute_result"
    }
   ],
   "source": [
    "upperPerson = list(map(str.upper, persons))\n",
    "upperPerson"
   ]
  },
  {
   "cell_type": "markdown",
   "id": "stable-fluid",
   "metadata": {},
   "source": [
    "#### Squaring one list via another list"
   ]
  },
  {
   "cell_type": "code",
   "execution_count": 23,
   "id": "painted-lotus",
   "metadata": {},
   "outputs": [
    {
     "data": {
      "text/plain": [
       "[1, 16, 243, 4096]"
      ]
     },
     "execution_count": 23,
     "metadata": {},
     "output_type": "execute_result"
    }
   ],
   "source": [
    "firstList=[1, 2, 3, 4]\n",
    "secondList=[3, 4, 5, 6]\n",
    "\n",
    "list(map(pow, firstList, secondList))"
   ]
  },
  {
   "cell_type": "markdown",
   "id": "radio-bracket",
   "metadata": {},
   "source": [
    "#### find subtraction of two list "
   ]
  },
  {
   "cell_type": "code",
   "execution_count": 1,
   "id": "regional-fellow",
   "metadata": {},
   "outputs": [
    {
     "data": {
      "text/plain": [
       "[-4, -3, -3, -13, -38]"
      ]
     },
     "execution_count": 1,
     "metadata": {},
     "output_type": "execute_result"
    }
   ],
   "source": [
    "aList=[2, 4, 5, 6, 7, 8]\n",
    "bList=[6, 7, 8, 19, 45]\n",
    "list(map(lambda x, y: x-y, aList, bList))"
   ]
  },
  {
   "cell_type": "code",
   "execution_count": 16,
   "id": "c95a0f2f",
   "metadata": {},
   "outputs": [
    {
     "data": {
      "text/plain": [
       "[<map at 0x111cb6d10>]"
      ]
     },
     "execution_count": 16,
     "metadata": {},
     "output_type": "execute_result"
    }
   ],
   "source": [
    "[map(lambda x,y: x-y,  aList, bList)]"
   ]
  },
  {
   "cell_type": "markdown",
   "id": "secondary-argument",
   "metadata": {},
   "source": [
    "#### Find word length in given List"
   ]
  },
  {
   "cell_type": "code",
   "execution_count": 25,
   "id": "paperback-perception",
   "metadata": {},
   "outputs": [
    {
     "data": {
      "text/plain": [
       "[6, 2, 5, 2, 6]"
      ]
     },
     "execution_count": 25,
     "metadata": {},
     "output_type": "execute_result"
    }
   ],
   "source": [
    "wordList=[\"wecome\",\"yo\", \"coffe\", \"in\",\"Poland\"]\n",
    "list(map(len, wordList))"
   ]
  },
  {
   "cell_type": "markdown",
   "id": "manual-favor",
   "metadata": {},
   "source": [
    "#### To find if the list has title"
   ]
  },
  {
   "cell_type": "code",
   "execution_count": 27,
   "id": "basic-platform",
   "metadata": {},
   "outputs": [
    {
     "data": {
      "text/plain": [
       "[False, False, False, False]"
      ]
     },
     "execution_count": 27,
     "metadata": {},
     "output_type": "execute_result"
    }
   ],
   "source": [
    "aList= ['processing','the','map','istitle']\n",
    "list(map(str.istitle, aList))"
   ]
  },
  {
   "cell_type": "markdown",
   "id": "entire-instrumentation",
   "metadata": {},
   "source": [
    "#### To remove the dots in given List"
   ]
  },
  {
   "cell_type": "code",
   "execution_count": 29,
   "id": "missing-welcome",
   "metadata": {},
   "outputs": [
    {
     "data": {
      "text/plain": [
       "['processing', 'the', 'map']"
      ]
     },
     "execution_count": 29,
     "metadata": {},
     "output_type": "execute_result"
    }
   ],
   "source": [
    "dottedList=['processing...', \"the...\",\"map..\"]\n",
    "list(map(lambda s: s.strip(\".\"), dottedList))"
   ]
  },
  {
   "cell_type": "markdown",
   "id": "stable-wyoming",
   "metadata": {},
   "source": [
    "#### Remove punctuation in given text"
   ]
  },
  {
   "cell_type": "code",
   "execution_count": 30,
   "id": "persistent-gazette",
   "metadata": {},
   "outputs": [
    {
     "data": {
      "text/plain": [
       "'Some people, when confronted with a problem, think\\n\"I know, I\\'ll use regular expressions.\"\\nNow they have two problems. Jamie Zawinski'"
      ]
     },
     "execution_count": 30,
     "metadata": {},
     "output_type": "execute_result"
    }
   ],
   "source": [
    "text = \"\"\"Some people, when confronted with a problem, think\n",
    "... \"I know, I'll use regular expressions.\"\n",
    "... Now they have two problems. Jamie Zawinski\"\"\"\n",
    "text"
   ]
  },
  {
   "cell_type": "code",
   "execution_count": 31,
   "id": "rural-keeping",
   "metadata": {},
   "outputs": [
    {
     "data": {
      "text/plain": [
       "'Python'"
      ]
     },
     "execution_count": 31,
     "metadata": {},
     "output_type": "execute_result"
    }
   ],
   "source": [
    "import re\n",
    "def remove_punctuation(word):\n",
    "    return re.sub(r'[!~?.:\"\"()-]', \"\", word)\n",
    "remove_punctuation(\"...Python~!()\")"
   ]
  },
  {
   "cell_type": "code",
   "execution_count": 35,
   "id": "defensive-graduate",
   "metadata": {},
   "outputs": [
    {
     "data": {
      "text/plain": [
       "['Some',\n",
       " 'people,',\n",
       " 'when',\n",
       " 'confronted',\n",
       " 'with',\n",
       " 'a',\n",
       " 'problem,',\n",
       " 'think',\n",
       " 'I',\n",
       " 'know,',\n",
       " \"I'll\",\n",
       " 'use',\n",
       " 'regular',\n",
       " 'expressions',\n",
       " 'Now',\n",
       " 'they',\n",
       " 'have',\n",
       " 'two',\n",
       " 'problems',\n",
       " 'Jamie',\n",
       " 'Zawinski']"
      ]
     },
     "execution_count": 35,
     "metadata": {},
     "output_type": "execute_result"
    }
   ],
   "source": [
    "list(map(remove_punctuation, text.split()))"
   ]
  },
  {
   "cell_type": "markdown",
   "id": "impressive-aluminum",
   "metadata": {},
   "source": [
    "#### To print the square of each number rouded to 3 decimal places"
   ]
  },
  {
   "cell_type": "code",
   "execution_count": 45,
   "id": "valued-glucose",
   "metadata": {},
   "outputs": [
    {
     "data": {
      "text/plain": [
       "[18.922, 37.088, 10.562, 95.453, 4.666, 78.854, 21.068]"
      ]
     },
     "execution_count": 45,
     "metadata": {},
     "output_type": "execute_result"
    }
   ],
   "source": [
    "floatList=[4.35, 6.09, 3.25, 9.77, 2.16, 8.88, 4.59]\n",
    "\n",
    "list(map(lambda z:round(z**2,3), floatList))"
   ]
  },
  {
   "cell_type": "code",
   "execution_count": null,
   "id": "liberal-scholarship",
   "metadata": {},
   "outputs": [],
   "source": []
  },
  {
   "cell_type": "markdown",
   "id": "normal-haiti",
   "metadata": {},
   "source": [
    "## Filter function\n",
    "In Python, the `filter()` function is used to return the filtered value. We use this function to filter values based on some conditions.\n",
    "\n",
    "Syntex: `filter(function, sequence)`"
   ]
  },
  {
   "cell_type": "markdown",
   "id": "usual-method",
   "metadata": {},
   "source": [
    "### Exercises"
   ]
  },
  {
   "cell_type": "markdown",
   "id": "infrared-wiring",
   "metadata": {},
   "source": [
    "#### Finding the passing score"
   ]
  },
  {
   "cell_type": "code",
   "execution_count": 19,
   "id": "directed-staff",
   "metadata": {},
   "outputs": [
    {
     "name": "stdout",
     "output_type": "stream",
     "text": [
      "[90, 88, 81, 92, 85]\n"
     ]
    }
   ],
   "source": [
    "scores = [66, 90, 68, 59, 76, 60, 88, 74, 81, 65, 92, 85]\n",
    "\n",
    "def is_A_student(score):\n",
    "    return score > 80\n",
    "passing = list(filter(is_A_student, scores))\n",
    "\n",
    "print(passing)"
   ]
  },
  {
   "cell_type": "code",
   "execution_count": 22,
   "id": "00504b02",
   "metadata": {},
   "outputs": [
    {
     "data": {
      "text/plain": [
       "[<filter at 0x111d414d0>]"
      ]
     },
     "execution_count": 22,
     "metadata": {},
     "output_type": "execute_result"
    }
   ],
   "source": [
    "[filter(lambda x: x>80, scores)]"
   ]
  },
  {
   "cell_type": "code",
   "execution_count": 9,
   "id": "sustained-schema",
   "metadata": {},
   "outputs": [
    {
     "data": {
      "text/plain": [
       "[90, 88, 81, 92, 85]"
      ]
     },
     "execution_count": 9,
     "metadata": {},
     "output_type": "execute_result"
    }
   ],
   "source": [
    "list(filter(lambda x: x>80, scores))"
   ]
  },
  {
   "cell_type": "markdown",
   "id": "remarkable-sydney",
   "metadata": {},
   "source": [
    "#### To find the squareroot of only positive numbers"
   ]
  },
  {
   "cell_type": "code",
   "execution_count": 40,
   "id": "related-colon",
   "metadata": {},
   "outputs": [
    {
     "data": {
      "text/plain": [
       "[5.0, 7.3484692283495345, 10.0, 10.0]"
      ]
     },
     "execution_count": 40,
     "metadata": {},
     "output_type": "execute_result"
    }
   ],
   "source": [
    "aList=[25, -24, 54, -3, 100, -34, 100, -200]\n",
    "\n",
    "import math\n",
    "list(map(lambda x: math.sqrt(x), filter(lambda y: y>0, aList)))"
   ]
  },
  {
   "cell_type": "markdown",
   "id": "studied-seating",
   "metadata": {},
   "source": [
    "#### To filter words with length >7"
   ]
  },
  {
   "cell_type": "code",
   "execution_count": 53,
   "id": "political-filter",
   "metadata": {},
   "outputs": [],
   "source": [
    "### Approach I\n",
    "def lenCheck(aList):\n",
    "    return [word for word in aList if len(word)>=7]"
   ]
  },
  {
   "cell_type": "code",
   "execution_count": 54,
   "id": "reported-phrase",
   "metadata": {},
   "outputs": [
    {
     "data": {
      "text/plain": [
       "['olumide', 'akinremias', 'temidayost', 'omoseunsdf']"
      ]
     },
     "execution_count": 54,
     "metadata": {},
     "output_type": "execute_result"
    }
   ],
   "source": [
    "my_names = [\"olumide\", \"akinremias\", \"josiah\", \"temidayost\", \"omoseunsdf\",\"nrjra\"]\n",
    "lenCheck(my_names)"
   ]
  },
  {
   "cell_type": "code",
   "execution_count": 68,
   "id": "peripheral-pantyhose",
   "metadata": {},
   "outputs": [
    {
     "data": {
      "text/plain": [
       "['olumide', 'akinremias', 'temidayost', 'omoseunsdf']"
      ]
     },
     "execution_count": 68,
     "metadata": {},
     "output_type": "execute_result"
    }
   ],
   "source": [
    "### Approach II\n",
    "list(map(lambda x:x, filter(lambda y: len(y)>=7, my_names)))"
   ]
  },
  {
   "cell_type": "markdown",
   "id": "assumed-gambling",
   "metadata": {},
   "source": [
    "## Reduce function\n",
    "In Python, the `reduce()` function is used to minimize sequence elements into a single value by applying the specified condition.\n",
    "\n",
    "The reduce() function is present in the `functools` module; hence, we need to import it using the import statement before using it.\n",
    "\n",
    "Syntex: `reduce(function, sequence)`"
   ]
  },
  {
   "cell_type": "markdown",
   "id": "respective-jungle",
   "metadata": {},
   "source": [
    "### Exercises"
   ]
  },
  {
   "cell_type": "markdown",
   "id": "official-vanilla",
   "metadata": {},
   "source": [
    "#### find the sum"
   ]
  },
  {
   "cell_type": "code",
   "execution_count": 10,
   "id": "criminal-microwave",
   "metadata": {},
   "outputs": [
    {
     "name": "stdout",
     "output_type": "stream",
     "text": [
      "68\n"
     ]
    }
   ],
   "source": [
    "from functools import reduce\n",
    "\n",
    "myNumbers = [3, 4, 6, 9, 34, 12]\n",
    "\n",
    "def custom_sum(first, second):\n",
    "    return first + second\n",
    "    \n",
    "result = reduce(custom_sum, myNumbers)\n",
    "print(result)"
   ]
  },
  {
   "cell_type": "code",
   "execution_count": 11,
   "id": "encouraging-average",
   "metadata": {},
   "outputs": [
    {
     "data": {
      "text/plain": [
       "68"
      ]
     },
     "execution_count": 11,
     "metadata": {},
     "output_type": "execute_result"
    }
   ],
   "source": [
    "reduce(lambda x,y:x+y, myNumbers)"
   ]
  },
  {
   "cell_type": "markdown",
   "id": "curious-stylus",
   "metadata": {},
   "source": [
    "#### To find the sum of only positive numbers"
   ]
  },
  {
   "cell_type": "code",
   "execution_count": 43,
   "id": "certified-liberal",
   "metadata": {},
   "outputs": [
    {
     "data": {
      "text/plain": [
       "43"
      ]
     },
     "execution_count": 43,
     "metadata": {},
     "output_type": "execute_result"
    }
   ],
   "source": [
    "aList = [1, -2, 3, 4, 5, 6, 7, 8, 9]\n",
    "\n",
    "from functools import reduce\n",
    "reduce(lambda x,y: x+y, filter(lambda z: z>0, aList))"
   ]
  },
  {
   "cell_type": "markdown",
   "id": "twenty-going",
   "metadata": {},
   "source": [
    "#### fix the code"
   ]
  },
  {
   "cell_type": "code",
   "execution_count": 12,
   "id": "informative-suspension",
   "metadata": {},
   "outputs": [
    {
     "name": "stdout",
     "output_type": "stream",
     "text": [
      "[18.922, 37.088, 10.562, 95.453, 4.666, 78.854, 21.068]\n",
      "['olumide', 'josiah', 'omoseun']\n",
      "24840\n"
     ]
    }
   ],
   "source": [
    "from functools import reduce\n",
    "\n",
    "# Use map to print the square of each numbers rounded\n",
    "# to three decimal places\n",
    "my_floats = [4.35, 6.09, 3.25, 9.77, 2.16, 8.88, 4.59]\n",
    "\n",
    "# Use filter to print only the names that are less than\n",
    "# or equal to seven letters\n",
    "my_names = [\"olumide\", \"akinremi\", \"josiah\", \"temidayo\", \"omoseun\"]\n",
    "\n",
    "# Use reduce to print the product of these numbers\n",
    "my_numbers = [4, 6, 9, 23, 5]\n",
    "\n",
    "# Fix all three respectively.\n",
    "map_result = list(map(lambda x: round(x*x,3), my_floats))\n",
    "filter_result = list(filter(lambda name: len(name)<=7, my_names))\n",
    "reduce_result = reduce(lambda num1, num2: num1 * num2, my_numbers)\n",
    "\n",
    "\n",
    "print(map_result)\n",
    "print(filter_result)\n",
    "print(reduce_result)"
   ]
  },
  {
   "cell_type": "code",
   "execution_count": null,
   "id": "cardiovascular-hometown",
   "metadata": {},
   "outputs": [],
   "source": []
  }
 ],
 "metadata": {
  "kernelspec": {
   "display_name": "Python 3 (ipykernel)",
   "language": "python",
   "name": "python3"
  },
  "language_info": {
   "codemirror_mode": {
    "name": "ipython",
    "version": 3
   },
   "file_extension": ".py",
   "mimetype": "text/x-python",
   "name": "python",
   "nbconvert_exporter": "python",
   "pygments_lexer": "ipython3",
   "version": "3.7.12"
  },
  "toc": {
   "base_numbering": 1,
   "nav_menu": {},
   "number_sections": true,
   "sideBar": true,
   "skip_h1_title": false,
   "title_cell": "Table of Contents",
   "title_sidebar": "Contents",
   "toc_cell": false,
   "toc_position": {
    "height": "calc(100% - 180px)",
    "left": "10px",
    "top": "150px",
    "width": "285.482px"
   },
   "toc_section_display": true,
   "toc_window_display": true
  },
  "varInspector": {
   "cols": {
    "lenName": 16,
    "lenType": 16,
    "lenVar": 40
   },
   "kernels_config": {
    "python": {
     "delete_cmd_postfix": "",
     "delete_cmd_prefix": "del ",
     "library": "var_list.py",
     "varRefreshCmd": "print(var_dic_list())"
    },
    "r": {
     "delete_cmd_postfix": ") ",
     "delete_cmd_prefix": "rm(",
     "library": "var_list.r",
     "varRefreshCmd": "cat(var_dic_list()) "
    }
   },
   "types_to_exclude": [
    "module",
    "function",
    "builtin_function_or_method",
    "instance",
    "_Feature"
   ],
   "window_display": false
  }
 },
 "nbformat": 4,
 "nbformat_minor": 5
}
