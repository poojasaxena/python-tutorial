{
  "nbformat": 4,
  "nbformat_minor": 5,
  "metadata": {
    "kernelspec": {
      "display_name": "Python 3",
      "language": "python",
      "name": "python3"
    },
    "language_info": {
      "codemirror_mode": {
        "name": "ipython",
        "version": 3
      },
      "file_extension": ".py",
      "mimetype": "text/x-python",
      "name": "python",
      "nbconvert_exporter": "python",
      "pygments_lexer": "ipython3",
      "version": "3.8.0"
    },
    "toc": {
      "base_numbering": 1,
      "nav_menu": {},
      "number_sections": true,
      "sideBar": true,
      "skip_h1_title": false,
      "title_cell": "Table of Contents",
      "title_sidebar": "Contents",
      "toc_cell": false,
      "toc_position": {
        "height": "calc(100% - 180px)",
        "left": "10px",
        "top": "150px",
        "width": "297px"
      },
      "toc_section_display": true,
      "toc_window_display": true
    },
    "varInspector": {
      "cols": {
        "lenName": 16,
        "lenType": 16,
        "lenVar": 40
      },
      "kernels_config": {
        "python": {
          "delete_cmd_postfix": "",
          "delete_cmd_prefix": "del ",
          "library": "var_list.py",
          "varRefreshCmd": "print(var_dic_list())"
        },
        "r": {
          "delete_cmd_postfix": ") ",
          "delete_cmd_prefix": "rm(",
          "library": "var_list.r",
          "varRefreshCmd": "cat(var_dic_list()) "
        }
      },
      "types_to_exclude": [
        "module",
        "function",
        "builtin_function_or_method",
        "instance",
        "_Feature"
      ],
      "window_display": false
    },
    "colab": {
      "name": "pythonTutorial_beginner.ipynb",
      "provenance": [],
      "toc_visible": true,
      "include_colab_link": true
    }
  },
  "cells": [
    {
      "cell_type": "markdown",
      "metadata": {
        "id": "view-in-github",
        "colab_type": "text"
      },
      "source": [
        "<a href=\"https://colab.research.google.com/github/poojasaxena/pythonTutorial/blob/main/pythonTutorial_beginner.ipynb\" target=\"_parent\"><img src=\"https://colab.research.google.com/assets/colab-badge.svg\" alt=\"Open In Colab\"/></a>"
      ]
    },
    {
      "cell_type": "code",
      "metadata": {
        "id": "written-journal",
        "outputId": "8e0d5d54-b78d-4a6e-a864-b85164fed350",
        "colab": {
          "base_uri": "https://localhost:8080/",
          "height": 34
        }
      },
      "source": [
        "%autosave 30"
      ],
      "id": "written-journal",
      "execution_count": 1,
      "outputs": [
        {
          "output_type": "display_data",
          "data": {
            "application/javascript": [
              "IPython.notebook.set_autosave_interval(30000)"
            ]
          },
          "metadata": {}
        },
        {
          "output_type": "stream",
          "name": "stdout",
          "text": [
            "Autosaving every 30 seconds\n"
          ]
        }
      ]
    },
    {
      "cell_type": "markdown",
      "metadata": {
        "id": "finnish-client"
      },
      "source": [
        "# Input & Output\n",
        "In Python 3, we have the following two built-in functions to handle input from a user and system.\n",
        "* `input(prompt)`: To accept input from a user.\n",
        "* `print()`: To display output on the console/screen.\n"
      ],
      "id": "finnish-client"
    },
    {
      "cell_type": "markdown",
      "metadata": {
        "id": "l4uAvTDGTCiR"
      },
      "source": [
        "## Tutorial"
      ],
      "id": "l4uAvTDGTCiR"
    },
    {
      "cell_type": "markdown",
      "metadata": {
        "id": "4SyplJ_WTOwp"
      },
      "source": [
        "### Several ways to concetenate strings."
      ],
      "id": "4SyplJ_WTOwp"
    },
    {
      "cell_type": "code",
      "metadata": {
        "id": "u_iezYv7S4mn",
        "outputId": "70368d42-f832-4a97-e663-6e9d8ac465b3",
        "colab": {
          "base_uri": "https://localhost:8080/"
        }
      },
      "source": [
        "#adjective = \"alive\"\n",
        "adjective = input(\"Adjective please:\")\n",
        "print(\"Plant makes you \"+ adjective)\n",
        "print(\"Plant makes you\", adjective)\n",
        "print(\"Plant makes you {}\".format(adjective))\n",
        "print(f\"Plant makes you {adjective}\") ## personal favourite!"
      ],
      "id": "u_iezYv7S4mn",
      "execution_count": 9,
      "outputs": [
        {
          "output_type": "stream",
          "name": "stdout",
          "text": [
            "Adjective please:happy\n",
            "Plant makes you happy\n",
            "Plant makes you happy\n",
            "Plant makes you happy\n",
            "Plant makes you happy\n"
          ]
        }
      ]
    },
    {
      "cell_type": "markdown",
      "metadata": {
        "id": "ufA-07yxTIuw"
      },
      "source": [
        "## Exercise"
      ],
      "id": "ufA-07yxTIuw"
    },
    {
      "cell_type": "markdown",
      "metadata": {
        "id": "stainless-queue"
      },
      "source": [
        "### Ex: Accept two numbers from the user and calculate multiplication"
      ],
      "id": "stainless-queue"
    },
    {
      "cell_type": "code",
      "metadata": {
        "id": "sealed-armstrong"
      },
      "source": [
        "num1=int(input(\"Enter first number : \"))\n",
        "num2=int(input(\"Enter second number : \"))\n",
        "print('muptiplication is:',num1*num2)"
      ],
      "id": "sealed-armstrong",
      "execution_count": null,
      "outputs": []
    },
    {
      "cell_type": "markdown",
      "metadata": {
        "id": "clear-punishment"
      },
      "source": [
        "### Ex: How to get the multiple input from user"
      ],
      "id": "clear-punishment"
    },
    {
      "cell_type": "code",
      "metadata": {
        "id": "organic-nitrogen",
        "outputId": "39c5cccd-489c-4f46-8b3c-8edae5081524"
      },
      "source": [
        "name, age, marks = input('provid eyour Name, Age and Marks seperated by space').split()\n",
        "print(\"User details:\", name, age, marks)"
      ],
      "id": "organic-nitrogen",
      "execution_count": null,
      "outputs": [
        {
          "name": "stdout",
          "output_type": "stream",
          "text": [
            "provid eyour Name, Age and Marks seperated by spacepoo 76 34\n",
            "User details: poo 76 34\n"
          ]
        }
      ]
    },
    {
      "cell_type": "markdown",
      "metadata": {
        "id": "acceptable-david"
      },
      "source": [
        "### Ex:  Accept a list of 5 float numbers as an input from the user\n"
      ],
      "id": "acceptable-david"
    },
    {
      "cell_type": "code",
      "metadata": {
        "id": "alien-fourth",
        "outputId": "3595bfe9-35ef-4977-815d-f5a1326bcdf8"
      },
      "source": [
        "input_string = input(\"Enter elements of a list seperated by spaces \").split()\n",
        "\n",
        "aList=[]\n",
        "for word in input_string:\n",
        "    aList.append(float(word))\n",
        "print('sum of your list is: ',sum(aList))"
      ],
      "id": "alien-fourth",
      "execution_count": null,
      "outputs": [
        {
          "name": "stdout",
          "output_type": "stream",
          "text": [
            "Enter elements of a list seperated by spaces 34.3 56.3 65.3 6.4\n",
            "sum of your list is:  162.29999999999998\n"
          ]
        }
      ]
    },
    {
      "cell_type": "markdown",
      "metadata": {
        "id": "annual-carolina"
      },
      "source": [
        "### Ex: Display exercise\n",
        "* “My Name Is James” as ```“My**Name**Is**James”``` using output formatting of a print() function"
      ],
      "id": "annual-carolina"
    },
    {
      "cell_type": "code",
      "metadata": {
        "id": "individual-prisoner"
      },
      "source": [
        "input=\"My Name Is James\"\n",
        "wordCol=input.split()\n",
        "print(wordCol[0], wordCol[1], wordCol[2], wordCol[3], sep='**')"
      ],
      "id": "individual-prisoner",
      "execution_count": null,
      "outputs": []
    },
    {
      "cell_type": "markdown",
      "metadata": {
        "id": "nearby-claim"
      },
      "source": [
        "### Ex: Convert decimal number to octal using print() output formatting\n"
      ],
      "id": "nearby-claim"
    },
    {
      "cell_type": "code",
      "metadata": {
        "id": "published-script"
      },
      "source": [
        "print('%o,'%(8))"
      ],
      "id": "published-script",
      "execution_count": null,
      "outputs": []
    },
    {
      "cell_type": "markdown",
      "metadata": {
        "id": "bearing-grounds"
      },
      "source": [
        "### Ex: Display float number with 2 decimal places using print()\n",
        "* Expected Output:\n",
        "* Display 458.541315 as 458.54\n",
        "\n"
      ],
      "id": "bearing-grounds"
    },
    {
      "cell_type": "code",
      "metadata": {
        "id": "hazardous-extension"
      },
      "source": [
        "print('%.2f' %458.541315)"
      ],
      "id": "hazardous-extension",
      "execution_count": null,
      "outputs": []
    },
    {
      "cell_type": "markdown",
      "metadata": {
        "id": "flexible-powell"
      },
      "source": [
        "# References\n",
        "A Python program accesses data values through references. A reference is a name that refers to the specific location in memory of a value (object). References take the form of variables, attributes, and items. \n",
        "<div>\n",
        "<img src=\"attachment:image.png\" width=\"300\" height=\"200\" style=\"float:left\"/>\n",
        "</div>"
      ],
      "id": "flexible-powell"
    },
    {
      "cell_type": "markdown",
      "metadata": {
        "id": "impressed-arcade"
      },
      "source": [
        "### Reference of copied variable"
      ],
      "id": "impressed-arcade"
    },
    {
      "cell_type": "code",
      "metadata": {
        "id": "earlier-greece"
      },
      "source": [
        "n=3\n",
        "m=n\n",
        "print('id n:',id(n), ' id(m): ', id(m))"
      ],
      "id": "earlier-greece",
      "execution_count": null,
      "outputs": []
    },
    {
      "cell_type": "markdown",
      "metadata": {
        "id": "ruled-apparatus"
      },
      "source": [
        "### Reference of three variable pointing to the same number"
      ],
      "id": "ruled-apparatus"
    },
    {
      "cell_type": "code",
      "metadata": {
        "id": "numeric-british"
      },
      "source": [
        "a=10\n",
        "b=10\n",
        "c=10\n",
        "print(id(a), id(b), id(c))"
      ],
      "id": "numeric-british",
      "execution_count": null,
      "outputs": []
    },
    {
      "cell_type": "markdown",
      "metadata": {
        "id": "common-growth"
      },
      "source": [
        "### Reference count of given momery"
      ],
      "id": "common-growth"
    },
    {
      "cell_type": "code",
      "metadata": {
        "id": "scenic-norfolk",
        "outputId": "a4cd0ff3-df28-45f4-d1cf-a2299d857151"
      },
      "source": [
        "import sys\n",
        "c = 20\n",
        "print('id(c): ',id(c), ' refcount(20): ',sys.getrefcount(20))\n",
        "\n",
        "d = 20\n",
        "print('id(d): ',id(d), ' refcount(20): ', sys.getrefcount(20))\n",
        "\n",
        "e = 20\n",
        "print('id(e): ',id(e), ' refcount(20): ', sys.getrefcount(20))"
      ],
      "id": "scenic-norfolk",
      "execution_count": null,
      "outputs": [
        {
          "name": "stdout",
          "output_type": "stream",
          "text": [
            "id(c):  9667552  refcount(20):  423\n",
            "id(d):  9667552  refcount(20):  423\n",
            "id(e):  9667552  refcount(20):  423\n"
          ]
        }
      ]
    },
    {
      "cell_type": "markdown",
      "metadata": {
        "id": "hungarian-fellowship"
      },
      "source": [
        "# Operators"
      ],
      "id": "hungarian-fellowship"
    },
    {
      "cell_type": "markdown",
      "metadata": {
        "id": "executed-disaster"
      },
      "source": [
        "## asterisk (`*`)  \n",
        "* asterisk (`*`) operator unpack iterable objects and two asterisks (`**`) unpack dictionaries.\n",
        "* The `*` operator is an unpacking operator that will unpack the values from any iterable object, such as lists, tuples, strings, etc…"
      ],
      "id": "executed-disaster"
    },
    {
      "cell_type": "markdown",
      "metadata": {
        "id": "advisory-might"
      },
      "source": [
        "### Unpacking list"
      ],
      "id": "advisory-might"
    },
    {
      "cell_type": "code",
      "metadata": {
        "id": "coated-journal"
      },
      "source": [
        "## A function take 5 paramters and return the sum\n",
        "def addNumbers(n1, n2, n3, n4, n5):\n",
        "    return n1+n2+n3+n4+n5\n",
        "\n",
        "## If we got a list\n",
        "aList=[1, 3, 4, 5, 6]"
      ],
      "id": "coated-journal",
      "execution_count": null,
      "outputs": []
    },
    {
      "cell_type": "code",
      "metadata": {
        "id": "forward-romania",
        "outputId": "e5ea3425-2e1a-4299-94be-ac7e58593970"
      },
      "source": [
        "## Approach I\n",
        "addNumbers(aList[0], aList[1], aList[2], aList[3], aList[4])"
      ],
      "id": "forward-romania",
      "execution_count": null,
      "outputs": [
        {
          "data": {
            "text/plain": [
              "19"
            ]
          },
          "execution_count": 2,
          "metadata": {},
          "output_type": "execute_result"
        }
      ]
    },
    {
      "cell_type": "code",
      "metadata": {
        "id": "nonprofit-diameter",
        "outputId": "3c683015-40e5-4490-f74f-bbca5114f5cc"
      },
      "source": [
        "## Approach II\n",
        "addNumbers(*aList)"
      ],
      "id": "nonprofit-diameter",
      "execution_count": null,
      "outputs": [
        {
          "data": {
            "text/plain": [
              "19"
            ]
          },
          "execution_count": 4,
          "metadata": {},
          "output_type": "execute_result"
        }
      ]
    },
    {
      "cell_type": "markdown",
      "metadata": {
        "id": "defensive-amsterdam"
      },
      "source": [
        "### Merging multiple list\n",
        "Both List_1 and list_2 are unpacked. Then, all the elements are passed in to print as separate arguments.\n"
      ],
      "id": "defensive-amsterdam"
    },
    {
      "cell_type": "code",
      "metadata": {
        "id": "fossil-complex",
        "outputId": "736adc2b-48b4-495b-ddba-ca3ef632caa1"
      },
      "source": [
        "list_1 = [1, 2, 3]\n",
        "list_2 = [4, 5, 6]\n",
        "print(*list_1, *list_2)"
      ],
      "id": "fossil-complex",
      "execution_count": null,
      "outputs": [
        {
          "name": "stdout",
          "output_type": "stream",
          "text": [
            "1 2 3 4 5 6\n"
          ]
        }
      ]
    },
    {
      "cell_type": "code",
      "metadata": {
        "id": "peaceful-setting",
        "outputId": "e485c5b4-da97-464b-f9fd-a31ef22f8b5a"
      },
      "source": [
        "[*list_1, *list_2] "
      ],
      "id": "peaceful-setting",
      "execution_count": null,
      "outputs": [
        {
          "data": {
            "text/plain": [
              "[1, 2, 3, 4, 5, 6]"
            ]
          },
          "execution_count": 6,
          "metadata": {},
          "output_type": "execute_result"
        }
      ]
    },
    {
      "cell_type": "code",
      "metadata": {
        "id": "still-sleep",
        "outputId": "23525444-3047-4e6f-c2f3-4a4f678410fe"
      },
      "source": [
        "[list1, list2]"
      ],
      "id": "still-sleep",
      "execution_count": null,
      "outputs": [
        {
          "data": {
            "text/plain": [
              "[[1, 2, 3], [4, 5]]"
            ]
          },
          "execution_count": 17,
          "metadata": {},
          "output_type": "execute_result"
        }
      ]
    },
    {
      "cell_type": "markdown",
      "metadata": {
        "id": "located-prize"
      },
      "source": [
        "### Using `*` on string"
      ],
      "id": "located-prize"
    },
    {
      "cell_type": "code",
      "metadata": {
        "id": "white-junior",
        "outputId": "21f532ed-40a8-454d-d236-83f10be5fa5c"
      },
      "source": [
        "a = [*\"realpython\"]\n",
        "a"
      ],
      "id": "white-junior",
      "execution_count": null,
      "outputs": [
        {
          "data": {
            "text/plain": [
              "['r', 'e', 'a', 'l', 'p', 'y', 't', 'h', 'o', 'n']"
            ]
          },
          "execution_count": 21,
          "metadata": {},
          "output_type": "execute_result"
        }
      ]
    },
    {
      "cell_type": "markdown",
      "metadata": {
        "id": "uniform-spray"
      },
      "source": [
        "### Other use of `*` operator"
      ],
      "id": "uniform-spray"
    },
    {
      "cell_type": "code",
      "metadata": {
        "id": "nasty-lounge",
        "outputId": "18e0a3a7-d6df-444b-e1e0-9008caea1dea"
      },
      "source": [
        "## Let’s say that we have a string assigned to the variable name:\n",
        "name='Micheal'\n",
        "\n",
        "## and we want to assign first letter to firstName, last letter to lastName and everything else in middle to middle\n",
        "firstName, *middle, lastName= name\n",
        "print('firstName:',firstName,' middleName: ', middle, \" lastName: \",lastName)"
      ],
      "id": "nasty-lounge",
      "execution_count": null,
      "outputs": [
        {
          "name": "stdout",
          "output_type": "stream",
          "text": [
            "firstName: M  middleName:  ['i', 'c', 'h', 'e', 'a']  lastName:  l\n"
          ]
        }
      ]
    },
    {
      "cell_type": "markdown",
      "metadata": {
        "id": "marked-surprise"
      },
      "source": [
        "### Packing with * Operator\n",
        "* We can also use the `*` operator to pack multiple values into a single variable.\n",
        "* Note: This is what we do when we define functions that can receive a varying number of arguments! That is the concept of `*args` and `**kwargs`."
      ],
      "id": "marked-surprise"
    },
    {
      "cell_type": "code",
      "metadata": {
        "id": "continuing-badge",
        "outputId": "45303b5d-36e7-4afc-f051-8165e5d96620"
      },
      "source": [
        "*names, = 'Micheal', 'John', 'Smith' \n",
        "## The reason for using a trailing comma after *names is because the left side of the assignment must be a tuple\n",
        "## or list. Therefore, the names variable now contains all the names on the right side in the form of a list.\n",
        "\n",
        "names"
      ],
      "id": "continuing-badge",
      "execution_count": null,
      "outputs": [
        {
          "data": {
            "text/plain": [
              "['Micheal', 'John', 'Smith']"
            ]
          },
          "execution_count": 12,
          "metadata": {},
          "output_type": "execute_result"
        }
      ]
    },
    {
      "cell_type": "code",
      "metadata": {
        "id": "under-holly",
        "outputId": "cf26f57f-1472-4630-db51-b9b52e950f87"
      },
      "source": [
        "*packList, = [1,2,3],[4,5,6], [7,8,9]\n",
        "packList"
      ],
      "id": "under-holly",
      "execution_count": null,
      "outputs": [
        {
          "data": {
            "text/plain": [
              "[[1, 2, 3], [4, 5, 6], [7, 8, 9]]"
            ]
          },
          "execution_count": 13,
          "metadata": {},
          "output_type": "execute_result"
        }
      ]
    },
    {
      "cell_type": "markdown",
      "metadata": {
        "id": "relative-customer"
      },
      "source": [
        "## *args\n",
        "\n",
        "For example, let’s say we have a function, `names_tuple`, that takes in names as arguments and returns them back. However, the number of names that we pass in to this function can vary. Well, we can’t just choose a number of parameters that this function would have since the number of positional arguments can change with each calling of the function. We can instead use the `*` operator to pack the arguments passed in into a tuple as follows:\n"
      ],
      "id": "relative-customer"
    },
    {
      "cell_type": "markdown",
      "metadata": {
        "id": "published-qatar"
      },
      "source": [
        "### passing miltiple arguments"
      ],
      "id": "published-qatar"
    },
    {
      "cell_type": "code",
      "metadata": {
        "id": "lovely-stadium"
      },
      "source": [
        "## No matter what number of positional arguments we pass in when we call the names_tuple function, \n",
        "## the *args argument will pack the positional arguments into a tuple, similar to the *names assignment above.\n",
        "\n",
        "def name_tuple(*args):\n",
        "    return args"
      ],
      "id": "lovely-stadium",
      "execution_count": null,
      "outputs": []
    },
    {
      "cell_type": "code",
      "metadata": {
        "id": "clear-portable",
        "outputId": "ce1f0bf9-7607-43c8-9536-af28b2ebe8a4"
      },
      "source": [
        "name_tuple('Micheal','Jennifer','Michell','Karharina')"
      ],
      "id": "clear-portable",
      "execution_count": null,
      "outputs": [
        {
          "data": {
            "text/plain": [
              "('Micheal', 'Jennifer', 'Michell', 'Karharina')"
            ]
          },
          "execution_count": 19,
          "metadata": {},
          "output_type": "execute_result"
        }
      ]
    },
    {
      "cell_type": "code",
      "metadata": {
        "id": "becoming-forum",
        "outputId": "bb3f88df-5183-483e-ffae-20daed78ff2c"
      },
      "source": [
        "name_tuple('nrjra','saxena')"
      ],
      "id": "becoming-forum",
      "execution_count": null,
      "outputs": [
        {
          "data": {
            "text/plain": [
              "('nrjra', 'saxena')"
            ]
          },
          "execution_count": 20,
          "metadata": {},
          "output_type": "execute_result"
        }
      ]
    },
    {
      "cell_type": "markdown",
      "metadata": {
        "id": "mechanical-management"
      },
      "source": [
        "## ** kwargs\n",
        "To pass in a varying number of keyword or named arguments, we use the `**` operator when defining a function. The `**` unpacking operator will pack the varying number of named arguments we pass in into a dictionary."
      ],
      "id": "mechanical-management"
    },
    {
      "cell_type": "markdown",
      "metadata": {
        "id": "attempted-disease"
      },
      "source": [
        "### packing name arguments"
      ],
      "id": "attempted-disease"
    },
    {
      "cell_type": "code",
      "metadata": {
        "id": "electoral-happiness",
        "outputId": "8d48aed7-33f6-4383-e5ac-b04006e6886b"
      },
      "source": [
        "def names_dict(**kwargs):\n",
        "    return kwargs\n",
        "\n",
        "names_dict(Jane = 'Doe')"
      ],
      "id": "electoral-happiness",
      "execution_count": null,
      "outputs": [
        {
          "data": {
            "text/plain": [
              "{'Jane': 'Doe'}"
            ]
          },
          "execution_count": 22,
          "metadata": {},
          "output_type": "execute_result"
        }
      ]
    },
    {
      "cell_type": "code",
      "metadata": {
        "id": "potential-justice",
        "outputId": "cdca2493-99c2-4790-fdcc-24defa96b6de"
      },
      "source": [
        "names_dict(Jane = 'Doe', John = 'Smith')"
      ],
      "id": "potential-justice",
      "execution_count": null,
      "outputs": [
        {
          "data": {
            "text/plain": [
              "{'Jane': 'Doe', 'John': 'Smith'}"
            ]
          },
          "execution_count": 23,
          "metadata": {},
          "output_type": "execute_result"
        }
      ]
    },
    {
      "cell_type": "markdown",
      "metadata": {
        "id": "individual-adolescent"
      },
      "source": [
        "### Merging dictionary"
      ],
      "id": "individual-adolescent"
    },
    {
      "cell_type": "code",
      "metadata": {
        "id": "irish-plaintiff",
        "outputId": "a424e214-69a2-43c8-f53f-1288f6dd3470"
      },
      "source": [
        "dict_1 = {'A':1, \"B\":2}\n",
        "dict_2 = {\"C\":3, \"D\":4}\n",
        "{**dict_1, **dict_2}"
      ],
      "id": "irish-plaintiff",
      "execution_count": null,
      "outputs": [
        {
          "data": {
            "text/plain": [
              "{'A': 1, 'B': 2, 'C': 3, 'D': 4}"
            ]
          },
          "execution_count": 18,
          "metadata": {},
          "output_type": "execute_result"
        }
      ]
    },
    {
      "cell_type": "code",
      "metadata": {
        "id": "civil-plenty",
        "outputId": "5e3ff0ca-95df-4658-b9f6-dd1df45c74eb"
      },
      "source": [
        "{*dict_1, *dict_2}"
      ],
      "id": "civil-plenty",
      "execution_count": null,
      "outputs": [
        {
          "data": {
            "text/plain": [
              "{'A', 'B', 'C', 'D'}"
            ]
          },
          "execution_count": 20,
          "metadata": {},
          "output_type": "execute_result"
        }
      ]
    },
    {
      "cell_type": "markdown",
      "metadata": {
        "id": "acknowledged-launch"
      },
      "source": [
        "## [Special parameters](https://docs.python.org/3/tutorial/controlflow.html#special-parameters)\n",
        "\n",
        "By default, arguments may be passed to a Python function either by position or explicitly by keyword. For readability and performance, it makes sense to restrict the way arguments can be passed so that a developer need only look at the function definition to determine if items are passed by position, by position or keyword, or by keyword.\n",
        "\n",
        "syntex:\n",
        "<div>\n",
        "<img src=\"attachment:image.png\" width=\"500\" height=\"200\" style=\"float:left\"/>\n",
        "</div>"
      ],
      "id": "acknowledged-launch"
    },
    {
      "cell_type": "markdown",
      "metadata": {
        "id": "vital-miracle"
      },
      "source": [
        "### Standard arguments\n",
        "If `/` and `*` are not present in the function definition, arguments may be passed to a function by position or by keyword."
      ],
      "id": "vital-miracle"
    },
    {
      "cell_type": "code",
      "metadata": {
        "id": "continuous-denmark",
        "outputId": "a6401e10-ea5c-49bb-a5f4-c9a12b2670fd"
      },
      "source": [
        "def standard_args(args):\n",
        "    print(args)\n",
        "standard_args(\"there is raining today\")"
      ],
      "id": "continuous-denmark",
      "execution_count": null,
      "outputs": [
        {
          "name": "stdout",
          "output_type": "stream",
          "text": [
            "there is raining today\n"
          ]
        }
      ]
    },
    {
      "cell_type": "code",
      "metadata": {
        "id": "alert-appendix",
        "outputId": "dc23bad7-fb75-4758-99dd-b320c6e24dc8"
      },
      "source": [
        "standard_args(args='there is raining today')"
      ],
      "id": "alert-appendix",
      "execution_count": null,
      "outputs": [
        {
          "name": "stdout",
          "output_type": "stream",
          "text": [
            "there is raining today\n"
          ]
        }
      ]
    },
    {
      "cell_type": "markdown",
      "metadata": {
        "id": "suffering-enclosure"
      },
      "source": [
        "### Position only arguments\n",
        "* it is possible to mark certain parameters as positional-only. \n",
        "* If positional-only, the parameters’ order matters, and the parameters cannot be passed by keyword. \n",
        "* Positional-only parameters are placed before a `/` (forward-slash). The `/` is used to logically separate the positional-only parameters from the rest of the parameters. \n",
        "* If there is no `/` in the function definition, there are no positional-only parameters."
      ],
      "id": "suffering-enclosure"
    },
    {
      "cell_type": "code",
      "metadata": {
        "id": "regional-reasoning",
        "outputId": "3efa18a3-8b2d-4f81-f516-b93721f644c4"
      },
      "source": [
        "def pos_only_arg(arg, /):\n",
        "    print(arg)\n",
        "pos_only_arg(\"We have\")"
      ],
      "id": "regional-reasoning",
      "execution_count": null,
      "outputs": [
        {
          "name": "stdout",
          "output_type": "stream",
          "text": [
            "We have\n"
          ]
        }
      ]
    },
    {
      "cell_type": "code",
      "metadata": {
        "id": "pointed-boost",
        "outputId": "a8f1132c-c0d4-4ffc-fa34-4f30eb7cae36"
      },
      "source": [
        "pos_only_arg(arg=\"we have\")"
      ],
      "id": "pointed-boost",
      "execution_count": null,
      "outputs": [
        {
          "ename": "TypeError",
          "evalue": "pos_only_arg() got some positional-only arguments passed as keyword arguments: 'arg'",
          "output_type": "error",
          "traceback": [
            "\u001b[0;31m---------------------------------------------------------------------------\u001b[0m",
            "\u001b[0;31mTypeError\u001b[0m                                 Traceback (most recent call last)",
            "\u001b[0;32m<ipython-input-28-6384c90d1b7d>\u001b[0m in \u001b[0;36m<module>\u001b[0;34m\u001b[0m\n\u001b[0;32m----> 1\u001b[0;31m \u001b[0mpos_only_arg\u001b[0m\u001b[0;34m(\u001b[0m\u001b[0marg\u001b[0m\u001b[0;34m=\u001b[0m\u001b[0;34m\"we have\"\u001b[0m\u001b[0;34m)\u001b[0m\u001b[0;34m\u001b[0m\u001b[0;34m\u001b[0m\u001b[0m\n\u001b[0m",
            "\u001b[0;31mTypeError\u001b[0m: pos_only_arg() got some positional-only arguments passed as keyword arguments: 'arg'"
          ]
        }
      ]
    },
    {
      "cell_type": "code",
      "metadata": {
        "id": "coordinate-format"
      },
      "source": [
        "## Finally, consider this function definition which has a potential collision between \n",
        "## the positional argument name and **kwds which has name as a key:\n",
        "\n",
        "## There is no possible call that will make it return True as the keyword 'name' will \n",
        "## always bind to the first parameter. For example:\n",
        "\n",
        "def foo(name, **kwds):\n",
        "    return name in kwds"
      ],
      "id": "coordinate-format",
      "execution_count": null,
      "outputs": []
    },
    {
      "cell_type": "code",
      "metadata": {
        "id": "iraqi-performance",
        "outputId": "7f3257ea-9ee5-4afb-a260-63faa158da16"
      },
      "source": [
        "foo(1, **{'name':2})"
      ],
      "id": "iraqi-performance",
      "execution_count": null,
      "outputs": [
        {
          "ename": "TypeError",
          "evalue": "foo() got multiple values for argument 'name'",
          "output_type": "error",
          "traceback": [
            "\u001b[0;31m---------------------------------------------------------------------------\u001b[0m",
            "\u001b[0;31mTypeError\u001b[0m                                 Traceback (most recent call last)",
            "\u001b[0;32m<ipython-input-47-4973700be595>\u001b[0m in \u001b[0;36m<module>\u001b[0;34m\u001b[0m\n\u001b[0;32m----> 1\u001b[0;31m \u001b[0mfoo\u001b[0m\u001b[0;34m(\u001b[0m\u001b[0;36m1\u001b[0m\u001b[0;34m,\u001b[0m \u001b[0;34m**\u001b[0m\u001b[0;34m{\u001b[0m\u001b[0;34m'name'\u001b[0m\u001b[0;34m:\u001b[0m\u001b[0;36m2\u001b[0m\u001b[0;34m}\u001b[0m\u001b[0;34m)\u001b[0m\u001b[0;34m\u001b[0m\u001b[0;34m\u001b[0m\u001b[0m\n\u001b[0m",
            "\u001b[0;31mTypeError\u001b[0m: foo() got multiple values for argument 'name'"
          ]
        }
      ]
    },
    {
      "cell_type": "code",
      "metadata": {
        "id": "promising-scanner"
      },
      "source": [
        "## But using / (positional only arguments), it is possible since it allows name a\n",
        "## positional argument and 'name' as a key in the keyword arguments:\n",
        "def foo(name, /, **kwds):\n",
        "    return 'name' in kwds"
      ],
      "id": "promising-scanner",
      "execution_count": null,
      "outputs": []
    },
    {
      "cell_type": "code",
      "metadata": {
        "id": "specialized-westminster",
        "outputId": "387fcb98-e6fd-4690-c165-cf1d387f62f1"
      },
      "source": [
        "## In other words, the names of positional-only parameters can be used in **kwds without ambiguity.\n",
        "foo(1, **{'name':'trial'})"
      ],
      "id": "specialized-westminster",
      "execution_count": null,
      "outputs": [
        {
          "data": {
            "text/plain": [
              "True"
            ]
          },
          "execution_count": 51,
          "metadata": {},
          "output_type": "execute_result"
        }
      ]
    },
    {
      "cell_type": "markdown",
      "metadata": {
        "id": "incoming-senegal"
      },
      "source": [
        "### keyworld only arguments\n",
        "To mark parameters as keyword-only, indicating the parameters must be passed by keyword argument, place an `*` in the arguments list just before the first keyword-only parameter."
      ],
      "id": "incoming-senegal"
    },
    {
      "cell_type": "code",
      "metadata": {
        "id": "damaged-intranet",
        "outputId": "4681af59-9abe-4d06-d451-913d582c0e80"
      },
      "source": [
        "def kwd_only_arg(*,arg):\n",
        "    print(arg)\n",
        "kwd_only_arg(arg=3)"
      ],
      "id": "damaged-intranet",
      "execution_count": null,
      "outputs": [
        {
          "name": "stdout",
          "output_type": "stream",
          "text": [
            "3\n"
          ]
        }
      ]
    },
    {
      "cell_type": "code",
      "metadata": {
        "id": "dated-relief",
        "outputId": "e632631a-5625-41a4-e2be-d9f601653648"
      },
      "source": [
        "kwd_only_arg(5)"
      ],
      "id": "dated-relief",
      "execution_count": null,
      "outputs": [
        {
          "ename": "TypeError",
          "evalue": "kwd_only_arg() takes 0 positional arguments but 1 was given",
          "output_type": "error",
          "traceback": [
            "\u001b[0;31m---------------------------------------------------------------------------\u001b[0m",
            "\u001b[0;31mTypeError\u001b[0m                                 Traceback (most recent call last)",
            "\u001b[0;32m<ipython-input-30-9730b662942f>\u001b[0m in \u001b[0;36m<module>\u001b[0;34m\u001b[0m\n\u001b[0;32m----> 1\u001b[0;31m \u001b[0mkwd_only_arg\u001b[0m\u001b[0;34m(\u001b[0m\u001b[0;36m5\u001b[0m\u001b[0;34m)\u001b[0m\u001b[0;34m\u001b[0m\u001b[0;34m\u001b[0m\u001b[0m\n\u001b[0m",
            "\u001b[0;31mTypeError\u001b[0m: kwd_only_arg() takes 0 positional arguments but 1 was given"
          ]
        }
      ]
    },
    {
      "cell_type": "markdown",
      "metadata": {
        "id": "civilian-suspension"
      },
      "source": [
        "### Combination of all three"
      ],
      "id": "civilian-suspension"
    },
    {
      "cell_type": "code",
      "metadata": {
        "id": "sophisticated-rhythm"
      },
      "source": [
        "### combination of all three\n",
        "def combined_example(pos_only, /, standard, *, kwd_only):\n",
        "    print(pos_only, standard, kwd_only)"
      ],
      "id": "sophisticated-rhythm",
      "execution_count": null,
      "outputs": []
    },
    {
      "cell_type": "code",
      "metadata": {
        "id": "local-pittsburgh",
        "outputId": "a1ec00c3-909b-4aae-d05c-c1713e8fc331"
      },
      "source": [
        "combined_example(1, standard=2, kwd_only=3)"
      ],
      "id": "local-pittsburgh",
      "execution_count": null,
      "outputs": [
        {
          "name": "stdout",
          "output_type": "stream",
          "text": [
            "1 2 3\n"
          ]
        }
      ]
    },
    {
      "cell_type": "code",
      "metadata": {
        "id": "severe-result",
        "outputId": "3cf96752-952d-4718-e1c3-b5b7de8bce3b"
      },
      "source": [
        "combined_example(1,2, kwd_only=3)"
      ],
      "id": "severe-result",
      "execution_count": null,
      "outputs": [
        {
          "name": "stdout",
          "output_type": "stream",
          "text": [
            "1 2 3\n"
          ]
        }
      ]
    },
    {
      "cell_type": "code",
      "metadata": {
        "id": "demographic-packing",
        "outputId": "a8395497-96c2-413f-9dd6-8ef57795323f"
      },
      "source": [
        "combined_example(pos_only_arg=1, 2, kwd_only=3)"
      ],
      "id": "demographic-packing",
      "execution_count": null,
      "outputs": [
        {
          "ename": "SyntaxError",
          "evalue": "positional argument follows keyword argument (<ipython-input-41-16083f68b136>, line 1)",
          "output_type": "error",
          "traceback": [
            "\u001b[0;36m  File \u001b[0;32m\"<ipython-input-41-16083f68b136>\"\u001b[0;36m, line \u001b[0;32m1\u001b[0m\n\u001b[0;31m    combined_example(pos_only_arg=1, 2, kwd_only=3)\u001b[0m\n\u001b[0m                                     ^\u001b[0m\n\u001b[0;31mSyntaxError\u001b[0m\u001b[0;31m:\u001b[0m positional argument follows keyword argument\n"
          ]
        }
      ]
    },
    {
      "cell_type": "markdown",
      "metadata": {
        "id": "gothic-vintage"
      },
      "source": [
        "## Exercises"
      ],
      "id": "gothic-vintage"
    },
    {
      "cell_type": "markdown",
      "metadata": {
        "id": "stretch-infrastructure"
      },
      "source": [
        "### Write cheeseshop response using args/kwds"
      ],
      "id": "stretch-infrastructure"
    },
    {
      "cell_type": "code",
      "metadata": {
        "id": "specific-sussex"
      },
      "source": [
        "def cheeseshop(kind, *arguments, **keywords):\n",
        "    print(\"-- Do you have any\",kind,'?')\n",
        "    print('-- we are sorry, we are all out of ', kind)\n",
        "    for args in arguments:\n",
        "        print(args)\n",
        "    print(\"-\"*40)\n",
        "    for kw in keywords:\n",
        "        print(kw, \":\", keywords[kw])"
      ],
      "id": "specific-sussex",
      "execution_count": null,
      "outputs": []
    },
    {
      "cell_type": "code",
      "metadata": {
        "id": "guided-therapy",
        "outputId": "20471dd2-46f9-4251-ee30-ffaa1b7737df"
      },
      "source": [
        "cheeseshop(\"Limburger\", \"Its very rainy, Sir\", 'Did you consider going to McD', \n",
        "           shopkeeper=\"Micheal Polin\",\n",
        "           client='John Cheese',\n",
        "           sketch='Cheese shop sketch')"
      ],
      "id": "guided-therapy",
      "execution_count": null,
      "outputs": [
        {
          "name": "stdout",
          "output_type": "stream",
          "text": [
            "-- Do you have any Limburger ?\n",
            "-- we are sorry, we are all out of  Limburger\n",
            "Its very rainy, Sir\n",
            "Did you consider going to McD\n",
            "----------------------------------------\n",
            "shopkeeper : Micheal Polin\n",
            "client : John Cheese\n",
            "sketch : Cheese shop sketch\n"
          ]
        }
      ]
    },
    {
      "cell_type": "markdown",
      "metadata": {
        "id": "awful-glass"
      },
      "source": [
        "### Write script to ask information from user"
      ],
      "id": "awful-glass"
    },
    {
      "cell_type": "code",
      "metadata": {
        "id": "chemical-usage",
        "outputId": "25496f2d-75ea-4399-a1cb-477e6ad516ac"
      },
      "source": [
        "from sys import argv\n",
        "\n",
        "script, user_name = argv\n",
        "prompt ='>>>'\n",
        "\n",
        "print(f\"Hi {user_name}, I'm the {script} script.\")\n",
        "print(\"I'd would like to ask you few questions.\")\n",
        "print(f\"Do you like me {user_name}\")\n",
        "likes=input(prompt)\n",
        "\n",
        "print(f\"so your name is {user_name}\")\n",
        "\n",
        "print(f\"Where do you live {user_name}\")\n",
        "lives = input(prompt)\n",
        "\n",
        "print(\"What kind of computer do you have?\")\n",
        "computer= input(prompt)\n",
        "\n",
        "\n",
        "print(f\"\"\"\n",
        "Alright, so you said {likes} about liking me.\n",
        "You live in {lives}, not sure where that is.\n",
        "And you have a {computer} computer, nice. \n",
        "\"\"\")"
      ],
      "id": "chemical-usage",
      "execution_count": null,
      "outputs": [
        {
          "ename": "ValueError",
          "evalue": "too many values to unpack (expected 2)",
          "output_type": "error",
          "traceback": [
            "\u001b[0;31m---------------------------------------------------------------------------\u001b[0m",
            "\u001b[0;31mValueError\u001b[0m                                Traceback (most recent call last)",
            "\u001b[0;32m<ipython-input-36-9b9c5dee2419>\u001b[0m in \u001b[0;36m<module>\u001b[0;34m\u001b[0m\n\u001b[1;32m      1\u001b[0m \u001b[0;32mfrom\u001b[0m \u001b[0msys\u001b[0m \u001b[0;32mimport\u001b[0m \u001b[0margv\u001b[0m\u001b[0;34m\u001b[0m\u001b[0;34m\u001b[0m\u001b[0m\n\u001b[1;32m      2\u001b[0m \u001b[0;34m\u001b[0m\u001b[0m\n\u001b[0;32m----> 3\u001b[0;31m \u001b[0mscript\u001b[0m\u001b[0;34m,\u001b[0m \u001b[0muser_name\u001b[0m \u001b[0;34m=\u001b[0m \u001b[0margv\u001b[0m\u001b[0;34m\u001b[0m\u001b[0;34m\u001b[0m\u001b[0m\n\u001b[0m\u001b[1;32m      4\u001b[0m \u001b[0mprompt\u001b[0m \u001b[0;34m=\u001b[0m\u001b[0;34m'>>>'\u001b[0m\u001b[0;34m\u001b[0m\u001b[0;34m\u001b[0m\u001b[0m\n\u001b[1;32m      5\u001b[0m \u001b[0;34m\u001b[0m\u001b[0m\n",
            "\u001b[0;31mValueError\u001b[0m: too many values to unpack (expected 2)"
          ]
        }
      ]
    },
    {
      "cell_type": "markdown",
      "metadata": {
        "id": "accredited-concept"
      },
      "source": [
        "### concenenate words together"
      ],
      "id": "accredited-concept"
    },
    {
      "cell_type": "code",
      "metadata": {
        "id": "manufactured-ukraine"
      },
      "source": [
        "def concentenate(**kwds):\n",
        "    result = \"\"\n",
        "    # iterating over the kwargs values()\n",
        "    for args in kwds.values():\n",
        "        result +=args\n",
        "    return result "
      ],
      "id": "manufactured-ukraine",
      "execution_count": null,
      "outputs": []
    },
    {
      "cell_type": "code",
      "metadata": {
        "id": "junior-protein",
        "outputId": "608b6c69-758e-4909-a9c2-75af50098109"
      },
      "source": [
        "concentenate(a=\"Python\",b=\"is\",c=\"so\",d=\"fun!\")"
      ],
      "id": "junior-protein",
      "execution_count": null,
      "outputs": [
        {
          "data": {
            "text/plain": [
              "'Pythonissofun!'"
            ]
          },
          "execution_count": 10,
          "metadata": {},
          "output_type": "execute_result"
        }
      ]
    },
    {
      "cell_type": "markdown",
      "metadata": {
        "id": "related-notion"
      },
      "source": [
        "### Write function to add any number of lists"
      ],
      "id": "related-notion"
    },
    {
      "cell_type": "code",
      "metadata": {
        "id": "dutch-walker",
        "outputId": "228dc84e-ca5a-4e7c-ff82-59654a24e3d8"
      },
      "source": [
        "def my_sum(*args):\n",
        "    result = 0\n",
        "    for x in args:\n",
        "        result += x\n",
        "    return result\n",
        "\n",
        "list1 = [1, 2, 3]\n",
        "list2 = [4, 5]\n",
        "list3 = [6, 7, 8, 9]\n",
        "\n",
        "print(my_sum(*list1, *list2, *list3))\n"
      ],
      "id": "dutch-walker",
      "execution_count": null,
      "outputs": [
        {
          "name": "stdout",
          "output_type": "stream",
          "text": [
            "45\n"
          ]
        }
      ]
    },
    {
      "cell_type": "code",
      "metadata": {
        "id": "sitting-milwaukee",
        "outputId": "9d4d764d-a5d6-4fe8-8280-76b1f1f44ee8"
      },
      "source": [
        "my_sum(3,4,5,5)"
      ],
      "id": "sitting-milwaukee",
      "execution_count": null,
      "outputs": [
        {
          "data": {
            "text/plain": [
              "17"
            ]
          },
          "execution_count": 14,
          "metadata": {},
          "output_type": "execute_result"
        }
      ]
    },
    {
      "cell_type": "markdown",
      "metadata": {
        "id": "variable-assignment"
      },
      "source": [
        "## Break & continue\n",
        "<div>\n",
        "<img src=\"attachment:image.png\" width=\"300\" height=\"200\" style=\"float:left\"/>\n",
        "<img src=\"attachment:image-2.png\" width=\"300\" height=\"200\" style=\"float:middle\"/>\n",
        "</div>"
      ],
      "id": "variable-assignment"
    },
    {
      "cell_type": "markdown",
      "metadata": {
        "id": "clear-naples"
      },
      "source": [
        "### Tutorial"
      ],
      "id": "clear-naples"
    },
    {
      "cell_type": "markdown",
      "metadata": {
        "id": "encouraging-flight"
      },
      "source": [
        "#### Break Statement"
      ],
      "id": "encouraging-flight"
    },
    {
      "cell_type": "code",
      "metadata": {
        "id": "outside-bernard",
        "outputId": "0bec13ba-cda8-4e83-9c82-d89dccf09cc9"
      },
      "source": [
        "numbers = [2, 3, 11, 7]\n",
        "for i in numbers:\n",
        "    print('Current Number is', i)\n",
        "    # skip below statement if number is greater than 10\n",
        "    if i > 10:\n",
        "        break\n",
        "    square = i * i\n",
        "    print('Square of a current number is', square)\n",
        "print('====> last printed square is:', square)"
      ],
      "id": "outside-bernard",
      "execution_count": null,
      "outputs": [
        {
          "name": "stdout",
          "output_type": "stream",
          "text": [
            "Current Number is 2\n",
            "Square of a current number is 4\n",
            "Current Number is 3\n",
            "Square of a current number is 9\n",
            "Current Number is 11\n",
            "====> last printed square is: 9\n"
          ]
        }
      ]
    },
    {
      "cell_type": "markdown",
      "metadata": {
        "id": "trying-nature"
      },
      "source": [
        "#### continue statement"
      ],
      "id": "trying-nature"
    },
    {
      "cell_type": "code",
      "metadata": {
        "id": "sensitive-dividend",
        "outputId": "c1cdc801-4e44-4717-c0df-3ef30b9aaf6a"
      },
      "source": [
        "numbers = [2, 3, 11, 7]\n",
        "for i in numbers:\n",
        "    print('Current Number is', i)\n",
        "    # skip below statement if number is greater than 10\n",
        "    if i > 10:\n",
        "        continue\n",
        "    square = i * i\n",
        "    print('Square of a current number is', square)\n",
        "print('====> Last printed Square is ',square)"
      ],
      "id": "sensitive-dividend",
      "execution_count": null,
      "outputs": [
        {
          "name": "stdout",
          "output_type": "stream",
          "text": [
            "Current Number is 2\n",
            "Square of a current number is 4\n",
            "Current Number is 3\n",
            "Square of a current number is 9\n",
            "Current Number is 11\n",
            "Current Number is 7\n",
            "Square of a current number is 49\n",
            "====> Last printed Square is  49\n"
          ]
        }
      ]
    },
    {
      "cell_type": "markdown",
      "metadata": {
        "id": "removed-figure"
      },
      "source": [
        "### Exercises"
      ],
      "id": "removed-figure"
    },
    {
      "cell_type": "markdown",
      "metadata": {
        "id": "ready-agriculture"
      },
      "source": [
        "#### find Odd number and stop when you meet number=237"
      ],
      "id": "ready-agriculture"
    },
    {
      "cell_type": "code",
      "metadata": {
        "id": "adequate-trance"
      },
      "source": [
        "numbers = [951, 402, 984, 651, 360, 69, 408, 319, 601, 485, 980, 507, 725, 547, 544,\n",
        "    615, 83, 165, 141, 501, 263, 617, 865, 575, 219, 390, 984, 592, 236, 105, 942, 941,\n",
        "    386, 462, 47, 418, 907, 344, 236, 375, 823, 566, 597, 978, 328, 615, 953, 345,\n",
        "    399, 162, 758, 219, 918, 237, 412, 566, 826, 248, 866, 950, 626, 949, 687, 217,\n",
        "    815, 67, 104, 58, 512, 24, 892, 894, 767, 553, 81, 379, 843, 831, 445, 742, 717,\n",
        "    958, 609, 842, 451, 688, 753, 854, 685, 93, 857, 440, 380, 126, 721, 328, 753, 470,\n",
        "    743, 527]"
      ],
      "id": "adequate-trance",
      "execution_count": null,
      "outputs": []
    },
    {
      "cell_type": "code",
      "metadata": {
        "id": "embedded-shareware",
        "outputId": "cafa68f1-c4c7-4d45-8a24-7229d03642f8"
      },
      "source": [
        "filteredList=[]\n",
        "for number in numbers:\n",
        "    if number==237:\n",
        "        break\n",
        "    elif number %2 !=0:\n",
        "        continue\n",
        "    filteredList.append(number)\n",
        "print(filteredList)"
      ],
      "id": "embedded-shareware",
      "execution_count": null,
      "outputs": [
        {
          "name": "stdout",
          "output_type": "stream",
          "text": [
            "[402, 984, 360, 408, 980, 544, 390, 984, 592, 236, 942, 386, 462, 418, 344, 236, 566, 978, 328, 162, 758, 918]\n"
          ]
        }
      ]
    }
  ]
}